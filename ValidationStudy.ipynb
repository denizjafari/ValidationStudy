{
 "cells": [
  {
   "cell_type": "markdown",
   "metadata": {},
   "source": [
    "# Validation Study "
   ]
  },
  {
   "cell_type": "markdown",
   "metadata": {},
   "source": [
    "we have 8 sensors 0-7, but sensor 1 is not connected, ie to tal of seven sensor data with sensor 1 being dead"
   ]
  },
  {
   "cell_type": "code",
   "execution_count": 1,
   "metadata": {},
   "outputs": [],
   "source": [
    "%matplotlib inline\n"
   ]
  },
  {
   "cell_type": "code",
   "execution_count": 2,
   "metadata": {},
   "outputs": [],
   "source": [
    "import os\n",
    "import pandas as pd\n",
    "from pandas import DataFrame\n",
    "import math\n",
    "import numpy as np\n",
    "import matplotlib\n",
    "import matplotlib.pyplot as plt\n",
    "from mpl_toolkits.mplot3d import Axes3D\n",
    "import matplotlib.animation as animation\n",
    "#import seaborn as sns"
   ]
  },
  {
   "cell_type": "code",
   "execution_count": 3,
   "metadata": {},
   "outputs": [],
   "source": [
    "# reading data into dataframes \n",
    "\n",
    "path = os.getcwd()+\"\\RM_3_20191101\\WAVE\"\n",
    "\n",
    "REST_DF_0 = pd.read_csv(path + \"\\RM_3_20191101\\RM_3_20191101_001_REST.tsv\", delimiter='\\t', skiprows=1,header=None)\n",
    "REST_DF_1 = pd.read_csv(path + \"\\RM_3_20191101\\RM_3_20191101_002_REST_1.tsv\", delimiter='\\t', skiprows=1,header=None)\n",
    "\n",
    "OPEN_DF_HOL_0 = pd.read_csv(path +\"\\RM_3_20191101\\RM_3_20191101_003_OPEN_HOLD.tsv\", delimiter='\\t', skiprows=1,header=None)\n",
    "OPEN_DF_HOL_1 = pd.read_csv(path +\"\\RM_3_20191101\\RM_3_20191101_004_OPEN_HOLD_1.tsv\", delimiter='\\t', skiprows=1,header=None)\n",
    "#BIGSMILE_DF = pd.read_csv('RM_1_20190913_004_BIGSMILE.tsv', delimiter='\\t', skiprows=1,header=None)"
   ]
  },
  {
   "cell_type": "code",
   "execution_count": 4,
   "metadata": {},
   "outputs": [],
   "source": [
    "def cleaning_df(DF):\n",
    "    # dropping columns with no value\n",
    "    #DF = DF.dropna(axis =1) \n",
    "    # dropping wave id column\n",
    "    DF = DF.drop(columns = 2, axis =1)\n",
    "    # name the first sensor columns \n",
    "    cols_0={0: \"Time\", 1: \"FrameID\", 3: \"SensorID\", 4: \"Sensor_1Status\", 5: \"X_Nose\", 6: \"Y_Nose\", 7:\"Z_Nose\"}\n",
    "    DF = DF.rename(columns=cols_0, errors=\"raise\")\n",
    "    DF = DF.drop(columns = [8,9,10, 11], axis =1)\n",
    "    \n",
    "    DF = DF.drop(columns = [12,13,14,15,16,17,18,19,20], axis =1)\n",
    "    cols_1={21: \"SensorID\", 22: \"Sensor_2Status\", 23: \"X_LLeft\", 24: \"Y_LLeft\", 25:\"Z_LLeft\"}\n",
    "    DF = DF.rename(columns=cols_1, errors=\"raise\")\n",
    "    \n",
    "    DF = DF.drop(columns = [26,27,28,29], axis =1)\n",
    "    cols_2={30: \"SensorID\", 31: \"Sensor_3Status\", 32: \"X_LR\", 33: \"Y_LR\", 34:\"Z_LR\"}\n",
    "    DF = DF.rename(columns=cols_2, errors=\"raise\")\n",
    "    \n",
    "    DF = DF.drop(columns = [35,36,37,38], axis =1)\n",
    "    cols_3={39: \"SensorID\", 40: \"Sensor_4Status\", 41: \"X_UL\", 42: \"Y_UL\", 43:\"Z_UL\"}\n",
    "    DF = DF.rename(columns=cols_3, errors=\"raise\")\n",
    "    \n",
    "    DF = DF.drop(columns = [44,44,46,47], axis =1)\n",
    "    cols_4={48: \"SensorID\", 49: \"Sensor_5Status\", 50: \"X_LL\", 51: \"Y_LL\", 52:\"Z_LL\"}\n",
    "    DF = DF.rename(columns=cols_4, errors=\"raise\")\n",
    "    \n",
    "    DF = DF.drop(columns = [53,54,55,56], axis =1)\n",
    "    cols_5={57: \"SensorID\", 58: \"Sensor_6Status\", 59: \"X_JR\", 60: \"Y_JR\", 61:\"Z_JR\"}\n",
    "    DF = DF.rename(columns=cols_5, errors=\"raise\")\n",
    "    \n",
    "    DF = DF.drop(columns = [62,63,64,65], axis =1)\n",
    "    cols_6={66: \"SensorID\", 67: \"Senson_7Status\", 68: \"X_JL\", 69: \"Y_JL\", 70:\"Z_JL\"}\n",
    "    DF = DF.rename(columns=cols_6, errors=\"raise\")\n",
    "    DF = DF.drop(columns = [71,72,73,74], axis =1)\n",
    "    return DF"
   ]
  },
  {
   "cell_type": "code",
   "execution_count": 5,
   "metadata": {},
   "outputs": [],
   "source": [
    "REST_DF_0 = cleaning_df(REST_DF_0)\n",
    "REST_DF_1 = cleaning_df(REST_DF_1)\n",
    "\n",
    "OPEN_DF_HOL_0 = cleaning_df(OPEN_DF_HOL_0)\n",
    "OPEN_DF_HOL_1 = cleaning_df(OPEN_DF_HOL_1)\n",
    "\n",
    "#BIGSMILE_DF = cleaning_df(BIGSMILE_DF)"
   ]
  },
  {
   "cell_type": "code",
   "execution_count": 6,
   "metadata": {},
   "outputs": [],
   "source": [
    "def LipEdgeDist(DF):\n",
    "    DF['Horiz_Lip_Motion'] = DF.apply(lambda row: math.sqrt((row.X_LLeft - row.X_LR)**2 + (row.Y_LLeft - row.Y_LR)**2\n",
    "                                                                  + (row.Z_LLeft - row.Z_LR)**2), axis = 1) \n",
    "    DF['Vert_Lip_Motion'] = DF.apply(lambda row: math.sqrt((row.X_UL - row.X_LL)**2 + (row.Y_UL - row.Y_LL)**2 +\n",
    "                                                                 (row.Z_UL - row.Z_LL)**2), axis = 1) \n",
    "    return DF"
   ]
  },
  {
   "cell_type": "code",
   "execution_count": 7,
   "metadata": {},
   "outputs": [],
   "source": [
    "REST_DF_0 = LipEdgeDist(REST_DF_0)\n",
    "REST_DF_1 = LipEdgeDist(REST_DF_1)\n",
    "\n",
    "OPEN_DF_HOL_0 = LipEdgeDist(OPEN_DF_HOL_0)\n",
    "OPEN_DF_HOL_1 = LipEdgeDist(OPEN_DF_HOL_1)\n",
    "\n",
    "#BIGSMILE_DF = LipEdgeDist(BIGSMILE_DF)"
   ]
  },
  {
   "cell_type": "code",
   "execution_count": 8,
   "metadata": {},
   "outputs": [
    {
     "ename": "NameError",
     "evalue": "name 'OPEN_DF' is not defined",
     "output_type": "error",
     "traceback": [
      "\u001b[1;31m---------------------------------------------------------------------------\u001b[0m",
      "\u001b[1;31mNameError\u001b[0m                                 Traceback (most recent call last)",
      "\u001b[1;32m<ipython-input-8-aa3cd77b7ad2>\u001b[0m in \u001b[0;36m<module>\u001b[1;34m\u001b[0m\n\u001b[0;32m      1\u001b[0m \u001b[0mheader\u001b[0m \u001b[1;33m=\u001b[0m \u001b[1;33m[\u001b[0m\u001b[1;34m\"Time\"\u001b[0m\u001b[1;33m,\u001b[0m \u001b[1;34m'Horiz_Lip_Motion'\u001b[0m\u001b[1;33m,\u001b[0m \u001b[1;34m'Vert_Lip_Motion'\u001b[0m\u001b[1;33m]\u001b[0m\u001b[1;33m\u001b[0m\u001b[1;33m\u001b[0m\u001b[0m\n\u001b[0;32m      2\u001b[0m \u001b[1;33m\u001b[0m\u001b[0m\n\u001b[1;32m----> 3\u001b[1;33m \u001b[0mOPEN_DF\u001b[0m\u001b[1;33m.\u001b[0m\u001b[0mto_csv\u001b[0m\u001b[1;33m(\u001b[0m\u001b[1;34m'open_sensor_results.csv'\u001b[0m\u001b[1;33m,\u001b[0m \u001b[0mcolumns\u001b[0m \u001b[1;33m=\u001b[0m \u001b[0mheader\u001b[0m\u001b[1;33m)\u001b[0m\u001b[1;33m\u001b[0m\u001b[1;33m\u001b[0m\u001b[0m\n\u001b[0m\u001b[0;32m      4\u001b[0m \u001b[1;33m\u001b[0m\u001b[0m\n\u001b[0;32m      5\u001b[0m \u001b[0mBIGSMILE_DF\u001b[0m\u001b[1;33m.\u001b[0m\u001b[0mto_csv\u001b[0m\u001b[1;33m(\u001b[0m\u001b[1;34m'bigsmile_sensor_results.csv'\u001b[0m\u001b[1;33m,\u001b[0m \u001b[0mcolumns\u001b[0m \u001b[1;33m=\u001b[0m \u001b[0mheader\u001b[0m\u001b[1;33m)\u001b[0m\u001b[1;33m\u001b[0m\u001b[1;33m\u001b[0m\u001b[0m\n",
      "\u001b[1;31mNameError\u001b[0m: name 'OPEN_DF' is not defined"
     ]
    }
   ],
   "source": [
    "header = [\"Time\", 'Horiz_Lip_Motion', 'Vert_Lip_Motion']\n",
    "\n",
    "OPEN_DF.to_csv('open_sensor_results.csv', columns = header)\n",
    "\n",
    "BIGSMILE_DF.to_csv('bigsmile_sensor_results.csv', columns = header)\n",
    "\n",
    "REST_DF.to_csv('rest_sensor_results.csv', columns = header)"
   ]
  },
  {
   "cell_type": "code",
   "execution_count": null,
   "metadata": {},
   "outputs": [],
   "source": [
    "REST_DF.plot(x='FrameID', y='Horiz_Lip_Motion', style='o')"
   ]
  },
  {
   "cell_type": "code",
   "execution_count": null,
   "metadata": {},
   "outputs": [],
   "source": [
    "REST_DF.plot(x='Time', y='Vert_Lip_Motion', style='o')"
   ]
  },
  {
   "cell_type": "code",
   "execution_count": null,
   "metadata": {},
   "outputs": [],
   "source": [
    "BIGSMILE_DF.plot(x='FrameID', y='Horiz_Lip_Motion', style='o')"
   ]
  },
  {
   "cell_type": "code",
   "execution_count": null,
   "metadata": {},
   "outputs": [],
   "source": [
    "OPEN_DF_0.plot(x='FrameID', y='Horiz_Lip_Motion', style='o')"
   ]
  },
  {
   "cell_type": "code",
   "execution_count": null,
   "metadata": {},
   "outputs": [],
   "source": [
    "OPEN_DF_1.plot(x='FrameID', y='Horiz_Lip_Motion', style='o')"
   ]
  },
  {
   "cell_type": "code",
   "execution_count": null,
   "metadata": {},
   "outputs": [],
   "source": [
    "OPEN_DF_0.plot(x='Time', y=['Vert_Lip_Motion','Horiz_Lip_Motion'] , style='o')\n",
    "x = 2\n",
    "plt.savefig('%d'%x)"
   ]
  },
  {
   "cell_type": "code",
   "execution_count": null,
   "metadata": {},
   "outputs": [],
   "source": [
    "OPEN_DF_1.plot(x='Time', y='Vert_Lip_Motion', style='o')\n",
    "x = 2\n",
    "plt.savefig('%d'%x)"
   ]
  },
  {
   "cell_type": "code",
   "execution_count": null,
   "metadata": {},
   "outputs": [],
   "source": [
    "%matplotlib inline\n",
    "\n",
    "fig = plt.figure()\n",
    "ax = fig.add_subplot(111, projection='3d')\n",
    "\n",
    "ax.set_xlabel(\"x\")\n",
    "ax.set_ylabel(\"y\")\n",
    "ax.set_zlabel(\"z\")\n",
    "\n",
    "for frame in range(OPEN_DF.shape[0]):\n",
    "    ax.clear()\n",
    "    data=OPEN_DF.iloc[[frame]]\n",
    "    ax.scatter(data[\"X_LLeft\"],data[\"Y_LLeft\"], data[\"Z_LLeft\"], color=\"r\", label=\"Left Lip\")\n",
    "    ax.scatter(data[\"X_LR\"],data[\"Y_LR\"], data[\"Z_LR\"], color=\"g\", label=\"Right Lip\")\n",
    "    ax.scatter(data[\"X_UL\"],data[\"Y_UL\"], data[\"Z_UL\"], color=\"b\", label=\"Upper Lip\")\n",
    "    ax.scatter(data[\"X_LL\"],data[\"Y_LL\"], data[\"Z_LL\"], color=\"b\", label=\"Lower Lip\")\n",
    "    plt.savefig('fig_results/%d.png'%frame, bbox_inches='tight')\n",
    "\n",
    "    "
   ]
  },
  {
   "cell_type": "code",
   "execution_count": null,
   "metadata": {
    "scrolled": true
   },
   "outputs": [],
   "source": [
    "%matplotlib inline\n",
    "\n",
    "fig = plt.figure()\n",
    "ax = fig.add_subplot(111, projection='3d')\n",
    "\n",
    "ax.set_xlabel(\"x\")\n",
    "ax.set_ylabel(\"y\")\n",
    "ax.set_zlabel(\"z\")\n",
    "\n",
    "\n",
    "def connectpoints(DF_data, p1_sensor=\"\",p2_sensor=\"\"):\n",
    "    # the choices are LLEFT, LR, LL, LU in string format\n",
    "    x1 = data.iloc[0][\"X_%s\"%p1_sensor]\n",
    "    y1 = data.iloc[0][\"Y_%s\"%p1_sensor]\n",
    "    z1 = data.iloc[0][\"Z_%s\"%p1_sensor]\n",
    "\n",
    "    x2 = data.iloc[0][\"X_%s\"%p2_sensor]\n",
    "    y2 = data.iloc[0][\"Y_%s\"%p2_sensor]\n",
    "    z2 = data.iloc[0][\"Z_%s\"%p2_sensor]\n",
    "\n",
    "    plt.plot([x1,x2],[y1,y2],[z1,z2],'k-')\n",
    "\n",
    "\n",
    "\n",
    "for frame in range(OPEN_DF.shape[0]):\n",
    "    ax.clear()\n",
    "    data=OPEN_DF.iloc[[frame]]\n",
    "    ax.scatter(data[\"X_LLeft\"],data[\"Y_LLeft\"], data[\"Z_LLeft\"], color=\"b\", label=\"Left Lip\")\n",
    "    ax.scatter(data[\"X_LR\"],data[\"Y_LR\"], data[\"Z_LR\"], color=\"g\",label=\"Right Lip\")\n",
    "    ax.scatter(data[\"X_UL\"],data[\"Y_UL\"], data[\"Z_UL\"], color=\"r\",label=\"Upper Lip\")\n",
    "    ax.scatter(data[\"X_LL\"],data[\"Y_LL\"], data[\"Z_LL\"], color=\"black\",label=\"Lower Lip\")\n",
    "   \n",
    "\n",
    "    connectpoints(data, \"LLeft\", \"UL\")\n",
    "    connectpoints(data, \"LLeft\", \"LL\")\n",
    "    connectpoints(data, p1_sensor=\"LR\", p2_sensor=\"UL\")\n",
    "    connectpoints(data, p1_sensor=\"LR\", p2_sensor=\"LL\")\n",
    "    #connectpoints(data, p1_sensor=\"UL\", p2_sensor=\"LL\")\n",
    "    connectpoints(data, p1_sensor=\"LLeft\", p2_sensor=\"LR\")\n",
    "    \n",
    "    ax.set_xlim(-40, 40)\n",
    "    ax.set_ylim(-90, -30)\n",
    "    ax.set_zlim(-290, -200)\n",
    "    \n",
    "    ax.view_init(elev=-90, azim=-30)\n",
    "    plt.savefig('fig_results_open/%d.png'%frame, bbox_inches='tight')\n",
    "\n",
    "    \n",
    "\n",
    "#connectpoints(x,y,z,2,3)\n",
    "\n",
    "\n"
   ]
  },
  {
   "cell_type": "code",
   "execution_count": null,
   "metadata": {},
   "outputs": [],
   "source": [
    "%matplotlib notebook\n",
    "%matplotlib notebook\n",
    "\n",
    "fig = plt.figure()\n",
    "ax = fig.add_subplot(111, projection='3d')\n",
    "\n",
    "ax.set_xlabel(\"x\")\n",
    "ax.set_ylabel(\"y\")\n",
    "ax.set_zlabel(\"z\")\n",
    "\n",
    "def connectpoints(DF_data, p1_sensor=\"\",p2_sensor=\"\"):\n",
    "    # the choices are LLEFT, LR, LL, LU in string format\n",
    "    x1 = data.iloc[0][\"X_%s\"%p1_sensor]\n",
    "    y1 = data.iloc[0][\"Y_%s\"%p1_sensor]\n",
    "    z1 = data.iloc[0][\"Z_%s\"%p1_sensor]\n",
    "\n",
    "    x2 = data.iloc[0][\"X_%s\"%p2_sensor]\n",
    "    y2 = data.iloc[0][\"Y_%s\"%p2_sensor]\n",
    "    z2 = data.iloc[0][\"Z_%s\"%p2_sensor]\n",
    "\n",
    "    plt.plot([x1,x2],[y1,y2],[z1,z2],'k-')\n",
    "    \n",
    "data=OPEN_DF.iloc[[1000]]\n",
    "ax.scatter(data[\"X_LLeft\"],data[\"Y_LLeft\"], data[\"Z_LLeft\"], color=\"b\", label=\"Left Lip\")\n",
    "ax.scatter(data[\"X_LR\"],data[\"Y_LR\"], data[\"Z_LR\"], color=\"g\",label=\"Right Lip\")\n",
    "ax.scatter(data[\"X_UL\"],data[\"Y_UL\"], data[\"Z_UL\"], color=\"r\",label=\"Upper Lip\")\n",
    "ax.scatter(data[\"X_LL\"],data[\"Y_LL\"], data[\"Z_LL\"], color=\"black\",label=\"Lower Lip\")\n",
    "\n",
    "\n",
    "connectpoints(data, \"LLeft\", \"UL\")\n",
    "connectpoints(data, \"LLeft\", \"LL\")\n",
    "connectpoints(data, p1_sensor=\"LR\", p2_sensor=\"UL\")\n",
    "connectpoints(data, p1_sensor=\"LR\", p2_sensor=\"LL\")\n",
    "#connectpoints(data, p1_sensor=\"UL\", p2_sensor=\"LL\")\n",
    "connectpoints(data, p1_sensor=\"LLeft\", p2_sensor=\"LR\")\n",
    "\n",
    "ax.set_xlim(-40, 40)\n",
    "ax.set_ylim(-90, -30)\n",
    "ax.set_zlim(-290, -200)\n",
    "print (ax.azim)\n",
    "ax.view_init(elev=-90, azim=-30)"
   ]
  },
  {
   "cell_type": "code",
   "execution_count": null,
   "metadata": {},
   "outputs": [],
   "source": [
    "OPEN_DF[[\"Time\", \"X_LLeft\",\"Y_LLeft\",\"Z_LLeft\", \"X_LR\",\"Y_LR\",\"Z_LR\",\"X_UL\", \"Y_UL\", \"Z_UL\",\"X_LL\",\"Y_LL\",\"Z_LL\"]].describe()\n",
    "\n",
    "\n"
   ]
  },
  {
   "cell_type": "code",
   "execution_count": null,
   "metadata": {},
   "outputs": [],
   "source": [
    "%matplotlib notebook\n",
    "%matplotlib notebook\n",
    "\n",
    "fig = plt.figure()\n",
    "ax = fig.add_subplot(111, projection='3d')\n",
    "\n",
    "\n",
    "ax.set_xlabel(\"x\")\n",
    "ax.set_ylabel(\"y\")\n",
    "ax.set_zlabel(\"z\")\n",
    "\n",
    "\n",
    "def connectpoints(DF_data, p1_sensor=\"\",p2_sensor=\"\"):\n",
    "    # the choices are LLEFT, LR, LL, LU in string format\n",
    "    x1 = data.iloc[0][\"X_%s\"%p1_sensor]\n",
    "    y1 = data.iloc[0][\"Y_%s\"%p1_sensor]\n",
    "    z1 = data.iloc[0][\"Z_%s\"%p1_sensor]\n",
    "\n",
    "    x2 = data.iloc[0][\"X_%s\"%p2_sensor]\n",
    "    y2 = data.iloc[0][\"Y_%s\"%p2_sensor]\n",
    "    z2 = data.iloc[0][\"Z_%s\"%p2_sensor]\n",
    "\n",
    "    plt.plot([x1,x2],[y1,y2],[z1,z2],'k-')\n",
    "\n",
    "\n",
    "\n",
    "\n",
    "data=OPEN_DF.iloc[[frame]]\n",
    "ax.scatter(data[\"X_LLeft\"],data[\"Y_LLeft\"], data[\"Z_LLeft\"], color=\"b\", label=\"Left Lip\")\n",
    "ax.scatter(data[\"X_LR\"],data[\"Y_LR\"], data[\"Z_LR\"], color=\"g\",label=\"Right Lip\")\n",
    "ax.scatter(data[\"X_UL\"],data[\"Y_UL\"], data[\"Z_UL\"], color=\"r\",label=\"Upper Lip\")\n",
    "ax.scatter(data[\"X_LL\"],data[\"Y_LL\"], data[\"Z_LL\"], color=\"black\",label=\"Lower Lip\")\n",
    "\n",
    "\n",
    "#connectpoints(data, \"LLeft\", \"UL\")\n",
    "#connectpoints(data, \"LLeft\", \"LL\")\n",
    "#connectpoints(data, p1_sensor=\"LR\", p2_sensor=\"UL\")\n",
    "#connectpoints(data, p1_sensor=\"LR\", p2_sensor=\"LL\")\n",
    "#connectpoints(data, p1_sensor=\"UL\", p2_sensor=\"LL\")\n",
    "#connectpoints(data, p1_sensor=\"LLeft\", p2_sensor=\"LR\")\n",
    "plt.show()\n",
    "\n",
    "    "
   ]
  },
  {
   "cell_type": "code",
   "execution_count": null,
   "metadata": {},
   "outputs": [],
   "source": [
    "nfr = len(OPEN_DF) # Number of frames\n",
    "fps = 10 # Frame per sec\n",
    "\n",
    "xs = []\n",
    "ys = []\n",
    "zs = []\n",
    "ss = np.arange(1,nfr,1)\n",
    "for s in ss:\n",
    "    xs.append(np.array((OPEN_DF.iloc[0][\"X_UL\"], OPEN_DF.iloc[0][\"X_LL\"], OPEN_DF.iloc[0][\"X_LLeft\"],OPEN_DF.iloc[0][\"X_LR\"])))\n",
    "    ys.append(np.array((OPEN_DF.iloc[0][\"X_UL\"], OPEN_DF.iloc[0][\"X_LL\"], OPEN_DF.iloc[0][\"X_LLeft\"],OPEN_DF.iloc[0][\"X_LR\"])))\n",
    "    zs.append(np.array((OPEN_DF.iloc[0][\"X_UL\"], OPEN_DF.iloc[0][\"X_LL\"], OPEN_DF.iloc[0][\"X_LLeft\"],OPEN_DF.iloc[0][\"X_LR\"])))\n",
    "   \n"
   ]
  },
  {
   "cell_type": "code",
   "execution_count": null,
   "metadata": {},
   "outputs": [],
   "source": [
    "%matplotlib notebook\n",
    "%matplotlib notebook\n",
    "fig =  plt.figure()\n",
    "ax = fig.add_subplot(111, projection='3d')\n",
    "sct, = ax.plot([], [], [], \"o\", markersize=2)\n",
    "def update(ifrm, xa, ya, za):\n",
    "    sct.set_data(xa[ifrm], ya[ifrm])\n",
    "    sct.set_3d_properties(za[ifrm])\n",
    "ax.set_xlim(-100,100)\n",
    "ax.set_ylim(-100,100)\n",
    "ax.set_zlim(-100,100)\n",
    "ani = animation.FuncAnimation(fig, update, nfr, fargs=(xs,ys,zs), interval=1000/fps,  repeat=False, blit=False)\n"
   ]
  }
 ],
 "metadata": {
  "kernelspec": {
   "display_name": "Python 3",
   "language": "python",
   "name": "python3"
  },
  "language_info": {
   "codemirror_mode": {
    "name": "ipython",
    "version": 3
   },
   "file_extension": ".py",
   "mimetype": "text/x-python",
   "name": "python",
   "nbconvert_exporter": "python",
   "pygments_lexer": "ipython3",
   "version": "3.7.3"
  }
 },
 "nbformat": 4,
 "nbformat_minor": 2
}
