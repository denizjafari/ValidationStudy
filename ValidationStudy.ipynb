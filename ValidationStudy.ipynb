{
 "cells": [
  {
   "cell_type": "markdown",
   "metadata": {},
   "source": [
    "# Validation Study "
   ]
  },
  {
   "cell_type": "markdown",
   "metadata": {},
   "source": [
    "we have 8 sensors 0-7, but sensor 1 is not connected, ie to tal of seven sensor data with sensor 1 being dead"
   ]
  },
  {
   "cell_type": "code",
   "execution_count": 1,
   "metadata": {},
   "outputs": [],
   "source": [
    "%matplotlib inline\n"
   ]
  },
  {
   "cell_type": "code",
   "execution_count": 2,
   "metadata": {},
   "outputs": [],
   "source": [
    "import os\n",
    "import pandas as pd\n",
    "from pandas import DataFrame\n",
    "import math\n",
    "import numpy as np\n",
    "import matplotlib\n",
    "import matplotlib.pyplot as plt\n",
    "from mpl_toolkits.mplot3d import Axes3D\n",
    "import matplotlib.animation as animation\n",
    "#import seaborn as sns"
   ]
  },
  {
   "cell_type": "code",
   "execution_count": 3,
   "metadata": {},
   "outputs": [],
   "source": [
    "# reading data into dataframes \n",
    "\n",
    "path = os.getcwd()+\"\\RM_3_20191101\\WAVE\"\n",
    "\n",
    "REST_DF_0 = pd.read_csv(path + \"\\RM_3_20191101\\RM_3_20191101_001_REST.tsv\", delimiter='\\t', skiprows=1,header=None)\n",
    "REST_DF_1 = pd.read_csv(path + \"\\RM_3_20191101\\RM_3_20191101_002_REST_1.tsv\", delimiter='\\t', skiprows=1,header=None)\n",
    "\n",
    "OPEN_DF_HOL_0 = pd.read_csv(path +\"\\RM_3_20191101\\RM_3_20191101_003_OPEN_HOLD.tsv\", delimiter='\\t', skiprows=1,header=None)\n",
    "OPEN_DF_HOL_1 = pd.read_csv(path +\"\\RM_3_20191101\\RM_3_20191101_004_OPEN_HOLD_1.tsv\", delimiter='\\t', skiprows=1,header=None)\n",
    "#BIGSMILE_DF = pd.read_csv('RM_1_20190913_004_BIGSMILE.tsv', delimiter='\\t', skiprows=1,header=None)"
   ]
  },
  {
   "cell_type": "code",
   "execution_count": 4,
   "metadata": {},
   "outputs": [],
   "source": [
    "def cleaning_df(DF):\n",
    "    # dropping columns with no value\n",
    "    #DF = DF.dropna(axis =1) \n",
    "    # dropping wave id column\n",
    "    DF = DF.drop(columns = 2, axis =1)\n",
    "    # name the first sensor columns \n",
    "    cols_0={0: \"Time\", 1: \"FrameID\", 3: \"SensorID\", 4: \"Sensor_1Status\", 5: \"X_Nose\", 6: \"Y_Nose\", 7:\"Z_Nose\"}\n",
    "    DF = DF.rename(columns=cols_0, errors=\"raise\")\n",
    "    DF = DF.drop(columns = [8,9,10, 11], axis =1)\n",
    "    \n",
    "    DF = DF.drop(columns = [12,13,14,15,16,17,18,19,20], axis =1)\n",
    "    cols_1={21: \"SensorID\", 22: \"Sensor_2Status\", 23: \"X_LLeft\", 24: \"Y_LLeft\", 25:\"Z_LLeft\"}\n",
    "    DF = DF.rename(columns=cols_1, errors=\"raise\")\n",
    "    \n",
    "    DF = DF.drop(columns = [26,27,28,29], axis =1)\n",
    "    cols_2={30: \"SensorID\", 31: \"Sensor_3Status\", 32: \"X_LR\", 33: \"Y_LR\", 34:\"Z_LR\"}\n",
    "    DF = DF.rename(columns=cols_2, errors=\"raise\")\n",
    "    \n",
    "    DF = DF.drop(columns = [35,36,37,38], axis =1)\n",
    "    cols_3={39: \"SensorID\", 40: \"Sensor_4Status\", 41: \"X_UL\", 42: \"Y_UL\", 43:\"Z_UL\"}\n",
    "    DF = DF.rename(columns=cols_3, errors=\"raise\")\n",
    "    \n",
    "    DF = DF.drop(columns = [44,44,46,47], axis =1)\n",
    "    cols_4={48: \"SensorID\", 49: \"Sensor_5Status\", 50: \"X_LL\", 51: \"Y_LL\", 52:\"Z_LL\"}\n",
    "    DF = DF.rename(columns=cols_4, errors=\"raise\")\n",
    "    \n",
    "    DF = DF.drop(columns = [53,54,55,56], axis =1)\n",
    "    cols_5={57: \"SensorID\", 58: \"Sensor_6Status\", 59: \"X_JR\", 60: \"Y_JR\", 61:\"Z_JR\"}\n",
    "    DF = DF.rename(columns=cols_5, errors=\"raise\")\n",
    "    \n",
    "    DF = DF.drop(columns = [62,63,64,65], axis =1)\n",
    "    cols_6={66: \"SensorID\", 67: \"Senson_7Status\", 68: \"X_JL\", 69: \"Y_JL\", 70:\"Z_JL\"}\n",
    "    DF = DF.rename(columns=cols_6, errors=\"raise\")\n",
    "    DF = DF.drop(columns = [71,72,73,74], axis =1)\n",
    "    return DF"
   ]
  },
  {
   "cell_type": "code",
   "execution_count": 5,
   "metadata": {},
   "outputs": [],
   "source": [
    "REST_DF_0 = cleaning_df(REST_DF_0)\n",
    "REST_DF_1 = cleaning_df(REST_DF_1)\n",
    "\n",
    "OPEN_DF_HOL_0 = cleaning_df(OPEN_DF_HOL_0)\n",
    "OPEN_DF_HOL_1 = cleaning_df(OPEN_DF_HOL_1)\n",
    "\n",
    "#BIGSMILE_DF = cleaning_df(BIGSMILE_DF)"
   ]
  },
  {
   "cell_type": "code",
   "execution_count": 6,
   "metadata": {},
   "outputs": [],
   "source": [
    "def LipEdgeDist(DF):\n",
    "    DF['Horiz_Lip_Motion'] = DF.apply(lambda row: math.sqrt((row.X_LLeft - row.X_LR)**2 + (row.Y_LLeft - row.Y_LR)**2\n",
    "                                                                  + (row.Z_LLeft - row.Z_LR)**2), axis = 1) \n",
    "    DF['Vert_Lip_Motion'] = DF.apply(lambda row: math.sqrt((row.X_UL - row.X_LL)**2 + (row.Y_UL - row.Y_LL)**2 +\n",
    "                                                                 (row.Z_UL - row.Z_LL)**2), axis = 1) \n",
    "    return DF"
   ]
  },
  {
   "cell_type": "code",
   "execution_count": 7,
   "metadata": {},
   "outputs": [],
   "source": [
    "REST_DF_0 = LipEdgeDist(REST_DF_0)\n",
    "REST_DF_1 = LipEdgeDist(REST_DF_1)\n",
    "\n",
    "OPEN_DF_HOL_0 = LipEdgeDist(OPEN_DF_HOL_0)\n",
    "OPEN_DF_HOL_1 = LipEdgeDist(OPEN_DF_HOL_1)\n",
    "\n",
    "#BIGSMILE_DF = LipEdgeDist(BIGSMILE_DF)"
   ]
  },
  {
   "cell_type": "code",
   "execution_count": 8,
   "metadata": {},
   "outputs": [],
   "source": [
    "# WRITE THE DATA TO A SCV FILE \n",
    "\n",
    "#header = [\"Time\", 'Horiz_Lip_Motion', 'Vert_Lip_Motion']\n",
    "#OPEN_DF.to_csv('open_sensor_results.csv', columns = header)\n",
    "#BIGSMILE_DF.to_csv('bigsmile_sensor_results.csv', columns = header)\n",
    "#REST_DF.to_csv('rest_sensor_results.csv', columns = header)"
   ]
  },
  {
   "cell_type": "markdown",
   "metadata": {},
   "source": [
    "Plotting the horizontal and vertical distances "
   ]
  },
  {
   "cell_type": "code",
   "execution_count": 11,
   "metadata": {},
   "outputs": [
    {
     "data": {
      "text/plain": [
       "<matplotlib.axes._subplots.AxesSubplot at 0x1efbdb87dd8>"
      ]
     },
     "execution_count": 11,
     "metadata": {},
     "output_type": "execute_result"
    },
    {
     "data": {
      "image/png": "[encoded data removed]",
      "text/plain": [
       "<Figure size 432x288 with 1 Axes>"
      ]
     },
     "metadata": {
      "needs_background": "light"
     },
     "output_type": "display_data"
    }
   ],
   "source": [
    "OPEN_DF_HOL_1.plot(x='FrameID', y=['Horiz_Lip_Motion', 'Vert_Lip_Motion'], style='o')"
   ]
  },
  {
   "cell_type": "code",
   "execution_count": 16,
   "metadata": {},
   "outputs": [
    {
     "data": {
      "text/plain": [
       "0      -70.158936\n",
       "1      -70.165497\n",
       "2      -70.160133\n",
       "3      -70.177475\n",
       "4      -70.186340\n",
       "          ...    \n",
       "2363   -65.674316\n",
       "2364   -65.668701\n",
       "2365   -65.665642\n",
       "2366   -65.656807\n",
       "2367   -65.653442\n",
       "Name: X_LR, Length: 2368, dtype: float64"
      ]
     },
     "execution_count": 16,
     "metadata": {},
     "output_type": "execute_result"
    }
   ],
   "source": [
    "OPEN_DF_HOL_1[\"X_LR\"]"
   ]
  },
  {
   "cell_type": "markdown",
   "metadata": {},
   "source": [
    "line segments and the area of the right and left triangles connecting the sensors together"
   ]
  },
  {
   "cell_type": "code",
   "execution_count": 19,
   "metadata": {},
   "outputs": [],
   "source": [
    "\n",
    "def triangleArea(DF):\n",
    "    # the choices are LLEFT, LR, LL, LU in string format\n",
    "    DF[\"DownToLeft\"] = DF.apply(lambda row: math.sqrt((row.X_LLeft - row.X_LL)**2 + (row.Y_LLeft - row.Y_LL)**2\n",
    "                                                                      + (row.Z_LLeft - row.Z_LL)**2), axis = 1)\n",
    "    \n",
    "    DF[\"UpToLeft\"] = DF.apply(lambda row: math.sqrt((row.X_LLeft - row.X_UL)**2 + (row.Y_LLeft - row.Y_UL)**2\n",
    "                                                                      + (row.Z_LLeft - row.Z_UL)**2), axis = 1)\n",
    "    \n",
    "    DF[\"DownToRight\"] = DF.apply(lambda row: math.sqrt((row.X_LR - row.X_LL)**2 + (row.Y_LR - row.Y_LL)**2 +\n",
    "                                                                 (row.Z_LR - row.Z_LL)**2), axis = 1) \n",
    "    \n",
    "    DF[\"UpToRight\"] = DF.apply(lambda row: math.sqrt((row.X_LR - row.X_UL)**2 + (row.Y_LR - row.Y_UL)**2 +\n",
    "                                                                 (row.Z_LR - row.Z_UL)**2), axis = 1) \n",
    "    \n",
    "    DF[\"HP_L\"] = DF.apply(lambda row: ((row.DownToLeft + row.UpToLeft + row.Vert_Lip_Motion)/2), axis = 1)\n",
    "        \n",
    "    DF[\"HP_R\"] = DF.apply(lambda row: ((row.DownToRight + row.UpToRight + row.Vert_Lip_Motion)/2), axis = 1)\n",
    "    \n",
    "    \n",
    "    DF[\"Area_Left\"] = DF.apply(lambda row:  math.sqrt(row.HP_L*(row.HP_L - row.DownToLeft)*(row.HP_L - row.UpToLeft)*\n",
    "                                                     (row.HP_L - row.Vert_Lip_Motion)), axis = 1)\n",
    "    \n",
    "    DF[\"Area_Right\"] = DF.apply(lambda row:  math.sqrt(row.HP_R*(row.HP_R - row.DownToRight)*(row.HP_R - row.UpToRight)*\n",
    "                                                     (row.HP_R - row.Vert_Lip_Motion)), axis = 1)\n",
    "    \n",
    "    DF[\"Area_Ratio\"] = DF.apply(lambda row: row.Area_Left/row.Area_Right, axis = 1)\n",
    "    \n",
    "    \n",
    "    return DF\n",
    "    \n",
    "    "
   ]
  },
  {
   "cell_type": "code",
   "execution_count": 20,
   "metadata": {},
   "outputs": [],
   "source": [
    "OPEN_DF_HOL_1 = triangleArea(OPEN_DF_HOL_1)"
   ]
  },
  {
   "cell_type": "code",
   "execution_count": 21,
   "metadata": {},
   "outputs": [
    {
     "data": {
      "text/html": [
       "<div>\n",
       "<style scoped>\n",
       "    .dataframe tbody tr th:only-of-type {\n",
       "        vertical-align: middle;\n",
       "    }\n",
       "\n",
       "    .dataframe tbody tr th {\n",
       "        vertical-align: top;\n",
       "    }\n",
       "\n",
       "    .dataframe thead th {\n",
       "        text-align: right;\n",
       "    }\n",
       "</style>\n",
       "<table border=\"1\" class=\"dataframe\">\n",
       "  <thead>\n",
       "    <tr style=\"text-align: right;\">\n",
       "      <th></th>\n",
       "      <th>Time</th>\n",
       "      <th>Vert_Lip_Motion</th>\n",
       "      <th>Horiz_Lip_Motion</th>\n",
       "      <th>Area_Left</th>\n",
       "      <th>Area_Right</th>\n",
       "      <th>Area_Ratio</th>\n",
       "    </tr>\n",
       "  </thead>\n",
       "  <tbody>\n",
       "    <tr>\n",
       "      <td>count</td>\n",
       "      <td>2368.000000</td>\n",
       "      <td>2368.000000</td>\n",
       "      <td>2368.000000</td>\n",
       "      <td>2368.000000</td>\n",
       "      <td>2368.000000</td>\n",
       "      <td>2368.000000</td>\n",
       "    </tr>\n",
       "    <tr>\n",
       "      <td>mean</td>\n",
       "      <td>11.860220</td>\n",
       "      <td>43.217148</td>\n",
       "      <td>59.506669</td>\n",
       "      <td>672.580285</td>\n",
       "      <td>698.306647</td>\n",
       "      <td>0.966469</td>\n",
       "    </tr>\n",
       "    <tr>\n",
       "      <td>std</td>\n",
       "      <td>6.831923</td>\n",
       "      <td>20.078110</td>\n",
       "      <td>5.930171</td>\n",
       "      <td>276.308438</td>\n",
       "      <td>291.903112</td>\n",
       "      <td>0.024118</td>\n",
       "    </tr>\n",
       "    <tr>\n",
       "      <td>min</td>\n",
       "      <td>0.034500</td>\n",
       "      <td>16.380783</td>\n",
       "      <td>50.642003</td>\n",
       "      <td>284.459923</td>\n",
       "      <td>297.371783</td>\n",
       "      <td>0.872163</td>\n",
       "    </tr>\n",
       "    <tr>\n",
       "      <td>25%</td>\n",
       "      <td>5.947325</td>\n",
       "      <td>18.462483</td>\n",
       "      <td>54.058103</td>\n",
       "      <td>322.366181</td>\n",
       "      <td>335.221885</td>\n",
       "      <td>0.950144</td>\n",
       "    </tr>\n",
       "    <tr>\n",
       "      <td>50%</td>\n",
       "      <td>11.860200</td>\n",
       "      <td>53.924261</td>\n",
       "      <td>56.543906</td>\n",
       "      <td>847.630151</td>\n",
       "      <td>865.743620</td>\n",
       "      <td>0.966926</td>\n",
       "    </tr>\n",
       "    <tr>\n",
       "      <td>75%</td>\n",
       "      <td>17.773100</td>\n",
       "      <td>62.366004</td>\n",
       "      <td>66.344169</td>\n",
       "      <td>929.820737</td>\n",
       "      <td>973.107571</td>\n",
       "      <td>0.982103</td>\n",
       "    </tr>\n",
       "    <tr>\n",
       "      <td>max</td>\n",
       "      <td>23.686000</td>\n",
       "      <td>67.896916</td>\n",
       "      <td>68.151060</td>\n",
       "      <td>1031.436275</td>\n",
       "      <td>1050.501083</td>\n",
       "      <td>1.061095</td>\n",
       "    </tr>\n",
       "  </tbody>\n",
       "</table>\n",
       "</div>"
      ],
      "text/plain": [
       "              Time  Vert_Lip_Motion  Horiz_Lip_Motion    Area_Left  \\\n",
       "count  2368.000000      2368.000000       2368.000000  2368.000000   \n",
       "mean     11.860220        43.217148         59.506669   672.580285   \n",
       "std       6.831923        20.078110          5.930171   276.308438   \n",
       "min       0.034500        16.380783         50.642003   284.459923   \n",
       "25%       5.947325        18.462483         54.058103   322.366181   \n",
       "50%      11.860200        53.924261         56.543906   847.630151   \n",
       "75%      17.773100        62.366004         66.344169   929.820737   \n",
       "max      23.686000        67.896916         68.151060  1031.436275   \n",
       "\n",
       "        Area_Right   Area_Ratio  \n",
       "count  2368.000000  2368.000000  \n",
       "mean    698.306647     0.966469  \n",
       "std     291.903112     0.024118  \n",
       "min     297.371783     0.872163  \n",
       "25%     335.221885     0.950144  \n",
       "50%     865.743620     0.966926  \n",
       "75%     973.107571     0.982103  \n",
       "max    1050.501083     1.061095  "
      ]
     },
     "execution_count": 21,
     "metadata": {},
     "output_type": "execute_result"
    }
   ],
   "source": [
    "OPEN_DF_HOL_1[[\"Time\",'Vert_Lip_Motion','Horiz_Lip_Motion', \"Area_Left\", \"Area_Right\", \"Area_Ratio\"]].describe()"
   ]
  },
  {
   "cell_type": "code",
   "execution_count": null,
   "metadata": {},
   "outputs": [],
   "source": [
    "REST_DF.plot(x='Time', y='Vert_Lip_Motion', style='o')"
   ]
  },
  {
   "cell_type": "code",
   "execution_count": null,
   "metadata": {},
   "outputs": [],
   "source": [
    "BIGSMILE_DF.plot(x='FrameID', y='Horiz_Lip_Motion', style='o')"
   ]
  },
  {
   "cell_type": "code",
   "execution_count": null,
   "metadata": {},
   "outputs": [],
   "source": [
    "OPEN_DF_0.plot(x='FrameID', y='Horiz_Lip_Motion', style='o')"
   ]
  },
  {
   "cell_type": "code",
   "execution_count": null,
   "metadata": {},
   "outputs": [],
   "source": [
    "OPEN_DF_1.plot(x='FrameID', y='Horiz_Lip_Motion', style='o')"
   ]
  },
  {
   "cell_type": "code",
   "execution_count": null,
   "metadata": {},
   "outputs": [],
   "source": [
    "OPEN_DF_0.plot(x='Time', y=['Vert_Lip_Motion','Horiz_Lip_Motion'] , style='o')\n",
    "x = 2\n",
    "plt.savefig('%d'%x)"
   ]
  },
  {
   "cell_type": "code",
   "execution_count": null,
   "metadata": {},
   "outputs": [],
   "source": [
    "OPEN_DF_1.plot(x='Time', y='Vert_Lip_Motion', style='o')\n",
    "x = 2\n",
    "plt.savefig('%d'%x)"
   ]
  },
  {
   "cell_type": "code",
   "execution_count": null,
   "metadata": {},
   "outputs": [],
   "source": [
    "%matplotlib inline\n",
    "\n",
    "fig = plt.figure()\n",
    "ax = fig.add_subplot(111, projection='3d')\n",
    "\n",
    "ax.set_xlabel(\"x\")\n",
    "ax.set_ylabel(\"y\")\n",
    "ax.set_zlabel(\"z\")\n",
    "\n",
    "for frame in range(OPEN_DF.shape[0]):\n",
    "    ax.clear()\n",
    "    data=OPEN_DF.iloc[[frame]]\n",
    "    ax.scatter(data[\"X_LLeft\"],data[\"Y_LLeft\"], data[\"Z_LLeft\"], color=\"r\", label=\"Left Lip\")\n",
    "    ax.scatter(data[\"X_LR\"],data[\"Y_LR\"], data[\"Z_LR\"], color=\"g\", label=\"Right Lip\")\n",
    "    ax.scatter(data[\"X_UL\"],data[\"Y_UL\"], data[\"Z_UL\"], color=\"b\", label=\"Upper Lip\")\n",
    "    ax.scatter(data[\"X_LL\"],data[\"Y_LL\"], data[\"Z_LL\"], color=\"b\", label=\"Lower Lip\")\n",
    "    plt.savefig('fig_results/%d.png'%frame, bbox_inches='tight')\n",
    "\n",
    "    "
   ]
  },
  {
   "cell_type": "code",
   "execution_count": 13,
   "metadata": {
    "scrolled": true
   },
   "outputs": [
    {
     "data": {
      "image/png": "[encoded data removed]",
      "text/plain": [
       "<Figure size 432x288 with 1 Axes>"
      ]
     },
     "metadata": {
      "needs_background": "light"
     },
     "output_type": "display_data"
    }
   ],
   "source": [
    "%matplotlib inline\n",
    "\n",
    "fig = plt.figure()\n",
    "ax = fig.add_subplot(111, projection='3d')\n",
    "\n",
    "ax.set_xlabel(\"x\")\n",
    "ax.set_ylabel(\"y\")\n",
    "ax.set_zlabel(\"z\")\n",
    "\n",
    "\n",
    "def connectpoints(DF_data, p1_sensor=\"\",p2_sensor=\"\"):\n",
    "    # the choices are LLEFT, LR, LL, LU in string format\n",
    "    x1 = data.iloc[0][\"X_%s\"%p1_sensor]\n",
    "    y1 = data.iloc[0][\"Y_%s\"%p1_sensor]\n",
    "    z1 = data.iloc[0][\"Z_%s\"%p1_sensor]\n",
    "\n",
    "    x2 = data.iloc[0][\"X_%s\"%p2_sensor]\n",
    "    y2 = data.iloc[0][\"Y_%s\"%p2_sensor]\n",
    "    z2 = data.iloc[0][\"Z_%s\"%p2_sensor]\n",
    "\n",
    "    plt.plot([x1,x2],[y1,y2],[z1,z2],'k-')\n",
    "\n",
    "\n",
    "def plotFrameGenerator(DF):\n",
    "    # GENERATE MOVIE OF THE SENSOR MOVEMENTS \n",
    "    for frame in range(DF.shape[0]):\n",
    "        ax.clear()\n",
    "        data=DF.iloc[[frame]]\n",
    "        ax.scatter(data[\"X_LLeft\"],data[\"Y_LLeft\"], data[\"Z_LLeft\"], color=\"b\", label=\"Left Lip\")\n",
    "        ax.scatter(data[\"X_LR\"],data[\"Y_LR\"], data[\"Z_LR\"], color=\"g\",label=\"Right Lip\")\n",
    "        ax.scatter(data[\"X_UL\"],data[\"Y_UL\"], data[\"Z_UL\"], color=\"r\",label=\"Upper Lip\")\n",
    "        ax.scatter(data[\"X_LL\"],data[\"Y_LL\"], data[\"Z_LL\"], color=\"black\",label=\"Lower Lip\")\n",
    "\n",
    "\n",
    "        connectpoints(data, \"LLeft\", \"UL\")\n",
    "        connectpoints(data, \"LLeft\", \"LL\")\n",
    "        connectpoints(data, p1_sensor=\"LR\", p2_sensor=\"UL\")\n",
    "        connectpoints(data, p1_sensor=\"LR\", p2_sensor=\"LL\")\n",
    "        #connectpoints(data, p1_sensor=\"UL\", p2_sensor=\"LL\")\n",
    "        connectpoints(data, p1_sensor=\"LLeft\", p2_sensor=\"LR\")\n",
    "\n",
    "        ax.set_xlim(-40, 40)\n",
    "        ax.set_ylim(-90, -30)\n",
    "        ax.set_zlim(-290, -200)\n",
    "\n",
    "        ax.view_init(elev=-90, azim=-30)\n",
    "        plt.savefig('fig_results/%d.png'%frame, bbox_inches='tight')\n"
   ]
  },
  {
   "cell_type": "code",
   "execution_count": null,
   "metadata": {},
   "outputs": [],
   "source": [
    "plotFrameGenerator(OPEN_DF_HOL_1)"
   ]
  },
  {
   "cell_type": "code",
   "execution_count": null,
   "metadata": {},
   "outputs": [],
   "source": [
    "%matplotlib notebook\n",
    "%matplotlib notebook\n",
    "\n",
    "fig = plt.figure()\n",
    "ax = fig.add_subplot(111, projection='3d')\n",
    "\n",
    "ax.set_xlabel(\"x\")\n",
    "ax.set_ylabel(\"y\")\n",
    "ax.set_zlabel(\"z\")\n",
    "\n",
    "def connectpoints(DF_data, p1_sensor=\"\",p2_sensor=\"\"):\n",
    "    # the choices are LLEFT, LR, LL, LU in string format\n",
    "    x1 = data.iloc[0][\"X_%s\"%p1_sensor]\n",
    "    y1 = data.iloc[0][\"Y_%s\"%p1_sensor]\n",
    "    z1 = data.iloc[0][\"Z_%s\"%p1_sensor]\n",
    "\n",
    "    x2 = data.iloc[0][\"X_%s\"%p2_sensor]\n",
    "    y2 = data.iloc[0][\"Y_%s\"%p2_sensor]\n",
    "    z2 = data.iloc[0][\"Z_%s\"%p2_sensor]\n",
    "\n",
    "    plt.plot([x1,x2],[y1,y2],[z1,z2],'k-')\n",
    "    \n",
    "data=OPEN_DF.iloc[[1000]]\n",
    "ax.scatter(data[\"X_LLeft\"],data[\"Y_LLeft\"], data[\"Z_LLeft\"], color=\"b\", label=\"Left Lip\")\n",
    "ax.scatter(data[\"X_LR\"],data[\"Y_LR\"], data[\"Z_LR\"], color=\"g\",label=\"Right Lip\")\n",
    "ax.scatter(data[\"X_UL\"],data[\"Y_UL\"], data[\"Z_UL\"], color=\"r\",label=\"Upper Lip\")\n",
    "ax.scatter(data[\"X_LL\"],data[\"Y_LL\"], data[\"Z_LL\"], color=\"black\",label=\"Lower Lip\")\n",
    "\n",
    "\n",
    "connectpoints(data, \"LLeft\", \"UL\")\n",
    "connectpoints(data, \"LLeft\", \"LL\")\n",
    "connectpoints(data, p1_sensor=\"LR\", p2_sensor=\"UL\")\n",
    "connectpoints(data, p1_sensor=\"LR\", p2_sensor=\"LL\")\n",
    "#connectpoints(data, p1_sensor=\"UL\", p2_sensor=\"LL\")\n",
    "connectpoints(data, p1_sensor=\"LLeft\", p2_sensor=\"LR\")\n",
    "\n",
    "ax.set_xlim(-40, 40)\n",
    "ax.set_ylim(-90, -30)\n",
    "ax.set_zlim(-290, -200)\n",
    "print (ax.azim)\n",
    "ax.view_init(elev=-90, azim=-30)"
   ]
  },
  {
   "cell_type": "code",
   "execution_count": null,
   "metadata": {},
   "outputs": [],
   "source": [
    "OPEN_DF[[\"Time\", \"X_LLeft\",\"Y_LLeft\",\"Z_LLeft\", \"X_LR\",\"Y_LR\",\"Z_LR\",\"X_UL\", \"Y_UL\", \"Z_UL\",\"X_LL\",\"Y_LL\",\"Z_LL\"]].describe()\n",
    "\n",
    "\n"
   ]
  },
  {
   "cell_type": "code",
   "execution_count": null,
   "metadata": {},
   "outputs": [],
   "source": [
    "%matplotlib notebook\n",
    "%matplotlib notebook\n",
    "\n",
    "fig = plt.figure()\n",
    "ax = fig.add_subplot(111, projection='3d')\n",
    "\n",
    "\n",
    "ax.set_xlabel(\"x\")\n",
    "ax.set_ylabel(\"y\")\n",
    "ax.set_zlabel(\"z\")\n",
    "\n",
    "\n",
    "def connectpoints(DF_data, p1_sensor=\"\",p2_sensor=\"\"):\n",
    "    # the choices are LLEFT, LR, LL, LU in string format\n",
    "    x1 = data.iloc[0][\"X_%s\"%p1_sensor]\n",
    "    y1 = data.iloc[0][\"Y_%s\"%p1_sensor]\n",
    "    z1 = data.iloc[0][\"Z_%s\"%p1_sensor]\n",
    "\n",
    "    x2 = data.iloc[0][\"X_%s\"%p2_sensor]\n",
    "    y2 = data.iloc[0][\"Y_%s\"%p2_sensor]\n",
    "    z2 = data.iloc[0][\"Z_%s\"%p2_sensor]\n",
    "\n",
    "    plt.plot([x1,x2],[y1,y2],[z1,z2],'k-')\n",
    "\n",
    "\n",
    "\n",
    "\n",
    "data=OPEN_DF.iloc[[frame]]\n",
    "ax.scatter(data[\"X_LLeft\"],data[\"Y_LLeft\"], data[\"Z_LLeft\"], color=\"b\", label=\"Left Lip\")\n",
    "ax.scatter(data[\"X_LR\"],data[\"Y_LR\"], data[\"Z_LR\"], color=\"g\",label=\"Right Lip\")\n",
    "ax.scatter(data[\"X_UL\"],data[\"Y_UL\"], data[\"Z_UL\"], color=\"r\",label=\"Upper Lip\")\n",
    "ax.scatter(data[\"X_LL\"],data[\"Y_LL\"], data[\"Z_LL\"], color=\"black\",label=\"Lower Lip\")\n",
    "\n",
    "\n",
    "#connectpoints(data, \"LLeft\", \"UL\")\n",
    "#connectpoints(data, \"LLeft\", \"LL\")\n",
    "#connectpoints(data, p1_sensor=\"LR\", p2_sensor=\"UL\")\n",
    "#connectpoints(data, p1_sensor=\"LR\", p2_sensor=\"LL\")\n",
    "#connectpoints(data, p1_sensor=\"UL\", p2_sensor=\"LL\")\n",
    "#connectpoints(data, p1_sensor=\"LLeft\", p2_sensor=\"LR\")\n",
    "plt.show()\n",
    "\n",
    "    "
   ]
  },
  {
   "cell_type": "code",
   "execution_count": null,
   "metadata": {},
   "outputs": [],
   "source": [
    "nfr = len(OPEN_DF) # Number of frames\n",
    "fps = 10 # Frame per sec\n",
    "\n",
    "xs = []\n",
    "ys = []\n",
    "zs = []\n",
    "ss = np.arange(1,nfr,1)\n",
    "for s in ss:\n",
    "    xs.append(np.array((OPEN_DF.iloc[0][\"X_UL\"], OPEN_DF.iloc[0][\"X_LL\"], OPEN_DF.iloc[0][\"X_LLeft\"],OPEN_DF.iloc[0][\"X_LR\"])))\n",
    "    ys.append(np.array((OPEN_DF.iloc[0][\"X_UL\"], OPEN_DF.iloc[0][\"X_LL\"], OPEN_DF.iloc[0][\"X_LLeft\"],OPEN_DF.iloc[0][\"X_LR\"])))\n",
    "    zs.append(np.array((OPEN_DF.iloc[0][\"X_UL\"], OPEN_DF.iloc[0][\"X_LL\"], OPEN_DF.iloc[0][\"X_LLeft\"],OPEN_DF.iloc[0][\"X_LR\"])))\n",
    "   \n"
   ]
  },
  {
   "cell_type": "code",
   "execution_count": null,
   "metadata": {},
   "outputs": [],
   "source": [
    "%matplotlib notebook\n",
    "%matplotlib notebook\n",
    "fig =  plt.figure()\n",
    "ax = fig.add_subplot(111, projection='3d')\n",
    "sct, = ax.plot([], [], [], \"o\", markersize=2)\n",
    "def update(ifrm, xa, ya, za):\n",
    "    sct.set_data(xa[ifrm], ya[ifrm])\n",
    "    sct.set_3d_properties(za[ifrm])\n",
    "ax.set_xlim(-100,100)\n",
    "ax.set_ylim(-100,100)\n",
    "ax.set_zlim(-100,100)\n",
    "ani = animation.FuncAnimation(fig, update, nfr, fargs=(xs,ys,zs), interval=1000/fps,  repeat=False, blit=False)\n"
   ]
  }
 ],
 "metadata": {
  "kernelspec": {
   "display_name": "Python 3",
   "language": "python",
   "name": "python3"
  },
  "language_info": {
   "codemirror_mode": {
    "name": "ipython",
    "version": 3
   },
   "file_extension": ".py",
   "mimetype": "text/x-python",
   "name": "python",
   "nbconvert_exporter": "python",
   "pygments_lexer": "ipython3",
   "version": "3.7.3"
  }
 },
 "nbformat": 4,
 "nbformat_minor": 2
}
