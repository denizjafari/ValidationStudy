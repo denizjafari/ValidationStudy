{
 "cells": [
  {
   "cell_type": "markdown",
   "metadata": {},
   "source": [
    "# Validation Study "
   ]
  },
  {
   "cell_type": "markdown",
   "metadata": {},
   "source": [
    "we have 8 sensors 0-7, but sensor 1 is not connected, ie to tal of seven sensor data with sensor 1 being dead"
   ]
  },
  {
   "cell_type": "code",
   "execution_count": 1,
   "metadata": {},
   "outputs": [],
   "source": [
    "%matplotlib inline\n"
   ]
  },
  {
   "cell_type": "code",
   "execution_count": 2,
   "metadata": {},
   "outputs": [],
   "source": [
    "import os\n",
    "import pandas as pd\n",
    "from pandas import DataFrame\n",
    "import math\n",
    "import numpy as np\n",
    "import matplotlib\n",
    "import matplotlib.pyplot as plt\n",
    "from mpl_toolkits.mplot3d import Axes3D\n",
    "import matplotlib.animation as animation\n",
    "import scipy \n",
    "from scipy import signal\n",
    "#import seaborn as sns"
   ]
  },
  {
   "cell_type": "markdown",
   "metadata": {},
   "source": [
    "### READING DATA and Cleaning it "
   ]
  },
  {
   "cell_type": "code",
   "execution_count": 3,
   "metadata": {},
   "outputs": [],
   "source": [
    "def cleaning_df(DF):\n",
    "    # dropping columns with no value\n",
    "    #DF = DF.dropna(axis =1) \n",
    "    # dropping wave id column\n",
    "    DF = DF.drop(columns = 2, axis =1)\n",
    "    # name the first sensor columns \n",
    "    cols_0={0: \"Time\", 1: \"FrameID\", 3: \"SensorID\", 4: \"Sensor_1Status\", 5: \"X_Nose\", 6: \"Y_Nose\", 7:\"Z_Nose\"}\n",
    "    DF = DF.rename(columns=cols_0, errors=\"raise\")\n",
    "    DF = DF.drop(columns = [8,9,10, 11], axis =1)\n",
    "    \n",
    "    DF = DF.drop(columns = [12,13,14,15,16,17,18,19,20], axis =1)\n",
    "    cols_1={21: \"SensorID\", 22: \"Sensor_2Status\", 23: \"X_LLeft\", 24: \"Y_LLeft\", 25:\"Z_LLeft\"}\n",
    "    DF = DF.rename(columns=cols_1, errors=\"raise\")\n",
    "    \n",
    "    DF = DF.drop(columns = [26,27,28,29], axis =1)\n",
    "    cols_2={30: \"SensorID\", 31: \"Sensor_3Status\", 32: \"X_LR\", 33: \"Y_LR\", 34:\"Z_LR\"}\n",
    "    DF = DF.rename(columns=cols_2, errors=\"raise\")\n",
    "    \n",
    "    DF = DF.drop(columns = [35,36,37,38], axis =1)\n",
    "    cols_3={39: \"SensorID\", 40: \"Sensor_4Status\", 41: \"X_UL\", 42: \"Y_UL\", 43:\"Z_UL\"}\n",
    "    DF = DF.rename(columns=cols_3, errors=\"raise\")\n",
    "    \n",
    "    DF = DF.drop(columns = [44,44,46,47], axis =1)\n",
    "    cols_4={48: \"SensorID\", 49: \"Sensor_5Status\", 50: \"X_LL\", 51: \"Y_LL\", 52:\"Z_LL\"}\n",
    "    DF = DF.rename(columns=cols_4, errors=\"raise\")\n",
    "    \n",
    "    DF = DF.drop(columns = [53,54,55,56], axis =1)\n",
    "    cols_5={57: \"SensorID\", 58: \"Sensor_6Status\", 59: \"X_JR\", 60: \"Y_JR\", 61:\"Z_JR\"}\n",
    "    DF = DF.rename(columns=cols_5, errors=\"raise\")\n",
    "    \n",
    "    DF = DF.drop(columns = [62,63,64,65], axis =1)\n",
    "    cols_6={66: \"SensorID\", 67: \"Senson_7Status\", 68: \"X_JL\", 69: \"Y_JL\", 70:\"Z_JL\"}\n",
    "    DF = DF.rename(columns=cols_6, errors=\"raise\")\n",
    "    DF = DF.drop(columns = [71,72,73,74], axis =1)\n",
    "    return DF"
   ]
  },
  {
   "cell_type": "code",
   "execution_count": 4,
   "metadata": {},
   "outputs": [],
   "source": [
    "path = os.getcwd()+\"\\RM_3_20191101\\WAVE\\RM_3_20191101\"\n",
    "Files = os.listdir(path)           \n",
    "ext=('.tsv')\n",
    "Files = [i for i in Files if i.endswith(ext)]\n",
    "\n",
    "Tasks = ['REST', 'OPEN', 'SPREAD', 'OOEE', 'PA', 'BBP', 'TNG_PROTRUSION', 'TNG_LAT', 'TNG_NOSE']\n",
    "Conditions = ['FAST', 'SLOW', 'DISOR', 'HOLD']\n",
    "\n",
    "TASK_DFS_LIST = list()\n",
    "for i in range(0, len(Files)):\n",
    "    if Tasks[1] in Files[i]:\n",
    "        df = pd.read_csv(path+ \"\\\\\" + Files[i], delimiter='\\t', skiprows=1,header=None)\n",
    "        df = cleaning_df(df)\n",
    "        df['PatientID'] = Files[i][:4]\n",
    "        df['DataDATE'] = Files[i][5:13]\n",
    "        for condition in Conditions:\n",
    "            if condition in Files[i]:\n",
    "                df['Condition'] = condition\n",
    "            else:\n",
    "                df['Condition'] = 'NORMAL'\n",
    "        TASK_DFS_LIST.append(df)\n",
    "    else:\n",
    "        pass \n",
    "        \n",
    "        "
   ]
  },
  {
   "cell_type": "code",
   "execution_count": 5,
   "metadata": {},
   "outputs": [
    {
     "data": {
      "text/plain": [
       "'C:\\\\Users\\\\jafarid\\\\Documents\\\\Code\\\\ValidationStudy\\\\RM_3_20191101\\\\WAVE\\\\RM_3_20191101\\\\RM_3_20191101_2_039_TNG_NOSE_FAST_1.tsv'"
      ]
     },
     "execution_count": 5,
     "metadata": {},
     "output_type": "execute_result"
    }
   ],
   "source": [
    "path+ \"\\\\\" + Files[i]"
   ]
  },
  {
   "cell_type": "code",
   "execution_count": 6,
   "metadata": {},
   "outputs": [
    {
     "data": {
      "text/plain": [
       "8"
      ]
     },
     "execution_count": 6,
     "metadata": {},
     "output_type": "execute_result"
    }
   ],
   "source": [
    "len(TASK_DFS_LIST)\n"
   ]
  },
  {
   "cell_type": "code",
   "execution_count": 49,
   "metadata": {},
   "outputs": [],
   "source": [
    "# reading data into dataframes \n",
    "\n",
    "\n",
    "#REST_DF_0 = pd.read_csv(path + \"\\RM_3_20191101_001_REST.tsv\", delimiter='\\t', skiprows=1,header=None)\n",
    "#REST_DF_1 = pd.read_csv(path + \"\\RM_3_20191101_002_REST_1.tsv\", delimiter='\\t', skiprows=1,header=None)\n",
    "\n",
    "#OPEN_DF_HOL_0 = pd.read_csv(path +\"\\RM_3_20191101_003_OPEN_HOLD.tsv\", delimiter='\\t', skiprows=1,header=None)\n",
    "OPEN_DF_HOL_1 = pd.read_csv(path +\"\\RM_3_20191101_004_OPEN_HOLD_1.tsv\", delimiter='\\t', skiprows=1,header=None)\n",
    "#BIGSMILE_DF = pd.read_csv('RM_1_20190913_004_BIGSMILE.tsv', delimiter='\\t', skiprows=1,header=None)"
   ]
  },
  {
   "cell_type": "code",
   "execution_count": 50,
   "metadata": {},
   "outputs": [],
   "source": [
    "#REST_DF_0 = cleaning_df(REST_DF_0)\n",
    "#REST_DF_1 = cleaning_df(REST_DF_1)\n",
    "\n",
    "#OPEN_DF_HOL_0 = cleaning_df(OPEN_DF_HOL_0)\n",
    "OPEN_DF_HOL_1 = cleaning_df(OPEN_DF_HOL_1)\n",
    "\n",
    "#BIGSMILE_DF = cleaning_df(BIGSMILE_DF)"
   ]
  },
  {
   "cell_type": "markdown",
   "metadata": {},
   "source": [
    "### RANGE OF MOTION ANALYSIS"
   ]
  },
  {
   "cell_type": "code",
   "execution_count": 51,
   "metadata": {},
   "outputs": [],
   "source": [
    "def LipEdgeDist(DF):\n",
    "    DF['Horiz_Lip_Motion'] = DF.apply(lambda row: math.sqrt((row.X_LLeft - row.X_LR)**2 + (row.Y_LLeft - row.Y_LR)**2\n",
    "                                                                  + (row.Z_LLeft - row.Z_LR)**2), axis = 1) \n",
    "    DF['Vert_Lip_Motion'] = DF.apply(lambda row: math.sqrt((row.X_UL - row.X_LL)**2 + (row.Y_UL - row.Y_LL)**2 +\n",
    "                                                                 (row.Z_UL - row.Z_LL)**2), axis = 1) \n",
    "    return DF"
   ]
  },
  {
   "cell_type": "code",
   "execution_count": 52,
   "metadata": {},
   "outputs": [],
   "source": [
    "# Activity 1\n",
    "#REST_DF_0 = LipEdgeDist(REST_DF_0)\n",
    "#REST_DF_1 = LipEdgeDist(REST_DF_1)\n",
    "\n",
    "# Activity 2\n",
    "#OPEN_DF_HOL_0 = LipEdgeDist(OPEN_DF_HOL_0)\n",
    "OPEN_DF_HOL_1 = LipEdgeDist(OPEN_DF_HOL_1)\n",
    "\n",
    "#BIGSMILE_DF = LipEdgeDist(BIGSMILE_DF)"
   ]
  },
  {
   "cell_type": "markdown",
   "metadata": {},
   "source": [
    "Plotting the horizontal and vertical distances "
   ]
  },
  {
   "cell_type": "code",
   "execution_count": 53,
   "metadata": {},
   "outputs": [
    {
     "data": {
      "text/plain": [
       "<matplotlib.axes._subplots.AxesSubplot at 0x286923b9358>"
      ]
     },
     "execution_count": 53,
     "metadata": {},
     "output_type": "execute_result"
    },
    {
     "data": {
      "image/png": "[encoded data removed]",
      "text/plain": [
       "<Figure size 432x288 with 1 Axes>"
      ]
     },
     "metadata": {
      "needs_background": "light"
     },
     "output_type": "display_data"
    }
   ],
   "source": [
    "OPEN_DF_HOL_1.plot(x='FrameID', y=['Horiz_Lip_Motion', 'Vert_Lip_Motion'], style='o')"
   ]
  },
  {
   "cell_type": "markdown",
   "metadata": {},
   "source": [
    "### Kinematic Analysis\n",
    " "
   ]
  },
  {
   "cell_type": "markdown",
   "metadata": {},
   "source": [
    "#### Average Speed\n",
    "\n",
    "finding the average speed per cycle of the task, as well as the overall average in one setting "
   ]
  },
  {
   "cell_type": "code",
   "execution_count": 54,
   "metadata": {},
   "outputs": [
    {
     "name": "stdout",
     "output_type": "stream",
     "text": [
      "10\n",
      "[ 57.53255899 -70.5390195   68.08683224 -64.23716116  67.96540396\n",
      " -51.42616363  70.66813681 -53.49421193  83.34248191 -65.44534174]\n",
      "average opening speed: 69.51908278334064\n",
      "average closing speed: -61.02837959248596\n"
     ]
    }
   ],
   "source": [
    "OPEN_DF_HOL_1[\"Speed\"] = signal.medfilt(np.gradient(OPEN_DF_HOL_1['Vert_Lip_Motion'], OPEN_DF_HOL_1[\"Time\"]), 9)\n",
    "\n",
    "OPEN_ARRAY_HOL_1_SPEED = OPEN_DF_HOL_1[\"Speed\"].values\n",
    "OPEN_ARRAY_HOL_1_SPEED = OPEN_ARRAY_HOL_1_SPEED[~np.isnan(OPEN_ARRAY_HOL_1_SPEED)]\n",
    "\n",
    "# set the noise at rest to be zero \n",
    "threshold = 19 #mm**2/sec\n",
    "\n",
    "super_threshold_indices = abs(OPEN_ARRAY_HOL_1_SPEED) < threshold\n",
    "OPEN_ARRAY_HOL_1_SPEED[super_threshold_indices] = 0\n",
    "\n",
    "cycles = np.split(OPEN_ARRAY_HOL_1_SPEED, np.where(OPEN_ARRAY_HOL_1_SPEED[:-1] == 0)[0]+1)\n",
    "cycles = [array for array in cycles if len(array) >3]\n",
    "cycles_mean = np.array([np.mean(array) for array in cycles])\n",
    "avg_pos_speed_cycles = cycles_mean[cycles_mean > 0]\n",
    "avg_neg_speed_cycles = cycles_mean[cycles_mean < 0]\n",
    "avg_pos_speed = np.mean(avg_pos_speed_cycles)\n",
    "avg_neg_speed = np.mean(avg_neg_speed_cycles)\n",
    "print(len(cycles))\n",
    "print(cycles_mean)\n",
    "print('average opening speed: {}'.format(avg_pos_speed))\n",
    "print('average closing speed: {}'.format(avg_neg_speed))"
   ]
  },
  {
   "cell_type": "code",
   "execution_count": 39,
   "metadata": {},
   "outputs": [
    {
     "data": {
      "text/plain": [
       "<matplotlib.axes._subplots.AxesSubplot at 0x286921a1d68>"
      ]
     },
     "execution_count": 39,
     "metadata": {},
     "output_type": "execute_result"
    },
    {
     "data": {
      "image/png": "[encoded data removed]",
      "text/plain": [
       "<Figure size 432x288 with 1 Axes>"
      ]
     },
     "metadata": {
      "needs_background": "light"
     },
     "output_type": "display_data"
    }
   ],
   "source": [
    "OPEN_DF_HOL_1.plot(x='FrameID',y = [\"Speed\",'Horiz_Lip_Motion', 'Vert_Lip_Motion'])"
   ]
  },
  {
   "cell_type": "markdown",
   "metadata": {},
   "source": [
    "#### ROM"
   ]
  },
  {
   "cell_type": "code",
   "execution_count": 80,
   "metadata": {},
   "outputs": [
    {
     "name": "stdout",
     "output_type": "stream",
     "text": [
      "average vertical opening distance: 62.86984741011931\n",
      "average vertical closing distance: 17.239235341396178\n",
      "average ROM vertical: 45.63061206872314\n",
      "\n",
      "average horiz opening distance: 67.16592678527108\n",
      "average horiz closing distance: 52.93074704088956\n",
      "average ROM horiz: 14.235179744381526\n"
     ]
    }
   ],
   "source": [
    "peaks_pos, _ = signal.find_peaks(OPEN_ARRAY_HOL_1_SPEED, height=100, distance=90)\n",
    "peaks_neg, _ = signal.find_peaks(-OPEN_ARRAY_HOL_1_SPEED, height=100)\n",
    "\n",
    "split_positions = np.concatenate((peaks_pos, peaks_neg), axis=None)\n",
    "split_positions = np.sort(split_positions, axis=None)\n",
    "vertical_openings = signal.medfilt(OPEN_DF_HOL_1['Vert_Lip_Motion'], 5)\n",
    "vertical_opening_cycles = np.array_split(vertical_openings, split_positions)\n",
    "\n",
    "vertical_dist_max = np.array([np.max(array) for array in vertical_opening_cycles])\n",
    "vertical_dist_min = np.array([np.min(array) for array in vertical_opening_cycles])\n",
    "vertical_dist_open = vertical_dist_max[vertical_dist_max > 55]\n",
    "vertical_dist_close = vertical_dist_min[vertical_dist_min < 20]\n",
    "avg_vertical_distance_max = np.mean(vertical_dist_open)\n",
    "avg_vertical_distance_min = np.mean(vertical_dist_close)\n",
    "ROM_V = avg_vertical_distance_max - avg_vertical_distance_min\n",
    "\n",
    "horiz_dist_max = np.array([np.max(array) for array in horiz_opening_cycles])\n",
    "horiz_dist_min = np.array([np.min(array) for array in horiz_opening_cycles])\n",
    "horiz_dist_open = horiz_dist_max[horiz_dist_max > 60]\n",
    "horiz_dist_close = horiz_dist_min[horiz_dist_min < 55]\n",
    "avg_horiz_distance_max = np.mean(horiz_dist_open)\n",
    "avg_horiz_distance_min = np.mean(horiz_dist_close)\n",
    "ROM_H = avg_horiz_distance_max - avg_horiz_distance_min\n",
    "\n",
    "\n",
    "print('average vertical opening distance: {}'.format(avg_vertical_distance_max))\n",
    "print('average vertical closing distance: {}'.format(avg_vertical_distance_min))\n",
    "print('average ROM vertical: {}'.format(ROM_V))\n",
    "print()\n",
    "print('average horiz opening distance: {}'.format(avg_horiz_distance_max))\n",
    "print('average horiz closing distance: {}'.format(avg_horiz_distance_min))\n",
    "print('average ROM horiz: {}'.format(ROM_H))"
   ]
  },
  {
   "cell_type": "code",
   "execution_count": 83,
   "metadata": {},
   "outputs": [
    {
     "data": {
      "text/plain": [
       "(12.49080898468511, 65.64132228366121, 53.1505132989761)"
      ]
     },
     "execution_count": 83,
     "metadata": {},
     "output_type": "execute_result"
    }
   ],
   "source": [
    "def rom(array, splits, max_threshold = 60, min_threshold=55,  kernel = 5):\n",
    "\n",
    "    signals = signal.medfilt(array, kernel)\n",
    "    reps = np.array_split(signals, splits)\n",
    "    cycle_max_values = np.array([np.max(array) for array in reps])\n",
    "    cycle_min_values = np.array([np.min(array) for array in reps])\n",
    "    dist_max = cycle_max_values[cycle_max_values > max_threshold]\n",
    "    dist_min = cycle_min_values[cycle_min_values < min_threshold]\n",
    "    avg_distance_max = np.mean(dist_max)\n",
    "    avg_distance_min = np.mean(dist_min)\n",
    "    ROM = avg_distance_max - avg_distance_min\n",
    "    \n",
    "    return ROM, avg_distance_max, avg_distance_min\n",
    "\n",
    "rom(OPEN_DF_HOL_1['Horiz_Lip_Motion'].values, split_positions, max_threshold = 60, min_threshold=55,  kernel = 5)"
   ]
  },
  {
   "cell_type": "code",
   "execution_count": 65,
   "metadata": {},
   "outputs": [],
   "source": [
    "OPEN_DF_HOL_1['Vert_Lip_Motion'] = signal.medfilt(OPEN_DF_HOL_1['Vert_Lip_Motion'], 3)"
   ]
  },
  {
   "cell_type": "code",
   "execution_count": 85,
   "metadata": {},
   "outputs": [
    {
     "data": {
      "text/plain": [
       "array([[ 0.30759144, 66.85042998, 17.82961495],\n",
       "       [ 0.5339014 , 66.88590603, 17.83563814],\n",
       "       [ 0.62597569, 66.89794341, 17.83581211],\n",
       "       ...,\n",
       "       [-1.01625278, 67.56273638, 17.73021202],\n",
       "       [-1.01625278, 67.53190501, 17.71092806],\n",
       "       [-0.15427668, 67.49417268, 17.68914634]])"
      ]
     },
     "execution_count": 85,
     "metadata": {},
     "output_type": "execute_result"
    }
   ],
   "source": [
    "OPEN_DF_HOL_1[[\"Speed\",'Horiz_Lip_Motion', 'Vert_Lip_Motion']].values"
   ]
  },
  {
   "cell_type": "code",
   "execution_count": 60,
   "metadata": {},
   "outputs": [],
   "source": [
    "out = pd.DataFrame()\n",
    "\n",
    "out['Patient_ID'] = np.array(['RM01'])\n",
    "out['Task'] = np.array(['OPEN'])\n",
    "out['Condition'] = np.array(['HOLD'])\n",
    "out['Avg_Speed_Pos'] = np.array(avg_pos_speed)\n",
    "out['Avg_Speed_Neg'] = np.array(avg_neg_speed)\n",
    "out['Horiz_Avg_ROM'] = np.array(ROM_H)\n",
    "out['Horiz_Max_ROM'] = np.array(avg_horiz_distance_max)\n",
    "out['Horiz_Min_ROM'] = np.array(avg_horiz_distance_min)\n",
    "out['Vert_Avg_ROM'] = np.array(ROM_V)\n",
    "out['Vert_Max_ROM'] = np.array(avg_vertical_distance_max)\n",
    "out['Vert_Min_ROM'] = np.array(avg_vertical_distance_min)\n",
    "\n",
    "\n",
    "cvs = 'Wave_Open_Hold'+'_FinalResults.csv'\n",
    "out.to_csv(cvs)"
   ]
  },
  {
   "cell_type": "code",
   "execution_count": 15,
   "metadata": {},
   "outputs": [
    {
     "ename": "SyntaxError",
     "evalue": "'break' outside loop (<ipython-input-15-a17de20832ec>, line 4)",
     "output_type": "error",
     "traceback": [
      "\u001b[1;36m  File \u001b[1;32m\"<ipython-input-15-a17de20832ec>\"\u001b[1;36m, line \u001b[1;32m4\u001b[0m\n\u001b[1;31mSyntaxError\u001b[0m\u001b[1;31m:\u001b[0m 'break' outside loop\n"
     ]
    }
   ],
   "source": [
    "break "
   ]
  },
  {
   "cell_type": "code",
   "execution_count": null,
   "metadata": {},
   "outputs": [],
   "source": [
    "plt.plot((vertical_opening_cycles[2][50: (len(vertical_opening_cycles[2])-50)]))"
   ]
  },
  {
   "cell_type": "code",
   "execution_count": null,
   "metadata": {},
   "outputs": [],
   "source": [
    "OPEN_DF_HOL_1.plot(x='FrameID', y=['Vert_Lip_Motion', \"Speed\"], style='o')"
   ]
  },
  {
   "cell_type": "code",
   "execution_count": null,
   "metadata": {},
   "outputs": [],
   "source": [
    "vertical_opening_cycles[3][50: (len(vertical_opening_cycles[2])-50)]"
   ]
  },
  {
   "cell_type": "code",
   "execution_count": null,
   "metadata": {},
   "outputs": [],
   "source": [
    "OPEN_DF_HOL_1.plot(x='FrameID', y=[ \"Speed\"], style='o')"
   ]
  },
  {
   "cell_type": "markdown",
   "metadata": {},
   "source": [
    "### SYMMETRY ANALYSIS\n",
    "\n",
    "We do this, by defining right and left triangles from the right and left corner sensors to the top and bottom "
   ]
  },
  {
   "cell_type": "code",
   "execution_count": null,
   "metadata": {},
   "outputs": [],
   "source": [
    "\n",
    "def triangleArea(DF):\n",
    "    # the choices are LLEFT, LR, LL, LU in string format\n",
    "    DF[\"DownToLeft\"] = DF.apply(lambda row: math.sqrt((row.X_LLeft - row.X_LL)**2 + (row.Y_LLeft - row.Y_LL)**2\n",
    "                                                                      + (row.Z_LLeft - row.Z_LL)**2), axis = 1)\n",
    "    \n",
    "    DF[\"UpToLeft\"] = DF.apply(lambda row: math.sqrt((row.X_LLeft - row.X_UL)**2 + (row.Y_LLeft - row.Y_UL)**2\n",
    "                                                                      + (row.Z_LLeft - row.Z_UL)**2), axis = 1)\n",
    "    \n",
    "    DF[\"DownToRight\"] = DF.apply(lambda row: math.sqrt((row.X_LR - row.X_LL)**2 + (row.Y_LR - row.Y_LL)**2 +\n",
    "                                                                 (row.Z_LR - row.Z_LL)**2), axis = 1) \n",
    "    \n",
    "    DF[\"UpToRight\"] = DF.apply(lambda row: math.sqrt((row.X_LR - row.X_UL)**2 + (row.Y_LR - row.Y_UL)**2 +\n",
    "                                                                 (row.Z_LR - row.Z_UL)**2), axis = 1) \n",
    "    \n",
    "    DF[\"HP_L\"] = DF.apply(lambda row: ((row.DownToLeft + row.UpToLeft + row.Vert_Lip_Motion)/2), axis = 1)\n",
    "        \n",
    "    DF[\"HP_R\"] = DF.apply(lambda row: ((row.DownToRight + row.UpToRight + row.Vert_Lip_Motion)/2), axis = 1)\n",
    "    \n",
    "    \n",
    "    DF[\"Area_Left\"] = DF.apply(lambda row:  math.sqrt(row.HP_L*(row.HP_L - row.DownToLeft)*(row.HP_L - row.UpToLeft)*\n",
    "                                                     (row.HP_L - row.Vert_Lip_Motion)), axis = 1)\n",
    "    \n",
    "    DF[\"Area_Right\"] = DF.apply(lambda row:  math.sqrt(row.HP_R*(row.HP_R - row.DownToRight)*(row.HP_R - row.UpToRight)*\n",
    "                                                     (row.HP_R - row.Vert_Lip_Motion)), axis = 1)\n",
    "    \n",
    "    DF[\"Area_Ratio\"] = DF.apply(lambda row: row.Area_Left/row.Area_Right, axis = 1)\n",
    "    \n",
    "    \n",
    "    return DF\n",
    "    \n",
    "    "
   ]
  },
  {
   "cell_type": "code",
   "execution_count": null,
   "metadata": {},
   "outputs": [],
   "source": [
    "OPEN_DF_HOL_1 = triangleArea(OPEN_DF_HOL_1)"
   ]
  },
  {
   "cell_type": "code",
   "execution_count": null,
   "metadata": {},
   "outputs": [],
   "source": []
  },
  {
   "cell_type": "markdown",
   "metadata": {},
   "source": [
    "### Displaying the results "
   ]
  },
  {
   "cell_type": "code",
   "execution_count": null,
   "metadata": {},
   "outputs": [],
   "source": [
    "OPEN_DF_HOL_1[[\"Time\",'Vert_Lip_Motion','Horiz_Lip_Motion', \"Area_Left\", \"Area_Right\", \"Area_Ratio\", \"Speed\"]].describe()"
   ]
  },
  {
   "cell_type": "code",
   "execution_count": null,
   "metadata": {},
   "outputs": [],
   "source": [
    "REST_DF.plot(x='Time', y='Vert_Lip_Motion', style='o')"
   ]
  },
  {
   "cell_type": "code",
   "execution_count": null,
   "metadata": {},
   "outputs": [],
   "source": [
    "BIGSMILE_DF.plot(x='FrameID', y='Horiz_Lip_Motion', style='o')"
   ]
  },
  {
   "cell_type": "code",
   "execution_count": null,
   "metadata": {},
   "outputs": [],
   "source": [
    "OPEN_DF_0.plot(x='FrameID', y='Horiz_Lip_Motion', style='o')"
   ]
  },
  {
   "cell_type": "code",
   "execution_count": null,
   "metadata": {},
   "outputs": [],
   "source": [
    "OPEN_DF_1.plot(x='FrameID', y='Horiz_Lip_Motion', style='o')"
   ]
  },
  {
   "cell_type": "code",
   "execution_count": null,
   "metadata": {},
   "outputs": [],
   "source": [
    "OPEN_DF_0.plot(x='Time', y=['Vert_Lip_Motion','Horiz_Lip_Motion'] , style='o')\n",
    "x = 2\n",
    "plt.savefig('%d'%x)"
   ]
  },
  {
   "cell_type": "code",
   "execution_count": null,
   "metadata": {},
   "outputs": [],
   "source": [
    "OPEN_DF_1.plot(x='Time', y='Vert_Lip_Motion', style='o')\n",
    "x = 2\n",
    "plt.savefig('%d'%x)"
   ]
  },
  {
   "cell_type": "code",
   "execution_count": null,
   "metadata": {},
   "outputs": [],
   "source": [
    "%matplotlib inline\n",
    "\n",
    "fig = plt.figure()\n",
    "ax = fig.add_subplot(111, projection='3d')\n",
    "\n",
    "ax.set_xlabel(\"x\")\n",
    "ax.set_ylabel(\"y\")\n",
    "ax.set_zlabel(\"z\")\n",
    "\n",
    "for frame in range(OPEN_DF.shape[0]):\n",
    "    ax.clear()\n",
    "    data=OPEN_DF.iloc[[frame]]\n",
    "    ax.scatter(data[\"X_LLeft\"],data[\"Y_LLeft\"], data[\"Z_LLeft\"], color=\"r\", label=\"Left Lip\")\n",
    "    ax.scatter(data[\"X_LR\"],data[\"Y_LR\"], data[\"Z_LR\"], color=\"g\", label=\"Right Lip\")\n",
    "    ax.scatter(data[\"X_UL\"],data[\"Y_UL\"], data[\"Z_UL\"], color=\"b\", label=\"Upper Lip\")\n",
    "    ax.scatter(data[\"X_LL\"],data[\"Y_LL\"], data[\"Z_LL\"], color=\"b\", label=\"Lower Lip\")\n",
    "    plt.savefig('fig_results/%d.png'%frame, bbox_inches='tight')\n",
    "\n",
    "    "
   ]
  },
  {
   "cell_type": "code",
   "execution_count": null,
   "metadata": {
    "scrolled": true
   },
   "outputs": [],
   "source": [
    "%matplotlib inline\n",
    "\n",
    "fig = plt.figure()\n",
    "ax = fig.add_subplot(111, projection='3d')\n",
    "\n",
    "ax.set_xlabel(\"x\")\n",
    "ax.set_ylabel(\"y\")\n",
    "ax.set_zlabel(\"z\")\n",
    "\n",
    "\n",
    "def connectpoints(DF_data, p1_sensor=\"\",p2_sensor=\"\"):\n",
    "    # the choices are LLEFT, LR, LL, LU in string format\n",
    "    x1 = data.iloc[0][\"X_%s\"%p1_sensor]\n",
    "    y1 = data.iloc[0][\"Y_%s\"%p1_sensor]\n",
    "    z1 = data.iloc[0][\"Z_%s\"%p1_sensor]\n",
    "\n",
    "    x2 = data.iloc[0][\"X_%s\"%p2_sensor]\n",
    "    y2 = data.iloc[0][\"Y_%s\"%p2_sensor]\n",
    "    z2 = data.iloc[0][\"Z_%s\"%p2_sensor]\n",
    "\n",
    "    plt.plot([x1,x2],[y1,y2],[z1,z2],'k-')\n",
    "\n",
    "\n",
    "def plotFrameGenerator(DF):\n",
    "    # GENERATE MOVIE OF THE SENSOR MOVEMENTS \n",
    "    for frame in range(DF.shape[0]):\n",
    "        ax.clear()\n",
    "        data=DF.iloc[[frame]]\n",
    "        ax.scatter(data[\"X_LLeft\"],data[\"Y_LLeft\"], data[\"Z_LLeft\"], color=\"b\", label=\"Left Lip\")\n",
    "        ax.scatter(data[\"X_LR\"],data[\"Y_LR\"], data[\"Z_LR\"], color=\"g\",label=\"Right Lip\")\n",
    "        ax.scatter(data[\"X_UL\"],data[\"Y_UL\"], data[\"Z_UL\"], color=\"r\",label=\"Upper Lip\")\n",
    "        ax.scatter(data[\"X_LL\"],data[\"Y_LL\"], data[\"Z_LL\"], color=\"black\",label=\"Lower Lip\")\n",
    "\n",
    "\n",
    "        connectpoints(data, \"LLeft\", \"UL\")\n",
    "        connectpoints(data, \"LLeft\", \"LL\")\n",
    "        connectpoints(data, p1_sensor=\"LR\", p2_sensor=\"UL\")\n",
    "        connectpoints(data, p1_sensor=\"LR\", p2_sensor=\"LL\")\n",
    "        #connectpoints(data, p1_sensor=\"UL\", p2_sensor=\"LL\")\n",
    "        connectpoints(data, p1_sensor=\"LLeft\", p2_sensor=\"LR\")\n",
    "\n",
    "        ax.set_xlim(-40, 40)\n",
    "        ax.set_ylim(-90, -30)\n",
    "        ax.set_zlim(-290, -200)\n",
    "\n",
    "        ax.view_init(elev=-90, azim=-30)\n",
    "        plt.savefig('fig_results/%d.png'%frame, bbox_inches='tight')\n"
   ]
  },
  {
   "cell_type": "code",
   "execution_count": null,
   "metadata": {},
   "outputs": [],
   "source": [
    "plotFrameGenerator(OPEN_DF_HOL_1)"
   ]
  },
  {
   "cell_type": "code",
   "execution_count": null,
   "metadata": {},
   "outputs": [],
   "source": [
    "%matplotlib notebook\n",
    "%matplotlib notebook\n",
    "\n",
    "fig = plt.figure()\n",
    "ax = fig.add_subplot(111, projection='3d')\n",
    "\n",
    "ax.set_xlabel(\"x\")\n",
    "ax.set_ylabel(\"y\")\n",
    "ax.set_zlabel(\"z\")\n",
    "\n",
    "def connectpoints(DF_data, p1_sensor=\"\",p2_sensor=\"\"):\n",
    "    # the choices are LLEFT, LR, LL, LU in string format\n",
    "    x1 = data.iloc[0][\"X_%s\"%p1_sensor]\n",
    "    y1 = data.iloc[0][\"Y_%s\"%p1_sensor]\n",
    "    z1 = data.iloc[0][\"Z_%s\"%p1_sensor]\n",
    "\n",
    "    x2 = data.iloc[0][\"X_%s\"%p2_sensor]\n",
    "    y2 = data.iloc[0][\"Y_%s\"%p2_sensor]\n",
    "    z2 = data.iloc[0][\"Z_%s\"%p2_sensor]\n",
    "\n",
    "    plt.plot([x1,x2],[y1,y2],[z1,z2],'k-')\n",
    "    \n",
    "data=OPEN_DF.iloc[[1000]]\n",
    "ax.scatter(data[\"X_LLeft\"],data[\"Y_LLeft\"], data[\"Z_LLeft\"], color=\"b\", label=\"Left Lip\")\n",
    "ax.scatter(data[\"X_LR\"],data[\"Y_LR\"], data[\"Z_LR\"], color=\"g\",label=\"Right Lip\")\n",
    "ax.scatter(data[\"X_UL\"],data[\"Y_UL\"], data[\"Z_UL\"], color=\"r\",label=\"Upper Lip\")\n",
    "ax.scatter(data[\"X_LL\"],data[\"Y_LL\"], data[\"Z_LL\"], color=\"black\",label=\"Lower Lip\")\n",
    "\n",
    "\n",
    "connectpoints(data, \"LLeft\", \"UL\")\n",
    "connectpoints(data, \"LLeft\", \"LL\")\n",
    "connectpoints(data, p1_sensor=\"LR\", p2_sensor=\"UL\")\n",
    "connectpoints(data, p1_sensor=\"LR\", p2_sensor=\"LL\")\n",
    "#connectpoints(data, p1_sensor=\"UL\", p2_sensor=\"LL\")\n",
    "connectpoints(data, p1_sensor=\"LLeft\", p2_sensor=\"LR\")\n",
    "\n",
    "ax.set_xlim(-40, 40)\n",
    "ax.set_ylim(-90, -30)\n",
    "ax.set_zlim(-290, -200)\n",
    "print (ax.azim)\n",
    "ax.view_init(elev=-90, azim=-30)"
   ]
  },
  {
   "cell_type": "code",
   "execution_count": null,
   "metadata": {},
   "outputs": [],
   "source": [
    "OPEN_DF[[\"Time\", \"X_LLeft\",\"Y_LLeft\",\"Z_LLeft\", \"X_LR\",\"Y_LR\",\"Z_LR\",\"X_UL\", \"Y_UL\", \"Z_UL\",\"X_LL\",\"Y_LL\",\"Z_LL\"]].describe()\n",
    "\n",
    "\n"
   ]
  },
  {
   "cell_type": "markdown",
   "metadata": {},
   "source": [
    "### SAVE RESULT INTO RESULT DF"
   ]
  },
  {
   "cell_type": "code",
   "execution_count": null,
   "metadata": {},
   "outputs": [],
   "source": [
    "RESULT_DF = \n",
    "\n",
    "\n",
    "# WRITE THE DATA TO A SCV FILE \n",
    "\n",
    "#header = [\"Time\", 'Horiz_Lip_Motion', 'Vert_Lip_Motion']\n",
    "#OPEN_DF.to_csv('open_sensor_results.csv', columns = header)"
   ]
  },
  {
   "cell_type": "code",
   "execution_count": null,
   "metadata": {},
   "outputs": [],
   "source": [
    "%matplotlib notebook\n",
    "%matplotlib notebook\n",
    "\n",
    "fig = plt.figure()\n",
    "ax = fig.add_subplot(111, projection='3d')\n",
    "\n",
    "\n",
    "ax.set_xlabel(\"x\")\n",
    "ax.set_ylabel(\"y\")\n",
    "ax.set_zlabel(\"z\")\n",
    "\n",
    "\n",
    "def connectpoints(DF_data, p1_sensor=\"\",p2_sensor=\"\"):\n",
    "    # the choices are LLEFT, LR, LL, LU in string format\n",
    "    x1 = data.iloc[0][\"X_%s\"%p1_sensor]\n",
    "    y1 = data.iloc[0][\"Y_%s\"%p1_sensor]\n",
    "    z1 = data.iloc[0][\"Z_%s\"%p1_sensor]\n",
    "\n",
    "    x2 = data.iloc[0][\"X_%s\"%p2_sensor]\n",
    "    y2 = data.iloc[0][\"Y_%s\"%p2_sensor]\n",
    "    z2 = data.iloc[0][\"Z_%s\"%p2_sensor]\n",
    "\n",
    "    plt.plot([x1,x2],[y1,y2],[z1,z2],'k-')\n",
    "\n",
    "\n",
    "\n",
    "\n",
    "data=OPEN_DF.iloc[[frame]]\n",
    "ax.scatter(data[\"X_LLeft\"],data[\"Y_LLeft\"], data[\"Z_LLeft\"], color=\"b\", label=\"Left Lip\")\n",
    "ax.scatter(data[\"X_LR\"],data[\"Y_LR\"], data[\"Z_LR\"], color=\"g\",label=\"Right Lip\")\n",
    "ax.scatter(data[\"X_UL\"],data[\"Y_UL\"], data[\"Z_UL\"], color=\"r\",label=\"Upper Lip\")\n",
    "ax.scatter(data[\"X_LL\"],data[\"Y_LL\"], data[\"Z_LL\"], color=\"black\",label=\"Lower Lip\")\n",
    "\n",
    "\n",
    "#connectpoints(data, \"LLeft\", \"UL\")\n",
    "#connectpoints(data, \"LLeft\", \"LL\")\n",
    "#connectpoints(data, p1_sensor=\"LR\", p2_sensor=\"UL\")\n",
    "#connectpoints(data, p1_sensor=\"LR\", p2_sensor=\"LL\")\n",
    "#connectpoints(data, p1_sensor=\"UL\", p2_sensor=\"LL\")\n",
    "#connectpoints(data, p1_sensor=\"LLeft\", p2_sensor=\"LR\")\n",
    "plt.show()\n",
    "\n",
    "    "
   ]
  },
  {
   "cell_type": "code",
   "execution_count": null,
   "metadata": {},
   "outputs": [],
   "source": [
    "# WRITE THE DATA TO A SCV FILE \n",
    "\n",
    "#header = [\"Time\", 'Horiz_Lip_Motion', 'Vert_Lip_Motion']\n",
    "#OPEN_DF.to_csv('open_sensor_results.csv', columns = header)\n",
    "#BIGSMILE_DF.to_csv('bigsmile_sensor_results.csv', columns = header)\n",
    "#REST_DF.to_csv('rest_sensor_results.csv', columns = header)"
   ]
  },
  {
   "cell_type": "code",
   "execution_count": null,
   "metadata": {},
   "outputs": [],
   "source": [
    "nfr = len(OPEN_DF) # Number of frames\n",
    "fps = 10 # Frame per sec\n",
    "\n",
    "xs = []\n",
    "ys = []\n",
    "zs = []\n",
    "ss = np.arange(1,nfr,1)\n",
    "for s in ss:\n",
    "    xs.append(np.array((OPEN_DF.iloc[0][\"X_UL\"], OPEN_DF.iloc[0][\"X_LL\"], OPEN_DF.iloc[0][\"X_LLeft\"],OPEN_DF.iloc[0][\"X_LR\"])))\n",
    "    ys.append(np.array((OPEN_DF.iloc[0][\"X_UL\"], OPEN_DF.iloc[0][\"X_LL\"], OPEN_DF.iloc[0][\"X_LLeft\"],OPEN_DF.iloc[0][\"X_LR\"])))\n",
    "    zs.append(np.array((OPEN_DF.iloc[0][\"X_UL\"], OPEN_DF.iloc[0][\"X_LL\"], OPEN_DF.iloc[0][\"X_LLeft\"],OPEN_DF.iloc[0][\"X_LR\"])))\n",
    "   \n"
   ]
  },
  {
   "cell_type": "code",
   "execution_count": null,
   "metadata": {},
   "outputs": [],
   "source": [
    "%matplotlib notebook\n",
    "%matplotlib notebook\n",
    "fig =  plt.figure()\n",
    "ax = fig.add_subplot(111, projection='3d')\n",
    "sct, = ax.plot([], [], [], \"o\", markersize=2)\n",
    "def update(ifrm, xa, ya, za):\n",
    "    sct.set_data(xa[ifrm], ya[ifrm])\n",
    "    sct.set_3d_properties(za[ifrm])\n",
    "ax.set_xlim(-100,100)\n",
    "ax.set_ylim(-100,100)\n",
    "ax.set_zlim(-100,100)\n",
    "ani = animation.FuncAnimation(fig, update, nfr, fargs=(xs,ys,zs), interval=1000/fps,  repeat=False, blit=False)\n"
   ]
  },
  {
   "cell_type": "code",
   "execution_count": null,
   "metadata": {},
   "outputs": [],
   "source": [
    "%matplotlib inline"
   ]
  },
  {
   "cell_type": "code",
   "execution_count": 62,
   "metadata": {},
   "outputs": [],
   "source": [
    "OPEN_DF_FAST_1 = pd.read_csv(path +\"\\RM_3_20191101_2_004_OPEN_FAST.tsv\", delimiter='\\t', skiprows=1,header=None)\n",
    "OPEN_DF_DISOR_1 = pd.read_csv(path +\"\\RM_3_20191101_2_002_OPEN_DISOR.tsv\", delimiter='\\t', skiprows=1,header=None)\n",
    "OPEN_DF_FAST_1 = cleaning_df(OPEN_DF_FAST_1)\n",
    "OPEN_DF_DISOR_1 = cleaning_df(OPEN_DF_DISOR_1)\n",
    "OPEN_DF_FAST_1 = LipEdgeDist(OPEN_DF_FAST_1)\n",
    "OPEN_DF_DISOR_1 = LipEdgeDist(OPEN_DF_DISOR_1)"
   ]
  },
  {
   "cell_type": "code",
   "execution_count": 63,
   "metadata": {},
   "outputs": [
    {
     "data": {
      "text/plain": [
       "<matplotlib.axes._subplots.AxesSubplot at 0x2869240ddd8>"
      ]
     },
     "execution_count": 63,
     "metadata": {},
     "output_type": "execute_result"
    },
    {
     "data": {
      "image/png": "[encoded data removed]",
      "text/plain": [
       "<Figure size 432x288 with 1 Axes>"
      ]
     },
     "metadata": {
      "needs_background": "light"
     },
     "output_type": "display_data"
    }
   ],
   "source": [
    "OPEN_DF_FAST_1.plot(x='FrameID', y=['Horiz_Lip_Motion', 'Vert_Lip_Motion'], style='o')"
   ]
  },
  {
   "cell_type": "code",
   "execution_count": 66,
   "metadata": {},
   "outputs": [
    {
     "data": {
      "text/plain": [
       "<matplotlib.axes._subplots.AxesSubplot at 0x286934fb3c8>"
      ]
     },
     "execution_count": 66,
     "metadata": {},
     "output_type": "execute_result"
    },
    {
     "data": {
      "image/png": "[encoded data removed]",
      "text/plain": [
       "<Figure size 432x288 with 1 Axes>"
      ]
     },
     "metadata": {
      "needs_background": "light"
     },
     "output_type": "display_data"
    }
   ],
   "source": [
    "OPEN_DF_DISOR_1[\"Speed\"] = signal.medfilt(np.gradient(OPEN_DF_DISOR_1['Vert_Lip_Motion'], OPEN_DF_DISOR_1[\"Time\"]), 9)\n",
    "OPEN_DF_DISOR_1.plot(x='FrameID', y=['Horiz_Lip_Motion', 'Vert_Lip_Motion', 'Speed'], style='o')\n"
   ]
  },
  {
   "cell_type": "code",
   "execution_count": null,
   "metadata": {},
   "outputs": [],
   "source": []
  }
 ],
 "metadata": {
  "kernelspec": {
   "display_name": "Python 3",
   "language": "python",
   "name": "python3"
  },
  "language_info": {
   "codemirror_mode": {
    "name": "ipython",
    "version": 3
   },
   "file_extension": ".py",
   "mimetype": "text/x-python",
   "name": "python",
   "nbconvert_exporter": "python",
   "pygments_lexer": "ipython3",
   "version": "3.7.4"
  }
 },
 "nbformat": 4,
 "nbformat_minor": 2
}
