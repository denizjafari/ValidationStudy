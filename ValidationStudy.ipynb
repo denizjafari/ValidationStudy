{
 "cells": [
  {
   "cell_type": "markdown",
   "metadata": {},
   "source": [
    "# Validation Study "
   ]
  },
  {
   "cell_type": "markdown",
   "metadata": {},
   "source": [
    "we have 8 sensors 0-7, but sensor 1 is not connected, ie to tal of seven sensor data with sensor 1 being dead"
   ]
  },
  {
   "cell_type": "code",
   "execution_count": 1,
   "metadata": {},
   "outputs": [],
   "source": [
    "%matplotlib inline\n"
   ]
  },
  {
   "cell_type": "code",
   "execution_count": 2,
   "metadata": {},
   "outputs": [],
   "source": [
    "import os\n",
    "import pandas as pd\n",
    "from pandas import DataFrame\n",
    "import math\n",
    "import numpy as np\n",
    "import matplotlib\n",
    "import matplotlib.pyplot as plt\n",
    "from mpl_toolkits.mplot3d import Axes3D\n",
    "import matplotlib.animation as animation\n",
    "#import seaborn as sns"
   ]
  },
  {
   "cell_type": "markdown",
   "metadata": {},
   "source": [
    "### READING DATA and Cleaning it "
   ]
  },
  {
   "cell_type": "code",
   "execution_count": 84,
   "metadata": {},
   "outputs": [],
   "source": [
    "def cleaning_df(DF):\n",
    "    # dropping columns with no value\n",
    "    #DF = DF.dropna(axis =1) \n",
    "    # dropping wave id column\n",
    "    DF = DF.drop(columns = 2, axis =1)\n",
    "    # name the first sensor columns \n",
    "    cols_0={0: \"Time\", 1: \"FrameID\", 3: \"SensorID\", 4: \"Sensor_1Status\", 5: \"X_Nose\", 6: \"Y_Nose\", 7:\"Z_Nose\"}\n",
    "    DF = DF.rename(columns=cols_0, errors=\"raise\")\n",
    "    DF = DF.drop(columns = [8,9,10, 11], axis =1)\n",
    "    \n",
    "    DF = DF.drop(columns = [12,13,14,15,16,17,18,19,20], axis =1)\n",
    "    cols_1={21: \"SensorID\", 22: \"Sensor_2Status\", 23: \"X_LLeft\", 24: \"Y_LLeft\", 25:\"Z_LLeft\"}\n",
    "    DF = DF.rename(columns=cols_1, errors=\"raise\")\n",
    "    \n",
    "    DF = DF.drop(columns = [26,27,28,29], axis =1)\n",
    "    cols_2={30: \"SensorID\", 31: \"Sensor_3Status\", 32: \"X_LR\", 33: \"Y_LR\", 34:\"Z_LR\"}\n",
    "    DF = DF.rename(columns=cols_2, errors=\"raise\")\n",
    "    \n",
    "    DF = DF.drop(columns = [35,36,37,38], axis =1)\n",
    "    cols_3={39: \"SensorID\", 40: \"Sensor_4Status\", 41: \"X_UL\", 42: \"Y_UL\", 43:\"Z_UL\"}\n",
    "    DF = DF.rename(columns=cols_3, errors=\"raise\")\n",
    "    \n",
    "    DF = DF.drop(columns = [44,44,46,47], axis =1)\n",
    "    cols_4={48: \"SensorID\", 49: \"Sensor_5Status\", 50: \"X_LL\", 51: \"Y_LL\", 52:\"Z_LL\"}\n",
    "    DF = DF.rename(columns=cols_4, errors=\"raise\")\n",
    "    \n",
    "    DF = DF.drop(columns = [53,54,55,56], axis =1)\n",
    "    cols_5={57: \"SensorID\", 58: \"Sensor_6Status\", 59: \"X_JR\", 60: \"Y_JR\", 61:\"Z_JR\"}\n",
    "    DF = DF.rename(columns=cols_5, errors=\"raise\")\n",
    "    \n",
    "    DF = DF.drop(columns = [62,63,64,65], axis =1)\n",
    "    cols_6={66: \"SensorID\", 67: \"Senson_7Status\", 68: \"X_JL\", 69: \"Y_JL\", 70:\"Z_JL\"}\n",
    "    DF = DF.rename(columns=cols_6, errors=\"raise\")\n",
    "    DF = DF.drop(columns = [71,72,73,74], axis =1)\n",
    "    return DF"
   ]
  },
  {
   "cell_type": "code",
   "execution_count": 98,
   "metadata": {},
   "outputs": [],
   "source": [
    "path = os.getcwd()+\"\\RM_3_20191101\\WAVE\\RM_3_20191101\"\n",
    "Files = os.listdir(path)           \n",
    "ext=('.tsv')\n",
    "Files = [i for i in Files if i.endswith(ext)]\n",
    "\n",
    "Tasks = ['REST', 'OPEN', 'SPREAD', 'OOEE', 'PA', 'BBP', 'TNG_PROTRUSION', 'TNG_LAT', 'TNG_NOSE']\n",
    "Conditions = ['FAST', 'SLOW', 'DISOR', 'HOLD']\n",
    "\n",
    "TASK_DFS_LIST = list()\n",
    "for i in range(0, len(Files)):\n",
    "    if Tasks[1] in Files[i]:\n",
    "        df = pd.read_csv(path+ \"\\\\\" + Files[i], delimiter='\\t', skiprows=1,header=None)\n",
    "        df = cleaning_df(df)\n",
    "        df['PatientID'] = Files[i][:4]\n",
    "        df['DataDATE'] = Files[i][5:13]\n",
    "        for condition in Conditions:\n",
    "            if condition in Files[i]:\n",
    "                df['Condition'] = condition\n",
    "            else:\n",
    "                df['Condition'] = 'NORMAL'\n",
    "        TASK_DFS_LIST.append(df)\n",
    "    else:\n",
    "        pass \n",
    "        \n",
    "        "
   ]
  },
  {
   "cell_type": "code",
   "execution_count": 99,
   "metadata": {},
   "outputs": [
    {
     "data": {
      "text/plain": [
       "'C:\\\\Users\\\\jafarid\\\\Documents\\\\Code\\\\ValidationStudy\\\\RM_3_20191101\\\\WAVE\\\\RM_3_20191101\\\\RM_3_20191101_2_039_TNG_NOSE_FAST_1.tsv'"
      ]
     },
     "execution_count": 99,
     "metadata": {},
     "output_type": "execute_result"
    }
   ],
   "source": [
    "path+ \"\\\\\" + Files[i]"
   ]
  },
  {
   "cell_type": "code",
   "execution_count": 101,
   "metadata": {},
   "outputs": [
    {
     "data": {
      "text/plain": [
       "8"
      ]
     },
     "execution_count": 101,
     "metadata": {},
     "output_type": "execute_result"
    }
   ],
   "source": [
    "len(TASK_DFS_LIST)\n"
   ]
  },
  {
   "cell_type": "code",
   "execution_count": 17,
   "metadata": {},
   "outputs": [],
   "source": [
    "# reading data into dataframes \n",
    "\n",
    "\n",
    "REST_DF_0 = pd.read_csv(path + \"\\RM_3_20191101_001_REST.tsv\", delimiter='\\t', skiprows=1,header=None)\n",
    "REST_DF_1 = pd.read_csv(path + \"\\RM_3_20191101_002_REST_1.tsv\", delimiter='\\t', skiprows=1,header=None)\n",
    "\n",
    "OPEN_DF_HOL_0 = pd.read_csv(path +\"\\RM_3_20191101_003_OPEN_HOLD.tsv\", delimiter='\\t', skiprows=1,header=None)\n",
    "OPEN_DF_HOL_1 = pd.read_csv(path +\"\\RM_3_20191101_004_OPEN_HOLD_1.tsv\", delimiter='\\t', skiprows=1,header=None)\n",
    "#BIGSMILE_DF = pd.read_csv('RM_1_20190913_004_BIGSMILE.tsv', delimiter='\\t', skiprows=1,header=None)"
   ]
  },
  {
   "cell_type": "code",
   "execution_count": 19,
   "metadata": {},
   "outputs": [],
   "source": [
    "REST_DF_0 = cleaning_df(REST_DF_0)\n",
    "REST_DF_1 = cleaning_df(REST_DF_1)\n",
    "\n",
    "OPEN_DF_HOL_0 = cleaning_df(OPEN_DF_HOL_0)\n",
    "OPEN_DF_HOL_1 = cleaning_df(OPEN_DF_HOL_1)\n",
    "\n",
    "#BIGSMILE_DF = cleaning_df(BIGSMILE_DF)"
   ]
  },
  {
   "cell_type": "markdown",
   "metadata": {},
   "source": [
    "### RANGE OF MOTION ANALYSIS"
   ]
  },
  {
   "cell_type": "code",
   "execution_count": 20,
   "metadata": {},
   "outputs": [],
   "source": [
    "def LipEdgeDist(DF):\n",
    "    DF['Horiz_Lip_Motion'] = DF.apply(lambda row: math.sqrt((row.X_LLeft - row.X_LR)**2 + (row.Y_LLeft - row.Y_LR)**2\n",
    "                                                                  + (row.Z_LLeft - row.Z_LR)**2), axis = 1) \n",
    "    DF['Vert_Lip_Motion'] = DF.apply(lambda row: math.sqrt((row.X_UL - row.X_LL)**2 + (row.Y_UL - row.Y_LL)**2 +\n",
    "                                                                 (row.Z_UL - row.Z_LL)**2), axis = 1) \n",
    "    return DF"
   ]
  },
  {
   "cell_type": "code",
   "execution_count": 21,
   "metadata": {},
   "outputs": [],
   "source": [
    "# Activity 1\n",
    "REST_DF_0 = LipEdgeDist(REST_DF_0)\n",
    "REST_DF_1 = LipEdgeDist(REST_DF_1)\n",
    "\n",
    "# Activity 2\n",
    "OPEN_DF_HOL_0 = LipEdgeDist(OPEN_DF_HOL_0)\n",
    "OPEN_DF_HOL_1 = LipEdgeDist(OPEN_DF_HOL_1)\n",
    "\n",
    "#BIGSMILE_DF = LipEdgeDist(BIGSMILE_DF)"
   ]
  },
  {
   "cell_type": "markdown",
   "metadata": {},
   "source": [
    "Plotting the horizontal and vertical distances "
   ]
  },
  {
   "cell_type": "code",
   "execution_count": 22,
   "metadata": {},
   "outputs": [
    {
     "data": {
      "text/plain": [
       "<matplotlib.axes._subplots.AxesSubplot at 0x191f1a012e8>"
      ]
     },
     "execution_count": 22,
     "metadata": {},
     "output_type": "execute_result"
    },
    {
     "data": {
      "image/png": "[encoded data removed]",
      "text/plain": [
       "<Figure size 432x288 with 1 Axes>"
      ]
     },
     "metadata": {
      "needs_background": "light"
     },
     "output_type": "display_data"
    }
   ],
   "source": [
    "OPEN_DF_HOL_1.plot(x='FrameID', y=['Horiz_Lip_Motion', 'Vert_Lip_Motion'], style='o')"
   ]
  },
  {
   "cell_type": "markdown",
   "metadata": {},
   "source": [
    "### Kinematic Analysis\n",
    "\n",
    "finding the average speed, number describe would be used to find the min and max, "
   ]
  },
  {
   "cell_type": "code",
   "execution_count": 74,
   "metadata": {},
   "outputs": [
    {
     "name": "stdout",
     "output_type": "stream",
     "text": [
      "54\n",
      "[array([-5.138504  , 19.95452647, 14.96780975,  0.        ]), array([ 10.35720275, -11.95389488, -13.37078535,   0.        ]), array([ 51.9195212 ,   5.46802912, -42.33515139,  12.30974778,\n",
      "       -15.63271626, -15.39301842,   0.        ]), array([ -9.91883068, -10.11860673,  -5.86286599,  17.60201444,\n",
      "       -11.62771477, -35.4118504 , -10.57321126,   0.        ]), array([  6.15882912,  41.88737467,  31.96827142, -11.60603817,\n",
      "        -9.2629255 ,  15.08045395,   0.        ]), array([-6.74402791, -6.65169827,  7.11999548, 26.40822269,  0.        ]), array([  6.48891369, -25.40264718,  -8.74901167,  27.09498333,\n",
      "        14.64969898,  10.099033  ,  11.07202982,  -5.82778538,\n",
      "         0.        ]), array([  9.33395169,  12.01640754,  17.34478151,  14.19301687,\n",
      "        12.67400837,   5.91331805,  11.59332345,  18.32139274,\n",
      "        18.90164758,  18.30350255,  17.90068768, -10.16710006,\n",
      "        16.70408514,  53.41481886,  16.74355022,  39.33701717,\n",
      "        42.60102493,   0.        ]), array([ -5.79439404,  -7.65459001,  -9.92945767, -35.34742436,\n",
      "        -6.46793404,  22.822029  ,   0.        ]), array([-21.54187888,  -9.40042273,  23.97730417,  72.1046847 ,\n",
      "        93.26971384,  59.33416726,  40.60086907,  77.09553397,\n",
      "       105.30561761,  74.08708438,  91.49864151, 116.49646601,\n",
      "       124.07022198, 114.95482877,  97.42986335, 101.86314196,\n",
      "       109.18050206, 106.20737751,  98.50257282,  94.83730921,\n",
      "        86.80812995,  83.86135605,  75.97392737,  73.22846174,\n",
      "        83.36923642,  82.22535663,  76.143614  ,  71.42070355,\n",
      "        59.49650653,  56.33018564,  70.35384816,  72.39828847,\n",
      "        66.10421761,  67.32761191,  52.2929712 ,  49.41562872,\n",
      "        53.04282637,  26.86215327,  16.09631184,  29.94490787,\n",
      "        40.03216443,  44.76740245,  42.44608841,  24.18776879,\n",
      "        33.57375386,  35.38914754,  15.77971304,  16.99744381,\n",
      "        32.6521704 ,  34.02254826,  23.82838785,  19.15050132,\n",
      "        11.34045797,  14.17076797,  22.35250607,  24.48656519,\n",
      "        13.16988409,  14.51220513,  25.8673512 ,  22.0485518 ,\n",
      "        20.41031922,  17.61096237,   9.53455083,   9.33425813,\n",
      "        18.46338514,  22.31306159,  13.97181367,  22.70786583,\n",
      "       -13.79036884, -37.50229029,  46.33992014,  62.95740813,\n",
      "        16.72328675,  12.01250824,  13.16605112,  13.75066713,\n",
      "       -19.72461661, -23.15419155,  10.3962081 ,  10.11426587,\n",
      "         7.02814972,   0.        ]), array([-16.83485508,   9.94837623, -11.72490253,   0.        ]), array([ -53.46024352,  -75.1802407 ,  -23.56087961,  -41.49764889,\n",
      "        -46.28815084,  -53.5866265 ,  -70.6721906 ,  -58.40832946,\n",
      "        -52.78543756,  -57.62274801,  -55.58865339,  -81.2074076 ,\n",
      "       -118.71881189, -126.70599313, -126.6416036 , -140.3972828 ,\n",
      "       -156.11261596, -171.81900731, -181.01492475, -168.69233465,\n",
      "       -137.38161554, -107.03896074,  -89.74989185,  -74.57259755,\n",
      "        -76.99293016,  -81.97298788,  -64.10331259,  -51.92166229,\n",
      "        -63.40095985,  -61.85373805,  -57.21508854,  -52.16088851,\n",
      "        -55.35900273,  -61.26859424,  -56.72707684,  -74.15212456,\n",
      "        -77.94072372,  -61.30750875,  -55.90027586,  -60.94617244,\n",
      "        -59.61414531,  -36.11667877,  -53.04875905,  -62.74149983,\n",
      "        -49.74798092,  -50.60922676,  -45.79498069,  -58.46840997,\n",
      "        -45.926418  ,  -49.42082125,  -47.74988805,  -39.0493488 ,\n",
      "        -14.32135554,    6.65071392,  -10.17591207,  -12.98213459,\n",
      "          0.        ]), array([-20.07245053,  12.69568719,  15.56909354,  25.22764492,\n",
      "        17.94171757, -14.18723163,  -5.19401307,   0.        ]), array([-17.92445226,   6.66998246,  22.47692559,   0.        ]), array([ 27.91598058,  11.78800643, -11.72471763,   5.78370198,\n",
      "         0.        ]), array([-11.11749197,  -7.60546615,   5.48506281,   0.        ]), array([ 41.61254506,  15.81242741, -12.91357133,  26.46930019,\n",
      "        21.12910857,  37.99176951,  41.06851355,  65.92714124,\n",
      "       113.66620827, 104.12368621, 105.28751228, 100.79836144,\n",
      "       137.06368451, 127.02857995,  75.91319322,  95.37497184,\n",
      "       102.2876468 ,  82.2203032 ,  71.66953217,  84.12131751,\n",
      "        87.6522892 ,  62.81175986,  57.32272797,  78.40668393,\n",
      "        67.80419799,  62.58601706,  51.92260731,  52.82882239,\n",
      "        64.02322213,  68.86129463,  72.38068696,  52.00543832,\n",
      "        66.42009168,  68.9098543 ,  45.42789542,  74.15448267,\n",
      "       102.41571837, 101.65072645,  85.57152689,  82.89775072,\n",
      "       105.61347416,  89.95342406,  82.57774441,  89.1921082 ,\n",
      "        81.91906131,  70.99283428,  67.89624406,  81.4741621 ,\n",
      "        58.27856309,  53.27317835,  75.47603175,  56.01383271,\n",
      "        63.44343642,  81.48043138,  54.72199634,  56.55951686,\n",
      "        49.18975064,  41.42057743,  50.5583031 ,  33.0432507 ,\n",
      "        16.98257514,  13.01990345,  19.59748342,  25.62548648,\n",
      "        17.84351508,   6.67330916,   7.43202861,  19.81813388,\n",
      "         9.28830189,   0.        ]), array([28.62938064, 37.06788074,  7.03450248,  0.        ]), array([-14.8445332 ,   6.841642  ,   9.19227049,   5.16594625,\n",
      "        14.08361803,   0.        ]), array([ -29.2730115 ,   17.80378224,  -21.84492479,  -91.04213754,\n",
      "        -44.65889207,  -44.09068014,  -63.13842692,  -67.24105119,\n",
      "        -86.17843338,  -80.02659434,  -46.33369229,  -82.67650177,\n",
      "        -85.09372203,  -56.93335898,  -51.33254239,  -49.86805906,\n",
      "        -61.45161787,  -62.24989376,  -74.16373414,  -89.38493506,\n",
      "       -101.16148083, -108.2136006 , -129.3269636 , -143.06172534,\n",
      "       -157.31641756, -201.87741104, -215.50865263, -203.96293745,\n",
      "       -210.36083443, -208.06209204, -165.01683395, -136.94074321,\n",
      "        -94.81476707,  -66.79947033,  -62.48211369,  -39.99024226,\n",
      "        -36.93279888,  -53.38191707,  -36.8869643 ,  -25.91777466,\n",
      "        -41.98470763,  -28.63188822,  -16.42629834,  -25.46010254,\n",
      "        -50.61630052,  -44.18423989,  -23.41678802,  -23.88569054,\n",
      "        -17.31750542,  -22.11132782,  -38.60157046,  -36.43808315,\n",
      "        -25.35254201,  -12.54753428,  -17.72302406,  -37.05275693,\n",
      "        -28.93243047,  -25.67711299,  -24.16991424,  -36.23596957,\n",
      "        -36.90763367,  -25.3009182 ,  -24.11056739,  -14.47024601,\n",
      "        -32.34601208,  -39.71886503,  -10.43201644,   17.37593642,\n",
      "          0.        ]), array([  6.7417732 ,  -8.04552903, -19.05747277,   0.        ]), array([-13.18510841,  -5.04295   ,  -5.56068167, -38.92559423,\n",
      "        11.90628059,  39.93543254,   0.        ]), array([-13.77594816,   9.76101974,  -8.45001951,  -9.51344266,\n",
      "         5.46969338,   0.        ]), array([ 9.394813  , 12.09923269,  5.32950977,  0.        ]), array([ 10.73342754,   8.70430771,  -8.83097762, -10.2173658 ,\n",
      "         7.21394163,   5.20539031,   0.        ]), array([-20.09222071,  -6.48197275,  -6.66169319,  -8.28665826,\n",
      "         8.069275  ,  20.12231574,  35.64608741,  44.7315654 ,\n",
      "        63.6909919 ,  90.93185694, 109.90874832,  68.9416517 ,\n",
      "       152.5284344 , 223.09776518, 165.51911598, 162.18807963,\n",
      "       134.986376  , 155.307286  , 165.89346244, 143.24270644,\n",
      "       130.09229728, 128.30417981, 129.79572558, 110.71296428,\n",
      "       110.12313496,  90.13805207,  83.0710263 , 100.70043596,\n",
      "        87.69457753,  63.59649973,  74.56999136,  80.46465953,\n",
      "        61.97538994,  62.41199962,  46.81168064,  38.42753039,\n",
      "        62.25978277,  62.56316637,  50.26743706,  44.09074085,\n",
      "        47.20281609,  37.86241427,  43.20599932,  45.41491166,\n",
      "        44.96641056,  54.95334824,  37.2333972 ,  37.278812  ,\n",
      "        53.73061289,  55.48826137,  53.95974738,  29.8011241 ,\n",
      "        34.10340646,  61.33357935,  42.55834957,  36.44301238,\n",
      "        32.07377347,  28.96515317,  24.71389799,  23.25418755,\n",
      "        27.56021458,  28.86217522,  28.79025961,  29.70832071,\n",
      "         7.20852268,   0.        ]), array([23.94520179, 25.73724727, 16.25141947,  0.        ]), array([12.91822894, -7.43460369, -7.79703764,  7.31976357,  8.72818383,\n",
      "        7.90993285,  7.17088863,  6.76575608,  6.05777308,  0.        ]), array([ -30.28145063,   -6.30818683,  -14.58775473,   -9.53279556,\n",
      "        -33.17028836,  -45.41351177,  -49.29883149,  -61.37617757,\n",
      "        -24.53408361,  -18.94743365,  -27.02813622,  -25.03083916,\n",
      "        -53.47544317,  -60.51375784,  -28.46475216,  -20.9238869 ,\n",
      "        -24.65850232,  -12.43095247,  -24.06617237,   -8.24199923,\n",
      "        -18.82249773,  -35.89531572,  -50.79469736,  -64.38822636,\n",
      "        -41.29621487,  -47.28189832,  -72.55707029,  -89.61200024,\n",
      "        -81.37139699,  -92.76984763, -115.89185211, -129.35103008,\n",
      "       -114.31644124, -101.21115348, -133.20183767, -140.65347676,\n",
      "       -122.71362814, -121.3249808 , -101.7070519 ,  -70.78262489,\n",
      "        -60.19046324,  -51.94833874,  -58.66584585,  -44.12182764,\n",
      "        -33.55369159,  -47.02832852,  -45.87398878,  -50.6663894 ,\n",
      "        -47.3624526 ,  -38.8872467 ,  -40.69745838,  -47.99217736,\n",
      "        -53.6249811 ,  -69.57434333,  -70.24558932,  -55.90809649,\n",
      "        -44.1913541 ,  -39.25615558,  -54.0424143 ,  -57.72243932,\n",
      "        -56.02653144,  -74.503776  ,  -61.81901274,  -46.06172846,\n",
      "        -50.59359028,  -53.73260409,  -57.11146531,  -58.26323808,\n",
      "        -61.61182841,  -51.39220334,  -52.17536888,  -54.05362613,\n",
      "        -35.8102129 ,  -23.96371224,  -28.63435028,  -26.67607287,\n",
      "        -22.35615671,  -29.88979983,  -15.34730594,    0.        ]), array([-35.10438268, -39.62393124, -35.49982208, -24.25890357,\n",
      "       -17.48406289, -11.22493428,  -8.63526099, -27.78638584,\n",
      "       -14.7273933 ,   0.        ]), array([ 15.4462603 ,  21.48935085,  -6.83013357, -13.28957349,\n",
      "       -38.77405876,   0.        ]), array([5.52218979, 5.39168721, 7.38111422, 0.        ]), array([ 50.16789294,  48.72378394,  33.24778276,  64.78372682,\n",
      "        89.15444892, 102.01064618, 104.75661979, 129.54587201,\n",
      "       116.1808583 , 128.05228598, 153.92329751, 143.09201579,\n",
      "       130.305686  , 131.86399078, 138.57850257, 123.45187552,\n",
      "       110.14252407, 116.33147147, 124.70830811,  98.67417191,\n",
      "        76.15125089, 106.81550994,  97.80650171,  69.72788187,\n",
      "        85.23817998,  95.73616625,  76.07814346,  72.01897575,\n",
      "        86.2889034 ,  85.0654147 ,  82.36123431,  78.9912332 ,\n",
      "        87.03214111,  77.42908637,  61.17693754,  45.47240014,\n",
      "        44.5629781 ,  52.67344505,  47.19132781,  31.04892847,\n",
      "        22.01629455,  30.56833228,  24.25480771,  20.60572279,\n",
      "        22.93133707,  26.71920856,  38.37267159,  35.82733394,\n",
      "        29.0799233 ,  25.58805362,  40.42210213,  55.37193479,\n",
      "        45.62526499,  23.61392524,  43.05975427,  57.75465692,\n",
      "        39.81949375,  35.39188035,  14.8020589 ,   5.81369361,\n",
      "        11.41548375,  16.12582838,  13.6002962 ,   6.52653824,\n",
      "        14.57614369,  19.87693126,   0.        ]), array([10.15951751, 21.44811172, 20.45060893,  0.        ]), array([-13.96087719, -20.39674714,  23.09648764,  27.15494997,\n",
      "        -6.72254296,   8.25670158,  26.94497918,   0.        ]), array([7.31797532, 9.61431294, 9.98030612, 8.70734327, 6.33341421,\n",
      "       5.64550242, 8.13949489, 6.22809311, 0.        ]), array([-10.66003401,  29.47027646, -20.98526128, -53.21622109,\n",
      "        32.20710611,  19.64872878, -18.61150259, -17.40254096,\n",
      "        -5.51314289,   0.        ]), array([  44.04417983,  -16.63335964,  -90.61365089,  -52.06349643,\n",
      "        -51.20603373,  -70.29015472,  -56.59576997,  -48.64675048,\n",
      "        -65.07908738, -114.57050323, -133.38234665, -102.29548373,\n",
      "       -107.89260183, -113.28050277, -109.66622798, -101.37531789,\n",
      "       -110.95369653, -117.52064836, -115.27654561, -107.58572022,\n",
      "        -86.26740501,  -87.08784422,  -60.61887391,  -51.97430515,\n",
      "        -56.10871213,  -78.06823525,  -92.76013967,  -55.03209444,\n",
      "        -46.85357884,  -58.53423027,  -56.26975551,  -51.84125219,\n",
      "        -53.25284528,  -49.1491878 ,  -38.65130738,  -54.28990571,\n",
      "        -68.20049718,  -65.47589003,  -40.46911496,   -9.94202427,\n",
      "        -26.48629464,  -35.5204665 ,  -43.76830456,  -52.73125164,\n",
      "        -35.21889735,  -43.01212548,  -47.47714524,  -26.01856524,\n",
      "        -50.76923148,  -66.99679435,  -47.44501277,  -55.06353943,\n",
      "        -58.25419394,  -64.75034914,  -56.21418203,  -43.19810674,\n",
      "        -47.91840389,  -51.32127596,  -50.13891667,  -41.91813242,\n",
      "        -41.33023164,  -51.19706586,  -49.95739965,  -27.53083924,\n",
      "        -30.25201953,  -21.81912472,  -17.90112824,  -13.69550199,\n",
      "          0.        ]), array([-30.97064039, -19.84922437,  -8.58369997, -27.16856871,\n",
      "       -25.1928371 , -35.0048269 , -37.79479746, -26.41679489,\n",
      "       -34.3567651 , -30.55891413,   0.        ]), array([-25.10325603, -26.30077885,   7.41871126,  -9.39808894,\n",
      "       -20.39080134,   0.        ]), array([ 15.11246395,  -8.31583337, -52.45502409,  -6.7135865 ,\n",
      "        25.94502369,   0.        ]), array([ 25.0137973 ,  11.46982583, -11.80830672,   0.        ]), array([-7.92758115,  8.17374839,  5.31776298,  0.        ]), array([  5.4549158 , -42.93776105,  27.67450988,  92.33237065,\n",
      "        60.30219632,  94.17853164,  80.8850066 , 129.27449868,\n",
      "       150.35291188,  84.33062104, 110.64622248, 133.14019604,\n",
      "        82.50887111,  86.55558359, 127.54617618, 101.24016205,\n",
      "       106.39271324, 149.18269581, 135.68886922, 124.00046822,\n",
      "       124.68572817, 123.76331541, 123.94502517, 113.40291193,\n",
      "       118.37203435, 119.65194517, 127.13797839, 122.8866201 ,\n",
      "        74.72864698,  83.44016874,  93.8054665 ,  78.56761107,\n",
      "        78.24360612,  87.00067936, 129.69437815, 109.55791534,\n",
      "        83.41744731,  94.67369806, 100.34401851, 107.02397353,\n",
      "       100.1744233 ,  89.27310883,  99.5788119 ,  65.24413302,\n",
      "        33.67054835,  63.72536543,  60.0549469 ,  40.87932966,\n",
      "        26.3562652 ,  61.73890028,  72.40355681,  17.39672708,\n",
      "        19.27707317,  27.22588298,  24.42172867,  25.47647423,\n",
      "         0.        ]), array([  6.41065568,  31.021301  ,  25.31628726,   9.25282568,\n",
      "         7.46166919, -13.26674331, -16.01193236,   6.83657516,\n",
      "         6.88605667,  10.80970126,  12.19072593,   5.58289395,\n",
      "         5.69601102,   6.78103105,   0.        ]), array([6.99376312, 8.22003118, 7.05284144, 0.        ]), array([  -6.7888586 ,   -6.47849133,   -5.55847893,   -5.17436674,\n",
      "          9.25614999,  -58.8293742 , -104.17535255,  -63.70261728,\n",
      "        -73.32140253,  -83.69864327,  -54.58602529,  -49.62279175,\n",
      "        -83.34683023,  -77.47502441,  -63.95535047,  -48.60483938,\n",
      "        -34.55680093,  -13.82389922,    0.        ]), array([ -41.5123949 ,  -25.26964796,  -17.45325665,  -50.2062795 ,\n",
      "        -55.81770252,  -88.74721401, -107.15267687,  -97.15524029,\n",
      "       -101.85471172, -128.34567249, -152.83885851, -164.19753757,\n",
      "       -178.86434741, -201.65723282, -207.77766059, -199.3599395 ,\n",
      "       -184.37202639, -174.75242402, -143.39396518, -121.34937849,\n",
      "       -120.45634058,  -93.76001898,  -87.07550909,  -72.97124301,\n",
      "        -58.03945495,  -54.20608115,  -62.68147988,  -74.36968052,\n",
      "        -59.0239298 ,  -44.95121674,  -32.98574917,  -26.96654675,\n",
      "        -49.45222456,  -54.75208844,  -33.84601353,  -33.06849623,\n",
      "        -34.22733449,  -28.48418704,  -40.44193857,  -43.93508471,\n",
      "        -26.08419398,  -20.43695317,  -28.59023142,  -21.77253408,\n",
      "        -25.75268254,  -36.36301917,  -32.34992981,  -33.37970139,\n",
      "        -29.72827674,  -26.47412458,  -25.51607814,  -24.22012506,\n",
      "        -27.67692962,  -20.86713026,  -20.37509081,  -31.64742337,\n",
      "        -18.99757242,  -17.3380016 ,  -15.31099949,   -7.87425338,\n",
      "        -27.61166652,    0.        ]), array([-6.94074164,  8.27163417, 10.63540214,  0.        ]), array([-5.82944748,  6.21404901, 16.88914416, -7.55211015,  0.        ]), array([ 16.31417595, -16.26874432,  -9.34673322,  23.34741639,\n",
      "         0.        ]), array([ 21.11184061,   7.71691429, -21.01098092,  -7.5601776 ,\n",
      "         0.        ]), array([-7.32802023, -6.46360474,  6.27631769,  0.        ]), array([-34.2499358 ,   9.40452405,  34.15837841, -11.49778727,\n",
      "         0.        ])]\n"
     ]
    }
   ],
   "source": [
    "OPEN_DF_HOL_1[\"Speed\"] = np.gradient(OPEN_DF_HOL_1['Vert_Lip_Motion'], OPEN_DF_HOL_1[\"Time\"])\n",
    "\n",
    "OPEN_ARRAY_HOL_1_SPEED = OPEN_DF_HOL_1[\"Speed\"].values\n",
    "\n",
    "\n",
    "# set the noise at rest to be zero \n",
    "threshold = 5 #mm**2/sec\n",
    "\n",
    "super_threshold_indices = abs(OPEN_ARRAY_HOL_1_SPEED) < threshold\n",
    "OPEN_ARRAY_HOL_1_SPEED[super_threshold_indices] = 0\n",
    "\n",
    "cycles = np.split(OPEN_ARRAY_HOL_1_SPEED, np.where(OPEN_ARRAY_HOL_1_SPEED[:-1] == 0)[0]+1)\n",
    "cycles = [array for array in cycles if len(array) >3]\n",
    "print(len(cycles))\n",
    "print(cycles)"
   ]
  },
  {
   "cell_type": "code",
   "execution_count": 56,
   "metadata": {},
   "outputs": [
    {
     "data": {
      "text/plain": [
       "(array([  45,   46,   47, ..., 2278, 2280, 2282], dtype=int64),)"
      ]
     },
     "execution_count": 56,
     "metadata": {},
     "output_type": "execute_result"
    }
   ],
   "source": [
    "np.where(abs(OPEN_ARRAY_HOL_1_SPEED[:-1]) > 0)\n"
   ]
  },
  {
   "cell_type": "code",
   "execution_count": 58,
   "metadata": {},
   "outputs": [
    {
     "data": {
      "text/plain": [
       "array([   1,    2,    3, ..., 2365, 2366, 2367], dtype=int64)"
      ]
     },
     "execution_count": 58,
     "metadata": {},
     "output_type": "execute_result"
    }
   ],
   "source": [
    "np.where(abs(OPEN_ARRAY_HOL_1_SPEED[:-1]) == 0)[0]+1"
   ]
  },
  {
   "cell_type": "code",
   "execution_count": 38,
   "metadata": {},
   "outputs": [
    {
     "data": {
      "text/plain": [
       "[<matplotlib.lines.Line2D at 0x191f1d17a20>]"
      ]
     },
     "execution_count": 38,
     "metadata": {},
     "output_type": "execute_result"
    },
    {
     "data": {
      "image/png": "[encoded data removed]",
      "text/plain": [
       "<Figure size 432x288 with 1 Axes>"
      ]
     },
     "metadata": {
      "needs_background": "light"
     },
     "output_type": "display_data"
    }
   ],
   "source": [
    "plt.plot(OPEN_ARRAY_HOL_1_SPEED)"
   ]
  },
  {
   "cell_type": "code",
   "execution_count": 14,
   "metadata": {},
   "outputs": [
    {
     "data": {
      "text/plain": [
       "<matplotlib.axes._subplots.AxesSubplot at 0x21b68aca128>"
      ]
     },
     "execution_count": 14,
     "metadata": {},
     "output_type": "execute_result"
    },
    {
     "data": {
      "image/png": "[encoded data removed]",
      "text/plain": [
       "<Figure size 432x288 with 1 Axes>"
      ]
     },
     "metadata": {
      "needs_background": "light"
     },
     "output_type": "display_data"
    }
   ],
   "source": [
    "OPEN_DF_HOL_1.plot(x='FrameID', y=['Vert_Lip_Motion', \"Speed\"], style='o')"
   ]
  },
  {
   "cell_type": "code",
   "execution_count": 16,
   "metadata": {},
   "outputs": [
    {
     "data": {
      "text/plain": [
       "<matplotlib.axes._subplots.AxesSubplot at 0x21b69d06b38>"
      ]
     },
     "execution_count": 16,
     "metadata": {},
     "output_type": "execute_result"
    },
    {
     "data": {
      "image/png": "[encoded data removed]",
      "text/plain": [
       "<Figure size 432x288 with 1 Axes>"
      ]
     },
     "metadata": {
      "needs_background": "light"
     },
     "output_type": "display_data"
    }
   ],
   "source": [
    "OPEN_DF_HOL_1.plot(x='FrameID', y=[ \"Speed\"], style='o')"
   ]
  },
  {
   "cell_type": "markdown",
   "metadata": {},
   "source": [
    "### SYMMETRY ANALYSIS\n",
    "\n",
    "We do this, by defining right and left triangles from the right and left corner sensors to the top and bottom "
   ]
  },
  {
   "cell_type": "code",
   "execution_count": 10,
   "metadata": {},
   "outputs": [],
   "source": [
    "\n",
    "def triangleArea(DF):\n",
    "    # the choices are LLEFT, LR, LL, LU in string format\n",
    "    DF[\"DownToLeft\"] = DF.apply(lambda row: math.sqrt((row.X_LLeft - row.X_LL)**2 + (row.Y_LLeft - row.Y_LL)**2\n",
    "                                                                      + (row.Z_LLeft - row.Z_LL)**2), axis = 1)\n",
    "    \n",
    "    DF[\"UpToLeft\"] = DF.apply(lambda row: math.sqrt((row.X_LLeft - row.X_UL)**2 + (row.Y_LLeft - row.Y_UL)**2\n",
    "                                                                      + (row.Z_LLeft - row.Z_UL)**2), axis = 1)\n",
    "    \n",
    "    DF[\"DownToRight\"] = DF.apply(lambda row: math.sqrt((row.X_LR - row.X_LL)**2 + (row.Y_LR - row.Y_LL)**2 +\n",
    "                                                                 (row.Z_LR - row.Z_LL)**2), axis = 1) \n",
    "    \n",
    "    DF[\"UpToRight\"] = DF.apply(lambda row: math.sqrt((row.X_LR - row.X_UL)**2 + (row.Y_LR - row.Y_UL)**2 +\n",
    "                                                                 (row.Z_LR - row.Z_UL)**2), axis = 1) \n",
    "    \n",
    "    DF[\"HP_L\"] = DF.apply(lambda row: ((row.DownToLeft + row.UpToLeft + row.Vert_Lip_Motion)/2), axis = 1)\n",
    "        \n",
    "    DF[\"HP_R\"] = DF.apply(lambda row: ((row.DownToRight + row.UpToRight + row.Vert_Lip_Motion)/2), axis = 1)\n",
    "    \n",
    "    \n",
    "    DF[\"Area_Left\"] = DF.apply(lambda row:  math.sqrt(row.HP_L*(row.HP_L - row.DownToLeft)*(row.HP_L - row.UpToLeft)*\n",
    "                                                     (row.HP_L - row.Vert_Lip_Motion)), axis = 1)\n",
    "    \n",
    "    DF[\"Area_Right\"] = DF.apply(lambda row:  math.sqrt(row.HP_R*(row.HP_R - row.DownToRight)*(row.HP_R - row.UpToRight)*\n",
    "                                                     (row.HP_R - row.Vert_Lip_Motion)), axis = 1)\n",
    "    \n",
    "    DF[\"Area_Ratio\"] = DF.apply(lambda row: row.Area_Left/row.Area_Right, axis = 1)\n",
    "    \n",
    "    \n",
    "    return DF\n",
    "    \n",
    "    "
   ]
  },
  {
   "cell_type": "code",
   "execution_count": 11,
   "metadata": {},
   "outputs": [],
   "source": [
    "OPEN_DF_HOL_1 = triangleArea(OPEN_DF_HOL_1)"
   ]
  },
  {
   "cell_type": "code",
   "execution_count": null,
   "metadata": {},
   "outputs": [],
   "source": []
  },
  {
   "cell_type": "markdown",
   "metadata": {},
   "source": [
    "### Displaying the results "
   ]
  },
  {
   "cell_type": "code",
   "execution_count": 22,
   "metadata": {},
   "outputs": [
    {
     "data": {
      "text/html": [
       "<div>\n",
       "<style scoped>\n",
       "    .dataframe tbody tr th:only-of-type {\n",
       "        vertical-align: middle;\n",
       "    }\n",
       "\n",
       "    .dataframe tbody tr th {\n",
       "        vertical-align: top;\n",
       "    }\n",
       "\n",
       "    .dataframe thead th {\n",
       "        text-align: right;\n",
       "    }\n",
       "</style>\n",
       "<table border=\"1\" class=\"dataframe\">\n",
       "  <thead>\n",
       "    <tr style=\"text-align: right;\">\n",
       "      <th></th>\n",
       "      <th>Time</th>\n",
       "      <th>Vert_Lip_Motion</th>\n",
       "      <th>Horiz_Lip_Motion</th>\n",
       "      <th>Area_Left</th>\n",
       "      <th>Area_Right</th>\n",
       "      <th>Area_Ratio</th>\n",
       "      <th>Speed</th>\n",
       "    </tr>\n",
       "  </thead>\n",
       "  <tbody>\n",
       "    <tr>\n",
       "      <td>count</td>\n",
       "      <td>2368.000000</td>\n",
       "      <td>2368.000000</td>\n",
       "      <td>2368.000000</td>\n",
       "      <td>2368.000000</td>\n",
       "      <td>2368.000000</td>\n",
       "      <td>2368.000000</td>\n",
       "      <td>2368.000000</td>\n",
       "    </tr>\n",
       "    <tr>\n",
       "      <td>mean</td>\n",
       "      <td>11.860220</td>\n",
       "      <td>43.217148</td>\n",
       "      <td>59.506669</td>\n",
       "      <td>672.580285</td>\n",
       "      <td>698.306647</td>\n",
       "      <td>0.966469</td>\n",
       "      <td>-0.003070</td>\n",
       "    </tr>\n",
       "    <tr>\n",
       "      <td>std</td>\n",
       "      <td>6.831923</td>\n",
       "      <td>20.078110</td>\n",
       "      <td>5.930171</td>\n",
       "      <td>276.308438</td>\n",
       "      <td>291.903112</td>\n",
       "      <td>0.024118</td>\n",
       "      <td>41.024020</td>\n",
       "    </tr>\n",
       "    <tr>\n",
       "      <td>min</td>\n",
       "      <td>0.034500</td>\n",
       "      <td>16.380783</td>\n",
       "      <td>50.642003</td>\n",
       "      <td>284.459923</td>\n",
       "      <td>297.371783</td>\n",
       "      <td>0.872163</td>\n",
       "      <td>-215.508653</td>\n",
       "    </tr>\n",
       "    <tr>\n",
       "      <td>25%</td>\n",
       "      <td>5.947325</td>\n",
       "      <td>18.462483</td>\n",
       "      <td>54.058103</td>\n",
       "      <td>322.366181</td>\n",
       "      <td>335.221885</td>\n",
       "      <td>0.950144</td>\n",
       "      <td>-3.650269</td>\n",
       "    </tr>\n",
       "    <tr>\n",
       "      <td>50%</td>\n",
       "      <td>11.860200</td>\n",
       "      <td>53.924261</td>\n",
       "      <td>56.543906</td>\n",
       "      <td>847.630151</td>\n",
       "      <td>865.743620</td>\n",
       "      <td>0.966926</td>\n",
       "      <td>-0.228898</td>\n",
       "    </tr>\n",
       "    <tr>\n",
       "      <td>75%</td>\n",
       "      <td>17.773100</td>\n",
       "      <td>62.366004</td>\n",
       "      <td>66.344169</td>\n",
       "      <td>929.820737</td>\n",
       "      <td>973.107571</td>\n",
       "      <td>0.982103</td>\n",
       "      <td>3.494882</td>\n",
       "    </tr>\n",
       "    <tr>\n",
       "      <td>max</td>\n",
       "      <td>23.686000</td>\n",
       "      <td>67.896916</td>\n",
       "      <td>68.151060</td>\n",
       "      <td>1031.436275</td>\n",
       "      <td>1050.501083</td>\n",
       "      <td>1.061095</td>\n",
       "      <td>223.097765</td>\n",
       "    </tr>\n",
       "  </tbody>\n",
       "</table>\n",
       "</div>"
      ],
      "text/plain": [
       "              Time  Vert_Lip_Motion  Horiz_Lip_Motion    Area_Left  \\\n",
       "count  2368.000000      2368.000000       2368.000000  2368.000000   \n",
       "mean     11.860220        43.217148         59.506669   672.580285   \n",
       "std       6.831923        20.078110          5.930171   276.308438   \n",
       "min       0.034500        16.380783         50.642003   284.459923   \n",
       "25%       5.947325        18.462483         54.058103   322.366181   \n",
       "50%      11.860200        53.924261         56.543906   847.630151   \n",
       "75%      17.773100        62.366004         66.344169   929.820737   \n",
       "max      23.686000        67.896916         68.151060  1031.436275   \n",
       "\n",
       "        Area_Right   Area_Ratio        Speed  \n",
       "count  2368.000000  2368.000000  2368.000000  \n",
       "mean    698.306647     0.966469    -0.003070  \n",
       "std     291.903112     0.024118    41.024020  \n",
       "min     297.371783     0.872163  -215.508653  \n",
       "25%     335.221885     0.950144    -3.650269  \n",
       "50%     865.743620     0.966926    -0.228898  \n",
       "75%     973.107571     0.982103     3.494882  \n",
       "max    1050.501083     1.061095   223.097765  "
      ]
     },
     "execution_count": 22,
     "metadata": {},
     "output_type": "execute_result"
    }
   ],
   "source": [
    "OPEN_DF_HOL_1[[\"Time\",'Vert_Lip_Motion','Horiz_Lip_Motion', \"Area_Left\", \"Area_Right\", \"Area_Ratio\", \"Speed\"]].describe()"
   ]
  },
  {
   "cell_type": "code",
   "execution_count": 13,
   "metadata": {},
   "outputs": [
    {
     "ename": "NameError",
     "evalue": "name 'REST_DF' is not defined",
     "output_type": "error",
     "traceback": [
      "\u001b[1;31m---------------------------------------------------------------------------\u001b[0m",
      "\u001b[1;31mNameError\u001b[0m                                 Traceback (most recent call last)",
      "\u001b[1;32m<ipython-input-13-bca25d73fb67>\u001b[0m in \u001b[0;36m<module>\u001b[1;34m\u001b[0m\n\u001b[1;32m----> 1\u001b[1;33m \u001b[0mREST_DF\u001b[0m\u001b[1;33m.\u001b[0m\u001b[0mplot\u001b[0m\u001b[1;33m(\u001b[0m\u001b[0mx\u001b[0m\u001b[1;33m=\u001b[0m\u001b[1;34m'Time'\u001b[0m\u001b[1;33m,\u001b[0m \u001b[0my\u001b[0m\u001b[1;33m=\u001b[0m\u001b[1;34m'Vert_Lip_Motion'\u001b[0m\u001b[1;33m,\u001b[0m \u001b[0mstyle\u001b[0m\u001b[1;33m=\u001b[0m\u001b[1;34m'o'\u001b[0m\u001b[1;33m)\u001b[0m\u001b[1;33m\u001b[0m\u001b[1;33m\u001b[0m\u001b[0m\n\u001b[0m",
      "\u001b[1;31mNameError\u001b[0m: name 'REST_DF' is not defined"
     ]
    }
   ],
   "source": [
    "REST_DF.plot(x='Time', y='Vert_Lip_Motion', style='o')"
   ]
  },
  {
   "cell_type": "code",
   "execution_count": null,
   "metadata": {},
   "outputs": [],
   "source": [
    "BIGSMILE_DF.plot(x='FrameID', y='Horiz_Lip_Motion', style='o')"
   ]
  },
  {
   "cell_type": "code",
   "execution_count": null,
   "metadata": {},
   "outputs": [],
   "source": [
    "OPEN_DF_0.plot(x='FrameID', y='Horiz_Lip_Motion', style='o')"
   ]
  },
  {
   "cell_type": "code",
   "execution_count": null,
   "metadata": {},
   "outputs": [],
   "source": [
    "OPEN_DF_1.plot(x='FrameID', y='Horiz_Lip_Motion', style='o')"
   ]
  },
  {
   "cell_type": "code",
   "execution_count": null,
   "metadata": {},
   "outputs": [],
   "source": [
    "OPEN_DF_0.plot(x='Time', y=['Vert_Lip_Motion','Horiz_Lip_Motion'] , style='o')\n",
    "x = 2\n",
    "plt.savefig('%d'%x)"
   ]
  },
  {
   "cell_type": "code",
   "execution_count": null,
   "metadata": {},
   "outputs": [],
   "source": [
    "OPEN_DF_1.plot(x='Time', y='Vert_Lip_Motion', style='o')\n",
    "x = 2\n",
    "plt.savefig('%d'%x)"
   ]
  },
  {
   "cell_type": "code",
   "execution_count": null,
   "metadata": {},
   "outputs": [],
   "source": [
    "%matplotlib inline\n",
    "\n",
    "fig = plt.figure()\n",
    "ax = fig.add_subplot(111, projection='3d')\n",
    "\n",
    "ax.set_xlabel(\"x\")\n",
    "ax.set_ylabel(\"y\")\n",
    "ax.set_zlabel(\"z\")\n",
    "\n",
    "for frame in range(OPEN_DF.shape[0]):\n",
    "    ax.clear()\n",
    "    data=OPEN_DF.iloc[[frame]]\n",
    "    ax.scatter(data[\"X_LLeft\"],data[\"Y_LLeft\"], data[\"Z_LLeft\"], color=\"r\", label=\"Left Lip\")\n",
    "    ax.scatter(data[\"X_LR\"],data[\"Y_LR\"], data[\"Z_LR\"], color=\"g\", label=\"Right Lip\")\n",
    "    ax.scatter(data[\"X_UL\"],data[\"Y_UL\"], data[\"Z_UL\"], color=\"b\", label=\"Upper Lip\")\n",
    "    ax.scatter(data[\"X_LL\"],data[\"Y_LL\"], data[\"Z_LL\"], color=\"b\", label=\"Lower Lip\")\n",
    "    plt.savefig('fig_results/%d.png'%frame, bbox_inches='tight')\n",
    "\n",
    "    "
   ]
  },
  {
   "cell_type": "code",
   "execution_count": null,
   "metadata": {
    "scrolled": true
   },
   "outputs": [],
   "source": [
    "%matplotlib inline\n",
    "\n",
    "fig = plt.figure()\n",
    "ax = fig.add_subplot(111, projection='3d')\n",
    "\n",
    "ax.set_xlabel(\"x\")\n",
    "ax.set_ylabel(\"y\")\n",
    "ax.set_zlabel(\"z\")\n",
    "\n",
    "\n",
    "def connectpoints(DF_data, p1_sensor=\"\",p2_sensor=\"\"):\n",
    "    # the choices are LLEFT, LR, LL, LU in string format\n",
    "    x1 = data.iloc[0][\"X_%s\"%p1_sensor]\n",
    "    y1 = data.iloc[0][\"Y_%s\"%p1_sensor]\n",
    "    z1 = data.iloc[0][\"Z_%s\"%p1_sensor]\n",
    "\n",
    "    x2 = data.iloc[0][\"X_%s\"%p2_sensor]\n",
    "    y2 = data.iloc[0][\"Y_%s\"%p2_sensor]\n",
    "    z2 = data.iloc[0][\"Z_%s\"%p2_sensor]\n",
    "\n",
    "    plt.plot([x1,x2],[y1,y2],[z1,z2],'k-')\n",
    "\n",
    "\n",
    "def plotFrameGenerator(DF):\n",
    "    # GENERATE MOVIE OF THE SENSOR MOVEMENTS \n",
    "    for frame in range(DF.shape[0]):\n",
    "        ax.clear()\n",
    "        data=DF.iloc[[frame]]\n",
    "        ax.scatter(data[\"X_LLeft\"],data[\"Y_LLeft\"], data[\"Z_LLeft\"], color=\"b\", label=\"Left Lip\")\n",
    "        ax.scatter(data[\"X_LR\"],data[\"Y_LR\"], data[\"Z_LR\"], color=\"g\",label=\"Right Lip\")\n",
    "        ax.scatter(data[\"X_UL\"],data[\"Y_UL\"], data[\"Z_UL\"], color=\"r\",label=\"Upper Lip\")\n",
    "        ax.scatter(data[\"X_LL\"],data[\"Y_LL\"], data[\"Z_LL\"], color=\"black\",label=\"Lower Lip\")\n",
    "\n",
    "\n",
    "        connectpoints(data, \"LLeft\", \"UL\")\n",
    "        connectpoints(data, \"LLeft\", \"LL\")\n",
    "        connectpoints(data, p1_sensor=\"LR\", p2_sensor=\"UL\")\n",
    "        connectpoints(data, p1_sensor=\"LR\", p2_sensor=\"LL\")\n",
    "        #connectpoints(data, p1_sensor=\"UL\", p2_sensor=\"LL\")\n",
    "        connectpoints(data, p1_sensor=\"LLeft\", p2_sensor=\"LR\")\n",
    "\n",
    "        ax.set_xlim(-40, 40)\n",
    "        ax.set_ylim(-90, -30)\n",
    "        ax.set_zlim(-290, -200)\n",
    "\n",
    "        ax.view_init(elev=-90, azim=-30)\n",
    "        plt.savefig('fig_results/%d.png'%frame, bbox_inches='tight')\n"
   ]
  },
  {
   "cell_type": "code",
   "execution_count": null,
   "metadata": {},
   "outputs": [],
   "source": [
    "plotFrameGenerator(OPEN_DF_HOL_1)"
   ]
  },
  {
   "cell_type": "code",
   "execution_count": null,
   "metadata": {},
   "outputs": [],
   "source": [
    "%matplotlib notebook\n",
    "%matplotlib notebook\n",
    "\n",
    "fig = plt.figure()\n",
    "ax = fig.add_subplot(111, projection='3d')\n",
    "\n",
    "ax.set_xlabel(\"x\")\n",
    "ax.set_ylabel(\"y\")\n",
    "ax.set_zlabel(\"z\")\n",
    "\n",
    "def connectpoints(DF_data, p1_sensor=\"\",p2_sensor=\"\"):\n",
    "    # the choices are LLEFT, LR, LL, LU in string format\n",
    "    x1 = data.iloc[0][\"X_%s\"%p1_sensor]\n",
    "    y1 = data.iloc[0][\"Y_%s\"%p1_sensor]\n",
    "    z1 = data.iloc[0][\"Z_%s\"%p1_sensor]\n",
    "\n",
    "    x2 = data.iloc[0][\"X_%s\"%p2_sensor]\n",
    "    y2 = data.iloc[0][\"Y_%s\"%p2_sensor]\n",
    "    z2 = data.iloc[0][\"Z_%s\"%p2_sensor]\n",
    "\n",
    "    plt.plot([x1,x2],[y1,y2],[z1,z2],'k-')\n",
    "    \n",
    "data=OPEN_DF.iloc[[1000]]\n",
    "ax.scatter(data[\"X_LLeft\"],data[\"Y_LLeft\"], data[\"Z_LLeft\"], color=\"b\", label=\"Left Lip\")\n",
    "ax.scatter(data[\"X_LR\"],data[\"Y_LR\"], data[\"Z_LR\"], color=\"g\",label=\"Right Lip\")\n",
    "ax.scatter(data[\"X_UL\"],data[\"Y_UL\"], data[\"Z_UL\"], color=\"r\",label=\"Upper Lip\")\n",
    "ax.scatter(data[\"X_LL\"],data[\"Y_LL\"], data[\"Z_LL\"], color=\"black\",label=\"Lower Lip\")\n",
    "\n",
    "\n",
    "connectpoints(data, \"LLeft\", \"UL\")\n",
    "connectpoints(data, \"LLeft\", \"LL\")\n",
    "connectpoints(data, p1_sensor=\"LR\", p2_sensor=\"UL\")\n",
    "connectpoints(data, p1_sensor=\"LR\", p2_sensor=\"LL\")\n",
    "#connectpoints(data, p1_sensor=\"UL\", p2_sensor=\"LL\")\n",
    "connectpoints(data, p1_sensor=\"LLeft\", p2_sensor=\"LR\")\n",
    "\n",
    "ax.set_xlim(-40, 40)\n",
    "ax.set_ylim(-90, -30)\n",
    "ax.set_zlim(-290, -200)\n",
    "print (ax.azim)\n",
    "ax.view_init(elev=-90, azim=-30)"
   ]
  },
  {
   "cell_type": "code",
   "execution_count": null,
   "metadata": {},
   "outputs": [],
   "source": [
    "OPEN_DF[[\"Time\", \"X_LLeft\",\"Y_LLeft\",\"Z_LLeft\", \"X_LR\",\"Y_LR\",\"Z_LR\",\"X_UL\", \"Y_UL\", \"Z_UL\",\"X_LL\",\"Y_LL\",\"Z_LL\"]].describe()\n",
    "\n",
    "\n"
   ]
  },
  {
   "cell_type": "markdown",
   "metadata": {},
   "source": [
    "### SAVE RESULT INTO RESULT DF"
   ]
  },
  {
   "cell_type": "code",
   "execution_count": null,
   "metadata": {},
   "outputs": [],
   "source": [
    "RESULT_DF = \n",
    "\n",
    "\n",
    "# WRITE THE DATA TO A SCV FILE \n",
    "\n",
    "#header = [\"Time\", 'Horiz_Lip_Motion', 'Vert_Lip_Motion']\n",
    "#OPEN_DF.to_csv('open_sensor_results.csv', columns = header)"
   ]
  },
  {
   "cell_type": "code",
   "execution_count": null,
   "metadata": {},
   "outputs": [],
   "source": [
    "%matplotlib notebook\n",
    "%matplotlib notebook\n",
    "\n",
    "fig = plt.figure()\n",
    "ax = fig.add_subplot(111, projection='3d')\n",
    "\n",
    "\n",
    "ax.set_xlabel(\"x\")\n",
    "ax.set_ylabel(\"y\")\n",
    "ax.set_zlabel(\"z\")\n",
    "\n",
    "\n",
    "def connectpoints(DF_data, p1_sensor=\"\",p2_sensor=\"\"):\n",
    "    # the choices are LLEFT, LR, LL, LU in string format\n",
    "    x1 = data.iloc[0][\"X_%s\"%p1_sensor]\n",
    "    y1 = data.iloc[0][\"Y_%s\"%p1_sensor]\n",
    "    z1 = data.iloc[0][\"Z_%s\"%p1_sensor]\n",
    "\n",
    "    x2 = data.iloc[0][\"X_%s\"%p2_sensor]\n",
    "    y2 = data.iloc[0][\"Y_%s\"%p2_sensor]\n",
    "    z2 = data.iloc[0][\"Z_%s\"%p2_sensor]\n",
    "\n",
    "    plt.plot([x1,x2],[y1,y2],[z1,z2],'k-')\n",
    "\n",
    "\n",
    "\n",
    "\n",
    "data=OPEN_DF.iloc[[frame]]\n",
    "ax.scatter(data[\"X_LLeft\"],data[\"Y_LLeft\"], data[\"Z_LLeft\"], color=\"b\", label=\"Left Lip\")\n",
    "ax.scatter(data[\"X_LR\"],data[\"Y_LR\"], data[\"Z_LR\"], color=\"g\",label=\"Right Lip\")\n",
    "ax.scatter(data[\"X_UL\"],data[\"Y_UL\"], data[\"Z_UL\"], color=\"r\",label=\"Upper Lip\")\n",
    "ax.scatter(data[\"X_LL\"],data[\"Y_LL\"], data[\"Z_LL\"], color=\"black\",label=\"Lower Lip\")\n",
    "\n",
    "\n",
    "#connectpoints(data, \"LLeft\", \"UL\")\n",
    "#connectpoints(data, \"LLeft\", \"LL\")\n",
    "#connectpoints(data, p1_sensor=\"LR\", p2_sensor=\"UL\")\n",
    "#connectpoints(data, p1_sensor=\"LR\", p2_sensor=\"LL\")\n",
    "#connectpoints(data, p1_sensor=\"UL\", p2_sensor=\"LL\")\n",
    "#connectpoints(data, p1_sensor=\"LLeft\", p2_sensor=\"LR\")\n",
    "plt.show()\n",
    "\n",
    "    "
   ]
  },
  {
   "cell_type": "code",
   "execution_count": null,
   "metadata": {},
   "outputs": [],
   "source": [
    "# WRITE THE DATA TO A SCV FILE \n",
    "\n",
    "#header = [\"Time\", 'Horiz_Lip_Motion', 'Vert_Lip_Motion']\n",
    "#OPEN_DF.to_csv('open_sensor_results.csv', columns = header)\n",
    "#BIGSMILE_DF.to_csv('bigsmile_sensor_results.csv', columns = header)\n",
    "#REST_DF.to_csv('rest_sensor_results.csv', columns = header)"
   ]
  },
  {
   "cell_type": "code",
   "execution_count": null,
   "metadata": {},
   "outputs": [],
   "source": [
    "nfr = len(OPEN_DF) # Number of frames\n",
    "fps = 10 # Frame per sec\n",
    "\n",
    "xs = []\n",
    "ys = []\n",
    "zs = []\n",
    "ss = np.arange(1,nfr,1)\n",
    "for s in ss:\n",
    "    xs.append(np.array((OPEN_DF.iloc[0][\"X_UL\"], OPEN_DF.iloc[0][\"X_LL\"], OPEN_DF.iloc[0][\"X_LLeft\"],OPEN_DF.iloc[0][\"X_LR\"])))\n",
    "    ys.append(np.array((OPEN_DF.iloc[0][\"X_UL\"], OPEN_DF.iloc[0][\"X_LL\"], OPEN_DF.iloc[0][\"X_LLeft\"],OPEN_DF.iloc[0][\"X_LR\"])))\n",
    "    zs.append(np.array((OPEN_DF.iloc[0][\"X_UL\"], OPEN_DF.iloc[0][\"X_LL\"], OPEN_DF.iloc[0][\"X_LLeft\"],OPEN_DF.iloc[0][\"X_LR\"])))\n",
    "   \n"
   ]
  },
  {
   "cell_type": "code",
   "execution_count": null,
   "metadata": {},
   "outputs": [],
   "source": [
    "%matplotlib notebook\n",
    "%matplotlib notebook\n",
    "fig =  plt.figure()\n",
    "ax = fig.add_subplot(111, projection='3d')\n",
    "sct, = ax.plot([], [], [], \"o\", markersize=2)\n",
    "def update(ifrm, xa, ya, za):\n",
    "    sct.set_data(xa[ifrm], ya[ifrm])\n",
    "    sct.set_3d_properties(za[ifrm])\n",
    "ax.set_xlim(-100,100)\n",
    "ax.set_ylim(-100,100)\n",
    "ax.set_zlim(-100,100)\n",
    "ani = animation.FuncAnimation(fig, update, nfr, fargs=(xs,ys,zs), interval=1000/fps,  repeat=False, blit=False)\n"
   ]
  }
 ],
 "metadata": {
  "kernelspec": {
   "display_name": "Python 3",
   "language": "python",
   "name": "python3"
  },
  "language_info": {
   "codemirror_mode": {
    "name": "ipython",
    "version": 3
   },
   "file_extension": ".py",
   "mimetype": "text/x-python",
   "name": "python",
   "nbconvert_exporter": "python",
   "pygments_lexer": "ipython3",
   "version": "3.7.3"
  }
 },
 "nbformat": 4,
 "nbformat_minor": 2
}
