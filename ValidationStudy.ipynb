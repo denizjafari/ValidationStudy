{
 "cells": [
  {
   "cell_type": "markdown",
   "metadata": {},
   "source": [
    "# Validation Study "
   ]
  },
  {
   "cell_type": "markdown",
   "metadata": {},
   "source": [
    "we have 8 sensors 0-7, but sensor 1 is not connected, ie to tal of seven sensor data with sensor 1 being dead"
   ]
  },
  {
   "cell_type": "code",
   "execution_count": 1,
   "metadata": {},
   "outputs": [],
   "source": [
    "%matplotlib inline\n"
   ]
  },
  {
   "cell_type": "code",
   "execution_count": 2,
   "metadata": {},
   "outputs": [],
   "source": [
    "import os\n",
    "import pandas as pd\n",
    "from pandas import DataFrame\n",
    "import math\n",
    "import numpy as np\n",
    "import matplotlib\n",
    "import matplotlib.pyplot as plt\n",
    "from mpl_toolkits.mplot3d import Axes3D\n",
    "import matplotlib.animation as animation\n",
    "import scipy \n",
    "from scipy import signal\n",
    "#import seaborn as sns"
   ]
  },
  {
   "cell_type": "markdown",
   "metadata": {},
   "source": [
    "### READING DATA and Cleaning it "
   ]
  },
  {
   "cell_type": "code",
   "execution_count": 3,
   "metadata": {},
   "outputs": [],
   "source": [
    "def cleaning_df(DF):\n",
    "    # dropping columns with no value\n",
    "    #DF = DF.dropna(axis =1) \n",
    "    # dropping wave id column\n",
    "    DF = DF.drop(columns = 2, axis =1)\n",
    "    # name the first sensor columns \n",
    "    cols_0={0: \"Time\", 1: \"FrameID\", 3: \"SensorID\", 4: \"Sensor_1Status\", 5: \"X_Nose\", 6: \"Y_Nose\", 7:\"Z_Nose\"}\n",
    "    DF = DF.rename(columns=cols_0, errors=\"raise\")\n",
    "    DF = DF.drop(columns = [8,9,10, 11], axis =1)\n",
    "    \n",
    "    DF = DF.drop(columns = [12,13,14,15,16,17,18,19,20], axis =1)\n",
    "    cols_1={21: \"SensorID\", 22: \"Sensor_2Status\", 23: \"X_LLeft\", 24: \"Y_LLeft\", 25:\"Z_LLeft\"}\n",
    "    DF = DF.rename(columns=cols_1, errors=\"raise\")\n",
    "    \n",
    "    DF = DF.drop(columns = [26,27,28,29], axis =1)\n",
    "    cols_2={30: \"SensorID\", 31: \"Sensor_3Status\", 32: \"X_LR\", 33: \"Y_LR\", 34:\"Z_LR\"}\n",
    "    DF = DF.rename(columns=cols_2, errors=\"raise\")\n",
    "    \n",
    "    DF = DF.drop(columns = [35,36,37,38], axis =1)\n",
    "    cols_3={39: \"SensorID\", 40: \"Sensor_4Status\", 41: \"X_UL\", 42: \"Y_UL\", 43:\"Z_UL\"}\n",
    "    DF = DF.rename(columns=cols_3, errors=\"raise\")\n",
    "    \n",
    "    DF = DF.drop(columns = [44,44,46,47], axis =1)\n",
    "    cols_4={48: \"SensorID\", 49: \"Sensor_5Status\", 50: \"X_LL\", 51: \"Y_LL\", 52:\"Z_LL\"}\n",
    "    DF = DF.rename(columns=cols_4, errors=\"raise\")\n",
    "    \n",
    "    DF = DF.drop(columns = [53,54,55,56], axis =1)\n",
    "    cols_5={57: \"SensorID\", 58: \"Sensor_6Status\", 59: \"X_JR\", 60: \"Y_JR\", 61:\"Z_JR\"}\n",
    "    DF = DF.rename(columns=cols_5, errors=\"raise\")\n",
    "    \n",
    "    DF = DF.drop(columns = [62,63,64,65], axis =1)\n",
    "    cols_6={66: \"SensorID\", 67: \"Senson_7Status\", 68: \"X_JL\", 69: \"Y_JL\", 70:\"Z_JL\"}\n",
    "    DF = DF.rename(columns=cols_6, errors=\"raise\")\n",
    "    DF = DF.drop(columns = [71,72,73,74], axis =1)\n",
    "    return DF"
   ]
  },
  {
   "cell_type": "code",
   "execution_count": 4,
   "metadata": {},
   "outputs": [],
   "source": [
    "path = os.getcwd()+\"\\RM_3_20191101\\WAVE\\RM_3_20191101\"\n",
    "Files = os.listdir(path)           \n",
    "ext=('.tsv')\n",
    "Files = [i for i in Files if i.endswith(ext)]\n",
    "\n",
    "Tasks = ['REST', 'OPEN', 'SPREAD', 'OOEE', 'PA', 'BBP', 'TNG_PROTRUSION', 'TNG_LAT', 'TNG_NOSE']\n",
    "Conditions = ['FAST', 'SLOW', 'DISOR', 'HOLD']\n",
    "\n",
    "TASK_DFS_LIST = list()\n",
    "for i in range(0, len(Files)):\n",
    "    if Tasks[1] in Files[i]:\n",
    "        df = pd.read_csv(path+ \"\\\\\" + Files[i], delimiter='\\t', skiprows=1,header=None)\n",
    "        df = cleaning_df(df)\n",
    "        df['PatientID'] = Files[i][:4]\n",
    "        df['DataDATE'] = Files[i][5:13]\n",
    "        for condition in Conditions:\n",
    "            if condition in Files[i]:\n",
    "                df['Condition'] = condition\n",
    "            else:\n",
    "                df['Condition'] = 'NORMAL'\n",
    "        TASK_DFS_LIST.append(df)\n",
    "    else:\n",
    "        pass \n",
    "        \n",
    "        "
   ]
  },
  {
   "cell_type": "code",
   "execution_count": 5,
   "metadata": {},
   "outputs": [
    {
     "data": {
      "text/plain": [
       "'C:\\\\Users\\\\jafarid\\\\Documents\\\\Code\\\\ValidationStudy\\\\RM_3_20191101\\\\WAVE\\\\RM_3_20191101\\\\RM_3_20191101_2_039_TNG_NOSE_FAST_1.tsv'"
      ]
     },
     "execution_count": 5,
     "metadata": {},
     "output_type": "execute_result"
    }
   ],
   "source": [
    "path+ \"\\\\\" + Files[i]"
   ]
  },
  {
   "cell_type": "code",
   "execution_count": 6,
   "metadata": {},
   "outputs": [
    {
     "data": {
      "text/plain": [
       "8"
      ]
     },
     "execution_count": 6,
     "metadata": {},
     "output_type": "execute_result"
    }
   ],
   "source": [
    "len(TASK_DFS_LIST)\n"
   ]
  },
  {
   "cell_type": "code",
   "execution_count": 7,
   "metadata": {},
   "outputs": [],
   "source": [
    "# reading data into dataframes \n",
    "\n",
    "\n",
    "REST_DF_0 = pd.read_csv(path + \"\\RM_3_20191101_001_REST.tsv\", delimiter='\\t', skiprows=1,header=None)\n",
    "REST_DF_1 = pd.read_csv(path + \"\\RM_3_20191101_002_REST_1.tsv\", delimiter='\\t', skiprows=1,header=None)\n",
    "\n",
    "OPEN_DF_HOL_0 = pd.read_csv(path +\"\\RM_3_20191101_003_OPEN_HOLD.tsv\", delimiter='\\t', skiprows=1,header=None)\n",
    "OPEN_DF_HOL_1 = pd.read_csv(path +\"\\RM_3_20191101_004_OPEN_HOLD_1.tsv\", delimiter='\\t', skiprows=1,header=None)\n",
    "#BIGSMILE_DF = pd.read_csv('RM_1_20190913_004_BIGSMILE.tsv', delimiter='\\t', skiprows=1,header=None)"
   ]
  },
  {
   "cell_type": "code",
   "execution_count": 8,
   "metadata": {},
   "outputs": [],
   "source": [
    "REST_DF_0 = cleaning_df(REST_DF_0)\n",
    "REST_DF_1 = cleaning_df(REST_DF_1)\n",
    "\n",
    "OPEN_DF_HOL_0 = cleaning_df(OPEN_DF_HOL_0)\n",
    "OPEN_DF_HOL_1 = cleaning_df(OPEN_DF_HOL_1)\n",
    "\n",
    "#BIGSMILE_DF = cleaning_df(BIGSMILE_DF)"
   ]
  },
  {
   "cell_type": "markdown",
   "metadata": {},
   "source": [
    "### RANGE OF MOTION ANALYSIS"
   ]
  },
  {
   "cell_type": "code",
   "execution_count": 9,
   "metadata": {},
   "outputs": [],
   "source": [
    "def LipEdgeDist(DF):\n",
    "    DF['Horiz_Lip_Motion'] = DF.apply(lambda row: math.sqrt((row.X_LLeft - row.X_LR)**2 + (row.Y_LLeft - row.Y_LR)**2\n",
    "                                                                  + (row.Z_LLeft - row.Z_LR)**2), axis = 1) \n",
    "    DF['Vert_Lip_Motion'] = DF.apply(lambda row: math.sqrt((row.X_UL - row.X_LL)**2 + (row.Y_UL - row.Y_LL)**2 +\n",
    "                                                                 (row.Z_UL - row.Z_LL)**2), axis = 1) \n",
    "    return DF"
   ]
  },
  {
   "cell_type": "code",
   "execution_count": 10,
   "metadata": {},
   "outputs": [],
   "source": [
    "# Activity 1\n",
    "REST_DF_0 = LipEdgeDist(REST_DF_0)\n",
    "REST_DF_1 = LipEdgeDist(REST_DF_1)\n",
    "\n",
    "# Activity 2\n",
    "OPEN_DF_HOL_0 = LipEdgeDist(OPEN_DF_HOL_0)\n",
    "OPEN_DF_HOL_1 = LipEdgeDist(OPEN_DF_HOL_1)\n",
    "\n",
    "#BIGSMILE_DF = LipEdgeDist(BIGSMILE_DF)"
   ]
  },
  {
   "cell_type": "markdown",
   "metadata": {},
   "source": [
    "Plotting the horizontal and vertical distances "
   ]
  },
  {
   "cell_type": "code",
   "execution_count": 11,
   "metadata": {},
   "outputs": [
    {
     "data": {
      "text/plain": [
       "<matplotlib.axes._subplots.AxesSubplot at 0x27b25cc35c0>"
      ]
     },
     "execution_count": 11,
     "metadata": {},
     "output_type": "execute_result"
    },
    {
     "data": {
      "image/png": "[encoded data removed]",
      "text/plain": [
       "<Figure size 432x288 with 1 Axes>"
      ]
     },
     "metadata": {
      "needs_background": "light"
     },
     "output_type": "display_data"
    }
   ],
   "source": [
    "OPEN_DF_HOL_1.plot(x='FrameID', y=['Horiz_Lip_Motion', 'Vert_Lip_Motion'], style='o')"
   ]
  },
  {
   "cell_type": "markdown",
   "metadata": {},
   "source": [
    "### Kinematic Analysis\n",
    "\n",
    "finding the average speed, number describe would be used to find the min and max, "
   ]
  },
  {
   "cell_type": "code",
   "execution_count": 12,
   "metadata": {},
   "outputs": [
    {
     "name": "stdout",
     "output_type": "stream",
     "text": [
      "10\n",
      "[57.53255899265073, -70.5390194968286, 68.08683224499059, -64.23716115814317, 67.96540395610555, -51.42616363230654, 70.66813681367933, -53.49421193441563, 83.34248190927703, -65.44534174073588]\n"
     ]
    }
   ],
   "source": [
    "OPEN_DF_HOL_1[\"Speed\"] = signal.medfilt(np.gradient(OPEN_DF_HOL_1['Vert_Lip_Motion'], OPEN_DF_HOL_1[\"Time\"]), 9)\n",
    "\n",
    "OPEN_ARRAY_HOL_1_SPEED = OPEN_DF_HOL_1[\"Speed\"].values\n",
    "\n",
    "\n",
    "# set the noise at rest to be zero \n",
    "threshold = 19 #mm**2/sec\n",
    "\n",
    "super_threshold_indices = abs(OPEN_ARRAY_HOL_1_SPEED) < threshold\n",
    "OPEN_ARRAY_HOL_1_SPEED[super_threshold_indices] = 0\n",
    "\n",
    "cycles = np.split(OPEN_ARRAY_HOL_1_SPEED, np.where(OPEN_ARRAY_HOL_1_SPEED[:-1] == 0)[0]+1)\n",
    "cycles = [array for array in cycles if len(array) >3]\n",
    "cycles_mean = [np.mean(array) for array in cycles]\n",
    "print(len(cycles))\n",
    "print(cycles_mean)\n",
    "#print(cycles)"
   ]
  },
  {
   "cell_type": "code",
   "execution_count": 13,
   "metadata": {},
   "outputs": [],
   "source": [
    "#np.where(abs(OPEN_ARRAY_HOL_1_SPEED[:-1]) > 0)\n"
   ]
  },
  {
   "cell_type": "code",
   "execution_count": 14,
   "metadata": {},
   "outputs": [
    {
     "data": {
      "text/plain": [
       "array([   1,    2,    3, ..., 2365, 2366, 2367], dtype=int64)"
      ]
     },
     "execution_count": 14,
     "metadata": {},
     "output_type": "execute_result"
    }
   ],
   "source": [
    "np.where(abs(OPEN_ARRAY_HOL_1_SPEED[:-1]) == 0)[0]+1"
   ]
  },
  {
   "cell_type": "code",
   "execution_count": 15,
   "metadata": {},
   "outputs": [
    {
     "data": {
      "text/plain": [
       "[<matplotlib.lines.Line2D at 0x27b260414e0>]"
      ]
     },
     "execution_count": 15,
     "metadata": {},
     "output_type": "execute_result"
    },
    {
     "data": {
      "image/png": "[encoded data removed]",
      "text/plain": [
       "<Figure size 432x288 with 1 Axes>"
      ]
     },
     "metadata": {
      "needs_background": "light"
     },
     "output_type": "display_data"
    }
   ],
   "source": [
    "plt.plot(OPEN_ARRAY_HOL_1_SPEED)"
   ]
  },
  {
   "cell_type": "code",
   "execution_count": 16,
   "metadata": {},
   "outputs": [
    {
     "data": {
      "text/plain": [
       "<matplotlib.axes._subplots.AxesSubplot at 0x27b2607d2b0>"
      ]
     },
     "execution_count": 16,
     "metadata": {},
     "output_type": "execute_result"
    },
    {
     "data": {
      "image/png": "[encoded data removed]",
      "text/plain": [
       "<Figure size 432x288 with 1 Axes>"
      ]
     },
     "metadata": {
      "needs_background": "light"
     },
     "output_type": "display_data"
    }
   ],
   "source": [
    "OPEN_DF_HOL_1.plot(x='FrameID', y=['Vert_Lip_Motion', \"Speed\"], style='o')"
   ]
  },
  {
   "cell_type": "code",
   "execution_count": 17,
   "metadata": {},
   "outputs": [
    {
     "data": {
      "text/plain": [
       "<matplotlib.axes._subplots.AxesSubplot at 0x27b260f05c0>"
      ]
     },
     "execution_count": 17,
     "metadata": {},
     "output_type": "execute_result"
    },
    {
     "data": {
      "image/png": "[encoded data removed]",
      "text/plain": [
       "<Figure size 432x288 with 1 Axes>"
      ]
     },
     "metadata": {
      "needs_background": "light"
     },
     "output_type": "display_data"
    }
   ],
   "source": [
    "OPEN_DF_HOL_1.plot(x='FrameID', y=[ \"Speed\"], style='o')"
   ]
  },
  {
   "cell_type": "markdown",
   "metadata": {},
   "source": [
    "### SYMMETRY ANALYSIS\n",
    "\n",
    "We do this, by defining right and left triangles from the right and left corner sensors to the top and bottom "
   ]
  },
  {
   "cell_type": "code",
   "execution_count": 18,
   "metadata": {},
   "outputs": [],
   "source": [
    "\n",
    "def triangleArea(DF):\n",
    "    # the choices are LLEFT, LR, LL, LU in string format\n",
    "    DF[\"DownToLeft\"] = DF.apply(lambda row: math.sqrt((row.X_LLeft - row.X_LL)**2 + (row.Y_LLeft - row.Y_LL)**2\n",
    "                                                                      + (row.Z_LLeft - row.Z_LL)**2), axis = 1)\n",
    "    \n",
    "    DF[\"UpToLeft\"] = DF.apply(lambda row: math.sqrt((row.X_LLeft - row.X_UL)**2 + (row.Y_LLeft - row.Y_UL)**2\n",
    "                                                                      + (row.Z_LLeft - row.Z_UL)**2), axis = 1)\n",
    "    \n",
    "    DF[\"DownToRight\"] = DF.apply(lambda row: math.sqrt((row.X_LR - row.X_LL)**2 + (row.Y_LR - row.Y_LL)**2 +\n",
    "                                                                 (row.Z_LR - row.Z_LL)**2), axis = 1) \n",
    "    \n",
    "    DF[\"UpToRight\"] = DF.apply(lambda row: math.sqrt((row.X_LR - row.X_UL)**2 + (row.Y_LR - row.Y_UL)**2 +\n",
    "                                                                 (row.Z_LR - row.Z_UL)**2), axis = 1) \n",
    "    \n",
    "    DF[\"HP_L\"] = DF.apply(lambda row: ((row.DownToLeft + row.UpToLeft + row.Vert_Lip_Motion)/2), axis = 1)\n",
    "        \n",
    "    DF[\"HP_R\"] = DF.apply(lambda row: ((row.DownToRight + row.UpToRight + row.Vert_Lip_Motion)/2), axis = 1)\n",
    "    \n",
    "    \n",
    "    DF[\"Area_Left\"] = DF.apply(lambda row:  math.sqrt(row.HP_L*(row.HP_L - row.DownToLeft)*(row.HP_L - row.UpToLeft)*\n",
    "                                                     (row.HP_L - row.Vert_Lip_Motion)), axis = 1)\n",
    "    \n",
    "    DF[\"Area_Right\"] = DF.apply(lambda row:  math.sqrt(row.HP_R*(row.HP_R - row.DownToRight)*(row.HP_R - row.UpToRight)*\n",
    "                                                     (row.HP_R - row.Vert_Lip_Motion)), axis = 1)\n",
    "    \n",
    "    DF[\"Area_Ratio\"] = DF.apply(lambda row: row.Area_Left/row.Area_Right, axis = 1)\n",
    "    \n",
    "    \n",
    "    return DF\n",
    "    \n",
    "    "
   ]
  },
  {
   "cell_type": "code",
   "execution_count": 19,
   "metadata": {},
   "outputs": [],
   "source": [
    "OPEN_DF_HOL_1 = triangleArea(OPEN_DF_HOL_1)"
   ]
  },
  {
   "cell_type": "code",
   "execution_count": null,
   "metadata": {},
   "outputs": [],
   "source": []
  },
  {
   "cell_type": "markdown",
   "metadata": {},
   "source": [
    "### Displaying the results "
   ]
  },
  {
   "cell_type": "code",
   "execution_count": 20,
   "metadata": {},
   "outputs": [
    {
     "data": {
      "text/html": [
       "<div>\n",
       "<style scoped>\n",
       "    .dataframe tbody tr th:only-of-type {\n",
       "        vertical-align: middle;\n",
       "    }\n",
       "\n",
       "    .dataframe tbody tr th {\n",
       "        vertical-align: top;\n",
       "    }\n",
       "\n",
       "    .dataframe thead th {\n",
       "        text-align: right;\n",
       "    }\n",
       "</style>\n",
       "<table border=\"1\" class=\"dataframe\">\n",
       "  <thead>\n",
       "    <tr style=\"text-align: right;\">\n",
       "      <th></th>\n",
       "      <th>Time</th>\n",
       "      <th>Vert_Lip_Motion</th>\n",
       "      <th>Horiz_Lip_Motion</th>\n",
       "      <th>Area_Left</th>\n",
       "      <th>Area_Right</th>\n",
       "      <th>Area_Ratio</th>\n",
       "      <th>Speed</th>\n",
       "    </tr>\n",
       "  </thead>\n",
       "  <tbody>\n",
       "    <tr>\n",
       "      <td>count</td>\n",
       "      <td>2368.000000</td>\n",
       "      <td>2368.000000</td>\n",
       "      <td>2368.000000</td>\n",
       "      <td>2368.000000</td>\n",
       "      <td>2368.000000</td>\n",
       "      <td>2368.000000</td>\n",
       "      <td>2368.000000</td>\n",
       "    </tr>\n",
       "    <tr>\n",
       "      <td>mean</td>\n",
       "      <td>11.860220</td>\n",
       "      <td>43.217148</td>\n",
       "      <td>59.506669</td>\n",
       "      <td>672.580285</td>\n",
       "      <td>698.306647</td>\n",
       "      <td>0.966469</td>\n",
       "      <td>0.056590</td>\n",
       "    </tr>\n",
       "    <tr>\n",
       "      <td>std</td>\n",
       "      <td>6.831923</td>\n",
       "      <td>20.078110</td>\n",
       "      <td>5.930171</td>\n",
       "      <td>276.308438</td>\n",
       "      <td>291.903112</td>\n",
       "      <td>0.024118</td>\n",
       "      <td>39.150985</td>\n",
       "    </tr>\n",
       "    <tr>\n",
       "      <td>min</td>\n",
       "      <td>0.034500</td>\n",
       "      <td>16.380783</td>\n",
       "      <td>50.642003</td>\n",
       "      <td>284.459923</td>\n",
       "      <td>297.371783</td>\n",
       "      <td>0.872163</td>\n",
       "      <td>-201.877411</td>\n",
       "    </tr>\n",
       "    <tr>\n",
       "      <td>25%</td>\n",
       "      <td>5.947325</td>\n",
       "      <td>18.462483</td>\n",
       "      <td>54.058103</td>\n",
       "      <td>322.366181</td>\n",
       "      <td>335.221885</td>\n",
       "      <td>0.950144</td>\n",
       "      <td>-2.496817</td>\n",
       "    </tr>\n",
       "    <tr>\n",
       "      <td>50%</td>\n",
       "      <td>11.860200</td>\n",
       "      <td>53.924261</td>\n",
       "      <td>56.543906</td>\n",
       "      <td>847.630151</td>\n",
       "      <td>865.743620</td>\n",
       "      <td>0.966926</td>\n",
       "      <td>-0.106165</td>\n",
       "    </tr>\n",
       "    <tr>\n",
       "      <td>75%</td>\n",
       "      <td>17.773100</td>\n",
       "      <td>62.366004</td>\n",
       "      <td>66.344169</td>\n",
       "      <td>929.820737</td>\n",
       "      <td>973.107571</td>\n",
       "      <td>0.982103</td>\n",
       "      <td>2.448795</td>\n",
       "    </tr>\n",
       "    <tr>\n",
       "      <td>max</td>\n",
       "      <td>23.686000</td>\n",
       "      <td>67.896916</td>\n",
       "      <td>68.151060</td>\n",
       "      <td>1031.436275</td>\n",
       "      <td>1050.501083</td>\n",
       "      <td>1.061095</td>\n",
       "      <td>155.307286</td>\n",
       "    </tr>\n",
       "  </tbody>\n",
       "</table>\n",
       "</div>"
      ],
      "text/plain": [
       "              Time  Vert_Lip_Motion  Horiz_Lip_Motion    Area_Left  \\\n",
       "count  2368.000000      2368.000000       2368.000000  2368.000000   \n",
       "mean     11.860220        43.217148         59.506669   672.580285   \n",
       "std       6.831923        20.078110          5.930171   276.308438   \n",
       "min       0.034500        16.380783         50.642003   284.459923   \n",
       "25%       5.947325        18.462483         54.058103   322.366181   \n",
       "50%      11.860200        53.924261         56.543906   847.630151   \n",
       "75%      17.773100        62.366004         66.344169   929.820737   \n",
       "max      23.686000        67.896916         68.151060  1031.436275   \n",
       "\n",
       "        Area_Right   Area_Ratio        Speed  \n",
       "count  2368.000000  2368.000000  2368.000000  \n",
       "mean    698.306647     0.966469     0.056590  \n",
       "std     291.903112     0.024118    39.150985  \n",
       "min     297.371783     0.872163  -201.877411  \n",
       "25%     335.221885     0.950144    -2.496817  \n",
       "50%     865.743620     0.966926    -0.106165  \n",
       "75%     973.107571     0.982103     2.448795  \n",
       "max    1050.501083     1.061095   155.307286  "
      ]
     },
     "execution_count": 20,
     "metadata": {},
     "output_type": "execute_result"
    }
   ],
   "source": [
    "OPEN_DF_HOL_1[[\"Time\",'Vert_Lip_Motion','Horiz_Lip_Motion', \"Area_Left\", \"Area_Right\", \"Area_Ratio\", \"Speed\"]].describe()"
   ]
  },
  {
   "cell_type": "code",
   "execution_count": 21,
   "metadata": {},
   "outputs": [
    {
     "ename": "NameError",
     "evalue": "name 'REST_DF' is not defined",
     "output_type": "error",
     "traceback": [
      "\u001b[1;31m---------------------------------------------------------------------------\u001b[0m",
      "\u001b[1;31mNameError\u001b[0m                                 Traceback (most recent call last)",
      "\u001b[1;32m<ipython-input-21-bca25d73fb67>\u001b[0m in \u001b[0;36m<module>\u001b[1;34m\u001b[0m\n\u001b[1;32m----> 1\u001b[1;33m \u001b[0mREST_DF\u001b[0m\u001b[1;33m.\u001b[0m\u001b[0mplot\u001b[0m\u001b[1;33m(\u001b[0m\u001b[0mx\u001b[0m\u001b[1;33m=\u001b[0m\u001b[1;34m'Time'\u001b[0m\u001b[1;33m,\u001b[0m \u001b[0my\u001b[0m\u001b[1;33m=\u001b[0m\u001b[1;34m'Vert_Lip_Motion'\u001b[0m\u001b[1;33m,\u001b[0m \u001b[0mstyle\u001b[0m\u001b[1;33m=\u001b[0m\u001b[1;34m'o'\u001b[0m\u001b[1;33m)\u001b[0m\u001b[1;33m\u001b[0m\u001b[1;33m\u001b[0m\u001b[0m\n\u001b[0m",
      "\u001b[1;31mNameError\u001b[0m: name 'REST_DF' is not defined"
     ]
    }
   ],
   "source": [
    "REST_DF.plot(x='Time', y='Vert_Lip_Motion', style='o')"
   ]
  },
  {
   "cell_type": "code",
   "execution_count": null,
   "metadata": {},
   "outputs": [],
   "source": [
    "BIGSMILE_DF.plot(x='FrameID', y='Horiz_Lip_Motion', style='o')"
   ]
  },
  {
   "cell_type": "code",
   "execution_count": null,
   "metadata": {},
   "outputs": [],
   "source": [
    "OPEN_DF_0.plot(x='FrameID', y='Horiz_Lip_Motion', style='o')"
   ]
  },
  {
   "cell_type": "code",
   "execution_count": null,
   "metadata": {},
   "outputs": [],
   "source": [
    "OPEN_DF_1.plot(x='FrameID', y='Horiz_Lip_Motion', style='o')"
   ]
  },
  {
   "cell_type": "code",
   "execution_count": null,
   "metadata": {},
   "outputs": [],
   "source": [
    "OPEN_DF_0.plot(x='Time', y=['Vert_Lip_Motion','Horiz_Lip_Motion'] , style='o')\n",
    "x = 2\n",
    "plt.savefig('%d'%x)"
   ]
  },
  {
   "cell_type": "code",
   "execution_count": null,
   "metadata": {},
   "outputs": [],
   "source": [
    "OPEN_DF_1.plot(x='Time', y='Vert_Lip_Motion', style='o')\n",
    "x = 2\n",
    "plt.savefig('%d'%x)"
   ]
  },
  {
   "cell_type": "code",
   "execution_count": null,
   "metadata": {},
   "outputs": [],
   "source": [
    "%matplotlib inline\n",
    "\n",
    "fig = plt.figure()\n",
    "ax = fig.add_subplot(111, projection='3d')\n",
    "\n",
    "ax.set_xlabel(\"x\")\n",
    "ax.set_ylabel(\"y\")\n",
    "ax.set_zlabel(\"z\")\n",
    "\n",
    "for frame in range(OPEN_DF.shape[0]):\n",
    "    ax.clear()\n",
    "    data=OPEN_DF.iloc[[frame]]\n",
    "    ax.scatter(data[\"X_LLeft\"],data[\"Y_LLeft\"], data[\"Z_LLeft\"], color=\"r\", label=\"Left Lip\")\n",
    "    ax.scatter(data[\"X_LR\"],data[\"Y_LR\"], data[\"Z_LR\"], color=\"g\", label=\"Right Lip\")\n",
    "    ax.scatter(data[\"X_UL\"],data[\"Y_UL\"], data[\"Z_UL\"], color=\"b\", label=\"Upper Lip\")\n",
    "    ax.scatter(data[\"X_LL\"],data[\"Y_LL\"], data[\"Z_LL\"], color=\"b\", label=\"Lower Lip\")\n",
    "    plt.savefig('fig_results/%d.png'%frame, bbox_inches='tight')\n",
    "\n",
    "    "
   ]
  },
  {
   "cell_type": "code",
   "execution_count": null,
   "metadata": {
    "scrolled": true
   },
   "outputs": [],
   "source": [
    "%matplotlib inline\n",
    "\n",
    "fig = plt.figure()\n",
    "ax = fig.add_subplot(111, projection='3d')\n",
    "\n",
    "ax.set_xlabel(\"x\")\n",
    "ax.set_ylabel(\"y\")\n",
    "ax.set_zlabel(\"z\")\n",
    "\n",
    "\n",
    "def connectpoints(DF_data, p1_sensor=\"\",p2_sensor=\"\"):\n",
    "    # the choices are LLEFT, LR, LL, LU in string format\n",
    "    x1 = data.iloc[0][\"X_%s\"%p1_sensor]\n",
    "    y1 = data.iloc[0][\"Y_%s\"%p1_sensor]\n",
    "    z1 = data.iloc[0][\"Z_%s\"%p1_sensor]\n",
    "\n",
    "    x2 = data.iloc[0][\"X_%s\"%p2_sensor]\n",
    "    y2 = data.iloc[0][\"Y_%s\"%p2_sensor]\n",
    "    z2 = data.iloc[0][\"Z_%s\"%p2_sensor]\n",
    "\n",
    "    plt.plot([x1,x2],[y1,y2],[z1,z2],'k-')\n",
    "\n",
    "\n",
    "def plotFrameGenerator(DF):\n",
    "    # GENERATE MOVIE OF THE SENSOR MOVEMENTS \n",
    "    for frame in range(DF.shape[0]):\n",
    "        ax.clear()\n",
    "        data=DF.iloc[[frame]]\n",
    "        ax.scatter(data[\"X_LLeft\"],data[\"Y_LLeft\"], data[\"Z_LLeft\"], color=\"b\", label=\"Left Lip\")\n",
    "        ax.scatter(data[\"X_LR\"],data[\"Y_LR\"], data[\"Z_LR\"], color=\"g\",label=\"Right Lip\")\n",
    "        ax.scatter(data[\"X_UL\"],data[\"Y_UL\"], data[\"Z_UL\"], color=\"r\",label=\"Upper Lip\")\n",
    "        ax.scatter(data[\"X_LL\"],data[\"Y_LL\"], data[\"Z_LL\"], color=\"black\",label=\"Lower Lip\")\n",
    "\n",
    "\n",
    "        connectpoints(data, \"LLeft\", \"UL\")\n",
    "        connectpoints(data, \"LLeft\", \"LL\")\n",
    "        connectpoints(data, p1_sensor=\"LR\", p2_sensor=\"UL\")\n",
    "        connectpoints(data, p1_sensor=\"LR\", p2_sensor=\"LL\")\n",
    "        #connectpoints(data, p1_sensor=\"UL\", p2_sensor=\"LL\")\n",
    "        connectpoints(data, p1_sensor=\"LLeft\", p2_sensor=\"LR\")\n",
    "\n",
    "        ax.set_xlim(-40, 40)\n",
    "        ax.set_ylim(-90, -30)\n",
    "        ax.set_zlim(-290, -200)\n",
    "\n",
    "        ax.view_init(elev=-90, azim=-30)\n",
    "        plt.savefig('fig_results/%d.png'%frame, bbox_inches='tight')\n"
   ]
  },
  {
   "cell_type": "code",
   "execution_count": null,
   "metadata": {},
   "outputs": [],
   "source": [
    "plotFrameGenerator(OPEN_DF_HOL_1)"
   ]
  },
  {
   "cell_type": "code",
   "execution_count": null,
   "metadata": {},
   "outputs": [],
   "source": [
    "%matplotlib notebook\n",
    "%matplotlib notebook\n",
    "\n",
    "fig = plt.figure()\n",
    "ax = fig.add_subplot(111, projection='3d')\n",
    "\n",
    "ax.set_xlabel(\"x\")\n",
    "ax.set_ylabel(\"y\")\n",
    "ax.set_zlabel(\"z\")\n",
    "\n",
    "def connectpoints(DF_data, p1_sensor=\"\",p2_sensor=\"\"):\n",
    "    # the choices are LLEFT, LR, LL, LU in string format\n",
    "    x1 = data.iloc[0][\"X_%s\"%p1_sensor]\n",
    "    y1 = data.iloc[0][\"Y_%s\"%p1_sensor]\n",
    "    z1 = data.iloc[0][\"Z_%s\"%p1_sensor]\n",
    "\n",
    "    x2 = data.iloc[0][\"X_%s\"%p2_sensor]\n",
    "    y2 = data.iloc[0][\"Y_%s\"%p2_sensor]\n",
    "    z2 = data.iloc[0][\"Z_%s\"%p2_sensor]\n",
    "\n",
    "    plt.plot([x1,x2],[y1,y2],[z1,z2],'k-')\n",
    "    \n",
    "data=OPEN_DF.iloc[[1000]]\n",
    "ax.scatter(data[\"X_LLeft\"],data[\"Y_LLeft\"], data[\"Z_LLeft\"], color=\"b\", label=\"Left Lip\")\n",
    "ax.scatter(data[\"X_LR\"],data[\"Y_LR\"], data[\"Z_LR\"], color=\"g\",label=\"Right Lip\")\n",
    "ax.scatter(data[\"X_UL\"],data[\"Y_UL\"], data[\"Z_UL\"], color=\"r\",label=\"Upper Lip\")\n",
    "ax.scatter(data[\"X_LL\"],data[\"Y_LL\"], data[\"Z_LL\"], color=\"black\",label=\"Lower Lip\")\n",
    "\n",
    "\n",
    "connectpoints(data, \"LLeft\", \"UL\")\n",
    "connectpoints(data, \"LLeft\", \"LL\")\n",
    "connectpoints(data, p1_sensor=\"LR\", p2_sensor=\"UL\")\n",
    "connectpoints(data, p1_sensor=\"LR\", p2_sensor=\"LL\")\n",
    "#connectpoints(data, p1_sensor=\"UL\", p2_sensor=\"LL\")\n",
    "connectpoints(data, p1_sensor=\"LLeft\", p2_sensor=\"LR\")\n",
    "\n",
    "ax.set_xlim(-40, 40)\n",
    "ax.set_ylim(-90, -30)\n",
    "ax.set_zlim(-290, -200)\n",
    "print (ax.azim)\n",
    "ax.view_init(elev=-90, azim=-30)"
   ]
  },
  {
   "cell_type": "code",
   "execution_count": null,
   "metadata": {},
   "outputs": [],
   "source": [
    "OPEN_DF[[\"Time\", \"X_LLeft\",\"Y_LLeft\",\"Z_LLeft\", \"X_LR\",\"Y_LR\",\"Z_LR\",\"X_UL\", \"Y_UL\", \"Z_UL\",\"X_LL\",\"Y_LL\",\"Z_LL\"]].describe()\n",
    "\n",
    "\n"
   ]
  },
  {
   "cell_type": "markdown",
   "metadata": {},
   "source": [
    "### SAVE RESULT INTO RESULT DF"
   ]
  },
  {
   "cell_type": "code",
   "execution_count": null,
   "metadata": {},
   "outputs": [],
   "source": [
    "RESULT_DF = \n",
    "\n",
    "\n",
    "# WRITE THE DATA TO A SCV FILE \n",
    "\n",
    "#header = [\"Time\", 'Horiz_Lip_Motion', 'Vert_Lip_Motion']\n",
    "#OPEN_DF.to_csv('open_sensor_results.csv', columns = header)"
   ]
  },
  {
   "cell_type": "code",
   "execution_count": null,
   "metadata": {},
   "outputs": [],
   "source": [
    "%matplotlib notebook\n",
    "%matplotlib notebook\n",
    "\n",
    "fig = plt.figure()\n",
    "ax = fig.add_subplot(111, projection='3d')\n",
    "\n",
    "\n",
    "ax.set_xlabel(\"x\")\n",
    "ax.set_ylabel(\"y\")\n",
    "ax.set_zlabel(\"z\")\n",
    "\n",
    "\n",
    "def connectpoints(DF_data, p1_sensor=\"\",p2_sensor=\"\"):\n",
    "    # the choices are LLEFT, LR, LL, LU in string format\n",
    "    x1 = data.iloc[0][\"X_%s\"%p1_sensor]\n",
    "    y1 = data.iloc[0][\"Y_%s\"%p1_sensor]\n",
    "    z1 = data.iloc[0][\"Z_%s\"%p1_sensor]\n",
    "\n",
    "    x2 = data.iloc[0][\"X_%s\"%p2_sensor]\n",
    "    y2 = data.iloc[0][\"Y_%s\"%p2_sensor]\n",
    "    z2 = data.iloc[0][\"Z_%s\"%p2_sensor]\n",
    "\n",
    "    plt.plot([x1,x2],[y1,y2],[z1,z2],'k-')\n",
    "\n",
    "\n",
    "\n",
    "\n",
    "data=OPEN_DF.iloc[[frame]]\n",
    "ax.scatter(data[\"X_LLeft\"],data[\"Y_LLeft\"], data[\"Z_LLeft\"], color=\"b\", label=\"Left Lip\")\n",
    "ax.scatter(data[\"X_LR\"],data[\"Y_LR\"], data[\"Z_LR\"], color=\"g\",label=\"Right Lip\")\n",
    "ax.scatter(data[\"X_UL\"],data[\"Y_UL\"], data[\"Z_UL\"], color=\"r\",label=\"Upper Lip\")\n",
    "ax.scatter(data[\"X_LL\"],data[\"Y_LL\"], data[\"Z_LL\"], color=\"black\",label=\"Lower Lip\")\n",
    "\n",
    "\n",
    "#connectpoints(data, \"LLeft\", \"UL\")\n",
    "#connectpoints(data, \"LLeft\", \"LL\")\n",
    "#connectpoints(data, p1_sensor=\"LR\", p2_sensor=\"UL\")\n",
    "#connectpoints(data, p1_sensor=\"LR\", p2_sensor=\"LL\")\n",
    "#connectpoints(data, p1_sensor=\"UL\", p2_sensor=\"LL\")\n",
    "#connectpoints(data, p1_sensor=\"LLeft\", p2_sensor=\"LR\")\n",
    "plt.show()\n",
    "\n",
    "    "
   ]
  },
  {
   "cell_type": "code",
   "execution_count": null,
   "metadata": {},
   "outputs": [],
   "source": [
    "# WRITE THE DATA TO A SCV FILE \n",
    "\n",
    "#header = [\"Time\", 'Horiz_Lip_Motion', 'Vert_Lip_Motion']\n",
    "#OPEN_DF.to_csv('open_sensor_results.csv', columns = header)\n",
    "#BIGSMILE_DF.to_csv('bigsmile_sensor_results.csv', columns = header)\n",
    "#REST_DF.to_csv('rest_sensor_results.csv', columns = header)"
   ]
  },
  {
   "cell_type": "code",
   "execution_count": null,
   "metadata": {},
   "outputs": [],
   "source": [
    "nfr = len(OPEN_DF) # Number of frames\n",
    "fps = 10 # Frame per sec\n",
    "\n",
    "xs = []\n",
    "ys = []\n",
    "zs = []\n",
    "ss = np.arange(1,nfr,1)\n",
    "for s in ss:\n",
    "    xs.append(np.array((OPEN_DF.iloc[0][\"X_UL\"], OPEN_DF.iloc[0][\"X_LL\"], OPEN_DF.iloc[0][\"X_LLeft\"],OPEN_DF.iloc[0][\"X_LR\"])))\n",
    "    ys.append(np.array((OPEN_DF.iloc[0][\"X_UL\"], OPEN_DF.iloc[0][\"X_LL\"], OPEN_DF.iloc[0][\"X_LLeft\"],OPEN_DF.iloc[0][\"X_LR\"])))\n",
    "    zs.append(np.array((OPEN_DF.iloc[0][\"X_UL\"], OPEN_DF.iloc[0][\"X_LL\"], OPEN_DF.iloc[0][\"X_LLeft\"],OPEN_DF.iloc[0][\"X_LR\"])))\n",
    "   \n"
   ]
  },
  {
   "cell_type": "code",
   "execution_count": null,
   "metadata": {},
   "outputs": [],
   "source": [
    "%matplotlib notebook\n",
    "%matplotlib notebook\n",
    "fig =  plt.figure()\n",
    "ax = fig.add_subplot(111, projection='3d')\n",
    "sct, = ax.plot([], [], [], \"o\", markersize=2)\n",
    "def update(ifrm, xa, ya, za):\n",
    "    sct.set_data(xa[ifrm], ya[ifrm])\n",
    "    sct.set_3d_properties(za[ifrm])\n",
    "ax.set_xlim(-100,100)\n",
    "ax.set_ylim(-100,100)\n",
    "ax.set_zlim(-100,100)\n",
    "ani = animation.FuncAnimation(fig, update, nfr, fargs=(xs,ys,zs), interval=1000/fps,  repeat=False, blit=False)\n"
   ]
  }
 ],
 "metadata": {
  "kernelspec": {
   "display_name": "Python 3",
   "language": "python",
   "name": "python3"
  },
  "language_info": {
   "codemirror_mode": {
    "name": "ipython",
    "version": 3
   },
   "file_extension": ".py",
   "mimetype": "text/x-python",
   "name": "python",
   "nbconvert_exporter": "python",
   "pygments_lexer": "ipython3",
   "version": "3.7.3"
  }
 },
 "nbformat": 4,
 "nbformat_minor": 2
}
